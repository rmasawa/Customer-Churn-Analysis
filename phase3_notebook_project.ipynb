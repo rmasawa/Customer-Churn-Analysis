{
 "cells": [
  {
   "cell_type": "markdown",
   "id": "0fd68569",
   "metadata": {},
   "source": [
    "### **UNDERSTANDING CONSUMER BEHAVIOUR ANALYSIS**  \n",
    "\n",
    "### A Machine Learning Approach for E-Commerce Trends"
   ]
  },
  {
   "cell_type": "markdown",
   "id": "f73d33c7",
   "metadata": {},
   "source": [
    "**Student Name: Rodgers Otieno**\n",
    "\n",
    "**Technical Mentor: George Kamundia**\n",
    "\n",
    "**Phase: Phase 3 Project**\n",
    "\n",
    "**Deadline:**"
   ]
  },
  {
   "cell_type": "markdown",
   "id": "ca37a25d",
   "metadata": {},
   "source": [
    "### **Table of Content**"
   ]
  },
  {
   "cell_type": "markdown",
   "id": "c763aad1",
   "metadata": {},
   "source": [
    "[1.0 Introduction](#1.0-introduction) </br>\n",
    "[1.1 Business Understanding](#1.1-business-understanding) </br>\n",
    "[1.2 Problem Statement](#1.2-problem-statement) </br>\n",
    "[1.3 Objectives](#1.3-objectives) </br>\n",
    "[2.0 Libraries](#2.0-libraries)</br>\n",
    "[2.1 Importing Libraries](#2.1-importing-libraries)</br>\n",
    "[2.2 Importing Datasets](#2.2-loading-datasets)</br>\n",
    "[3.0 Data Understanding](#3.0-data-understanding)</br>\n",
    "[4.0 Data Cleaning](#4.0-data-cleaning)</br>\n",
    "[5.0 Exploratory Data Analysis](#5.0-exploratory-data-analysis)</br>\n"
   ]
  },
  {
   "cell_type": "markdown",
   "id": "67e6eb40",
   "metadata": {},
   "source": [
    "### **1.0) Introduction.**    \n"
   ]
  },
  {
   "cell_type": "markdown",
   "id": "35ec140c",
   "metadata": {},
   "source": [
    "The main of this project is to predict which customers are going to switch their mobile telephone carrier. What is the chance that a customer will switch to anoither provider\n",
    "\n",
    "Customer churn is the loss of clients. Telephone companies use customer churn rates to as abusiness metric to since the cost of retaining an existing customer is less than acquiring a new customer.\n",
    "\n"
   ]
  },
  {
   "cell_type": "markdown",
   "id": "c1c7b4c3",
   "metadata": {},
   "source": [
    "&nbsp;&nbsp;&nbsp;&nbsp;&nbsp;&nbsp;&nbsp;&nbsp;&nbsp;&nbsp;&nbsp;&nbsp;&nbsp;&nbsp;&nbsp;&nbsp;&nbsp;&nbsp;&nbsp;&nbsp;&nbsp;&nbsp;&nbsp;&nbsp;&nbsp;&nbsp;&nbsp;&nbsp;&nbsp;&nbsp;&nbsp;&nbsp;&nbsp;&nbsp;&nbsp;&nbsp;&nbsp;&nbsp;&nbsp;&nbsp;&nbsp;&nbsp;&nbsp;&nbsp;&nbsp;&nbsp;&nbsp;&nbsp;&nbsp;&nbsp;&nbsp;&nbsp;&nbsp;&nbsp;&nbsp;&nbsp;&nbsp;&nbsp;&nbsp;&nbsp;&nbsp;&nbsp;&nbsp;&nbsp;&nbsp;&nbsp;&nbsp;&nbsp;&nbsp;&nbsp;&nbsp;&nbsp;&nbsp;&nbsp;&nbsp;&nbsp;&nbsp;&nbsp;&nbsp;&nbsp;&nbsp;&nbsp;&nbsp;&nbsp;&nbsp;&nbsp;&nbsp;&nbsp;&nbsp;&nbsp;&nbsp;&nbsp;&nbsp;&nbsp;&nbsp;&nbsp;&nbsp;&nbsp;&nbsp;&nbsp;&nbsp;&nbsp;&nbsp;&nbsp;&nbsp;&nbsp;&nbsp;&nbsp;&nbsp;&nbsp;&nbsp;&nbsp;&nbsp;&nbsp;&nbsp;&nbsp;&nbsp;&nbsp;&nbsp;&nbsp;&nbsp;&nbsp;&nbsp;&nbsp;&nbsp;&nbsp;&nbsp;&nbsp;&nbsp;&nbsp;&nbsp;&nbsp;&nbsp;&nbsp;&nbsp;&nbsp;&nbsp;&nbsp;&nbsp;&nbsp;&nbsp;&nbsp;&nbsp;&nbsp;&nbsp;&nbsp;&nbsp;&nbsp;&nbsp;&nbsp;&nbsp;&nbsp;&nbsp;&nbsp;&nbsp;&nbsp;&nbsp;&nbsp;&nbsp;&nbsp;&nbsp;&nbsp;&nbsp;&nbsp;&nbsp;&nbsp;&nbsp;&nbsp;&nbsp;&nbsp;&nbsp;&nbsp;&nbsp;&nbsp;&nbsp;&nbsp;&nbsp;&nbsp;&nbsp;&nbsp;&nbsp;&nbsp;&nbsp;&nbsp;&nbsp;&nbsp;&nbsp;&nbsp;&nbsp;&nbsp;&nbsp;&nbsp;&nbsp;&nbsp;&nbsp;&nbsp;&nbsp;&nbsp;&nbsp;&nbsp;&nbsp;&nbsp;&nbsp;&nbsp;&nbsp;&nbsp;&nbsp;&nbsp;&nbsp;&nbsp;&nbsp;&nbsp;&nbsp;&nbsp;&nbsp;&nbsp;&nbsp;&nbsp;&nbsp;&nbsp;&nbsp;&nbsp;&nbsp;&nbsp;&nbsp;&nbsp;&nbsp;&nbsp;&nbsp;&nbsp;&nbsp;&nbsp;&nbsp;&nbsp;&nbsp;&nbsp;&nbsp;&nbsp;&nbsp;&nbsp;&nbsp;&nbsp;&nbsp;&nbsp;&nbsp;&nbsp;&nbsp;&nbsp;&nbsp;&nbsp;&nbsp;&nbsp;&nbsp;&nbsp;&nbsp;&nbsp;&nbsp;&nbsp;&nbsp;&nbsp;&nbsp;&nbsp;&nbsp;&nbsp;&nbsp;&nbsp;&nbsp;&nbsp;&nbsp;&nbsp;&nbsp;&nbsp;&nbsp;&nbsp;&nbsp;&nbsp;&nbsp;&nbsp;&nbsp;&nbsp;&nbsp;&nbsp;&nbsp;&nbsp;&nbsp;&nbsp;&nbsp;&nbsp;&nbsp;&nbsp;&nbsp;&nbsp;&nbsp;&nbsp;&nbsp;&nbsp;&nbsp;&nbsp; [Back to ToC](#table-of-content)</br>"
   ]
  },
  {
   "cell_type": "markdown",
   "id": "021a1d8f",
   "metadata": {},
   "source": [
    "Business problem\n"
   ]
  },
  {
   "cell_type": "markdown",
   "id": "3f092c45",
   "metadata": {},
   "source": [
    "Ther Telco business is highly competitive and SyriaTel among other provciders faces customer churn. While is difficult to acquire new customers than retain the existing ones, this projects looks at identfying the churnrate through modeled outputs so that the business manages can find strategic retention measures. \n",
    "\n"
   ]
  },
  {
   "cell_type": "markdown",
   "id": "a7d7a170",
   "metadata": {},
   "source": [
    "What are the possible reasons for churning?"
   ]
  },
  {
   "cell_type": "markdown",
   "id": "68e5026c",
   "metadata": {},
   "source": [
    "Is the model perfect, is it reliable?"
   ]
  },
  {
   "cell_type": "markdown",
   "id": "a9c1e929",
   "metadata": {},
   "source": [
    "&nbsp;&nbsp;&nbsp;&nbsp;&nbsp;&nbsp;&nbsp;&nbsp;&nbsp;&nbsp;&nbsp;&nbsp;&nbsp;&nbsp;&nbsp;&nbsp;&nbsp;&nbsp;&nbsp;&nbsp;&nbsp;&nbsp;&nbsp;&nbsp;&nbsp;&nbsp;&nbsp;&nbsp;&nbsp;&nbsp;&nbsp;&nbsp;&nbsp;&nbsp;&nbsp;&nbsp;&nbsp;&nbsp;&nbsp;&nbsp;&nbsp;&nbsp;&nbsp;&nbsp;&nbsp;&nbsp;&nbsp;&nbsp;&nbsp;&nbsp;&nbsp;&nbsp;&nbsp;&nbsp;&nbsp;&nbsp;&nbsp;&nbsp;&nbsp;&nbsp;&nbsp;&nbsp;&nbsp;&nbsp;&nbsp;&nbsp;&nbsp;&nbsp;&nbsp;&nbsp;&nbsp;&nbsp;&nbsp;&nbsp;&nbsp;&nbsp;&nbsp;&nbsp;&nbsp;&nbsp;&nbsp;&nbsp;&nbsp;&nbsp;&nbsp;&nbsp;&nbsp;&nbsp;&nbsp;&nbsp;&nbsp;&nbsp;&nbsp;&nbsp;&nbsp;&nbsp;&nbsp;&nbsp;&nbsp;&nbsp;&nbsp;&nbsp;&nbsp;&nbsp;&nbsp;&nbsp;&nbsp;&nbsp;&nbsp;&nbsp;&nbsp;&nbsp;&nbsp;&nbsp;&nbsp;&nbsp;&nbsp;&nbsp;&nbsp;&nbsp;&nbsp;&nbsp;&nbsp;&nbsp;&nbsp;&nbsp;&nbsp;&nbsp;&nbsp;&nbsp;&nbsp;&nbsp;&nbsp;&nbsp;&nbsp;&nbsp;&nbsp;&nbsp;&nbsp;&nbsp;&nbsp;&nbsp;&nbsp;&nbsp;&nbsp;&nbsp;&nbsp;&nbsp;&nbsp;&nbsp;&nbsp;&nbsp;&nbsp;&nbsp;&nbsp;&nbsp;&nbsp;&nbsp;&nbsp;&nbsp;&nbsp;&nbsp;&nbsp;&nbsp;&nbsp;&nbsp;&nbsp;&nbsp;&nbsp;&nbsp;&nbsp;&nbsp;&nbsp;&nbsp;&nbsp;&nbsp;&nbsp;&nbsp;&nbsp;&nbsp;&nbsp;&nbsp;&nbsp;&nbsp;&nbsp;&nbsp;&nbsp;&nbsp;&nbsp;&nbsp;&nbsp;&nbsp;&nbsp;&nbsp;&nbsp;&nbsp;&nbsp;&nbsp;&nbsp;&nbsp;&nbsp;&nbsp;&nbsp;&nbsp;&nbsp;&nbsp;&nbsp;&nbsp;&nbsp;&nbsp;&nbsp;&nbsp;&nbsp;&nbsp;&nbsp;&nbsp;&nbsp;&nbsp;&nbsp;&nbsp;&nbsp;&nbsp;&nbsp;&nbsp;&nbsp;&nbsp;&nbsp;&nbsp;&nbsp;&nbsp;&nbsp;&nbsp;&nbsp;&nbsp;&nbsp;&nbsp;&nbsp;&nbsp;&nbsp;&nbsp;&nbsp;&nbsp;&nbsp;&nbsp;&nbsp;&nbsp;&nbsp;&nbsp;&nbsp;&nbsp;&nbsp;&nbsp;&nbsp;&nbsp;&nbsp;&nbsp;&nbsp;&nbsp;&nbsp;&nbsp;&nbsp;&nbsp;&nbsp;&nbsp;&nbsp;&nbsp;&nbsp;&nbsp;&nbsp;&nbsp;&nbsp;&nbsp;&nbsp;&nbsp;&nbsp;&nbsp;&nbsp;[Back to Intro](#1.0-introduction) &nbsp;&nbsp;&nbsp;&nbsp;&nbsp;&nbsp;&nbsp;&nbsp;&nbsp; [Back to ToC](#table-of-content)"
   ]
  },
  {
   "cell_type": "markdown",
   "id": "bff753db",
   "metadata": {},
   "source": [
    "### **1.2) Problem Statement.** \n"
   ]
  },
  {
   "cell_type": "markdown",
   "id": "4d0d71d1",
   "metadata": {},
   "source": [
    "Which customers have th highest probability of switiching to another provider?"
   ]
  },
  {
   "cell_type": "markdown",
   "id": "43d38602",
   "metadata": {},
   "source": [
    "&nbsp;&nbsp;&nbsp;&nbsp;&nbsp;&nbsp;&nbsp;&nbsp;&nbsp;&nbsp;&nbsp;&nbsp;&nbsp;&nbsp;&nbsp;&nbsp;&nbsp;&nbsp;&nbsp;&nbsp;&nbsp;&nbsp;&nbsp;&nbsp;&nbsp;&nbsp;&nbsp;&nbsp;&nbsp;&nbsp;&nbsp;&nbsp;&nbsp;&nbsp;&nbsp;&nbsp;&nbsp;&nbsp;&nbsp;&nbsp;&nbsp;&nbsp;&nbsp;&nbsp;&nbsp;&nbsp;&nbsp;&nbsp;&nbsp;&nbsp;&nbsp;&nbsp;&nbsp;&nbsp;&nbsp;&nbsp;&nbsp;&nbsp;&nbsp;&nbsp;&nbsp;&nbsp;&nbsp;&nbsp;&nbsp;&nbsp;&nbsp;&nbsp;&nbsp;&nbsp;&nbsp;&nbsp;&nbsp;&nbsp;&nbsp;&nbsp;&nbsp;&nbsp;&nbsp;&nbsp;&nbsp;&nbsp;&nbsp;&nbsp;&nbsp;&nbsp;&nbsp;&nbsp;&nbsp;&nbsp;&nbsp;&nbsp;&nbsp;&nbsp;&nbsp;&nbsp;&nbsp;&nbsp;&nbsp;&nbsp;&nbsp;&nbsp;&nbsp;&nbsp;&nbsp;&nbsp;&nbsp;&nbsp;&nbsp;&nbsp;&nbsp;&nbsp;&nbsp;&nbsp;&nbsp;&nbsp;&nbsp;&nbsp;&nbsp;&nbsp;&nbsp;&nbsp;&nbsp;&nbsp;&nbsp;&nbsp;&nbsp;&nbsp;&nbsp;&nbsp;&nbsp;&nbsp;&nbsp;&nbsp;&nbsp;&nbsp;&nbsp;&nbsp;&nbsp;&nbsp;&nbsp;&nbsp;&nbsp;&nbsp;&nbsp;&nbsp;&nbsp;&nbsp;&nbsp;&nbsp;&nbsp;&nbsp;&nbsp;&nbsp;&nbsp;&nbsp;&nbsp;&nbsp;&nbsp;&nbsp;&nbsp;&nbsp;&nbsp;&nbsp;&nbsp;&nbsp;&nbsp;&nbsp;&nbsp;&nbsp;&nbsp;&nbsp;&nbsp;&nbsp;&nbsp;&nbsp;&nbsp;&nbsp;&nbsp;&nbsp;&nbsp;&nbsp;&nbsp;&nbsp;&nbsp;&nbsp;&nbsp;&nbsp;&nbsp;&nbsp;&nbsp;&nbsp;&nbsp;&nbsp;&nbsp;&nbsp;&nbsp;&nbsp;&nbsp;&nbsp;&nbsp;&nbsp;&nbsp;&nbsp;&nbsp;&nbsp;&nbsp;&nbsp;&nbsp;&nbsp;&nbsp;&nbsp;&nbsp;&nbsp;&nbsp;&nbsp;&nbsp;&nbsp;&nbsp;&nbsp;&nbsp;&nbsp;&nbsp;&nbsp;&nbsp;&nbsp;&nbsp;&nbsp;&nbsp;&nbsp;&nbsp;&nbsp;&nbsp;&nbsp;&nbsp;&nbsp;&nbsp;&nbsp;&nbsp;&nbsp;&nbsp;&nbsp;&nbsp;&nbsp;&nbsp;&nbsp;&nbsp;&nbsp;&nbsp;[Back to Business Und](#1.1-business-understanding) &nbsp;&nbsp;&nbsp;&nbsp;&nbsp;&nbsp;&nbsp;&nbsp;&nbsp; [Back to ToC](#table-of-content)"
   ]
  },
  {
   "cell_type": "markdown",
   "id": "b7323af9",
   "metadata": {},
   "source": [
    "&nbsp;&nbsp;&nbsp;&nbsp;&nbsp;&nbsp;&nbsp;&nbsp;&nbsp;&nbsp;&nbsp;&nbsp;&nbsp;&nbsp;&nbsp;&nbsp;&nbsp;&nbsp;&nbsp;&nbsp;&nbsp;&nbsp;&nbsp;&nbsp;&nbsp;&nbsp;&nbsp;&nbsp;&nbsp;&nbsp;&nbsp;&nbsp;&nbsp;&nbsp;&nbsp;&nbsp;&nbsp;&nbsp;&nbsp;&nbsp;&nbsp;&nbsp;&nbsp;&nbsp;&nbsp;&nbsp;&nbsp;&nbsp;&nbsp;&nbsp;&nbsp;&nbsp;&nbsp;&nbsp;&nbsp;&nbsp;&nbsp;&nbsp;&nbsp;&nbsp;&nbsp;&nbsp;&nbsp;&nbsp;&nbsp;&nbsp;&nbsp;&nbsp;&nbsp;&nbsp;&nbsp;&nbsp;&nbsp;&nbsp;&nbsp;&nbsp;&nbsp;&nbsp;&nbsp;&nbsp;&nbsp;&nbsp;&nbsp;&nbsp;&nbsp;&nbsp;&nbsp;&nbsp;&nbsp;&nbsp;&nbsp;&nbsp;&nbsp;&nbsp;&nbsp;&nbsp;&nbsp;&nbsp;&nbsp;&nbsp;&nbsp;&nbsp;&nbsp;&nbsp;&nbsp;&nbsp;&nbsp;&nbsp;&nbsp;&nbsp;&nbsp;&nbsp;&nbsp;&nbsp;&nbsp;&nbsp;&nbsp;&nbsp;&nbsp;&nbsp;&nbsp;&nbsp;&nbsp;&nbsp;&nbsp;&nbsp;&nbsp;&nbsp;&nbsp;&nbsp;&nbsp;&nbsp;&nbsp;&nbsp;&nbsp;&nbsp;&nbsp;&nbsp;&nbsp;&nbsp;&nbsp;&nbsp;&nbsp;&nbsp;&nbsp;&nbsp;&nbsp;&nbsp;&nbsp;&nbsp;&nbsp;&nbsp;&nbsp;&nbsp;&nbsp;&nbsp;&nbsp;&nbsp;&nbsp;&nbsp;&nbsp;&nbsp;&nbsp;&nbsp;&nbsp;&nbsp;&nbsp;&nbsp;&nbsp;&nbsp;&nbsp;&nbsp;&nbsp;&nbsp;&nbsp;&nbsp;&nbsp;&nbsp;&nbsp;&nbsp;&nbsp;&nbsp;&nbsp;&nbsp;&nbsp;&nbsp;&nbsp;&nbsp;&nbsp;&nbsp;&nbsp;&nbsp;&nbsp;&nbsp;&nbsp;&nbsp;&nbsp;&nbsp;&nbsp;&nbsp;&nbsp;&nbsp;&nbsp;&nbsp;&nbsp;&nbsp;&nbsp;&nbsp;&nbsp;&nbsp;&nbsp;&nbsp;&nbsp;&nbsp;&nbsp;&nbsp;&nbsp;&nbsp;&nbsp;&nbsp;&nbsp;&nbsp;&nbsp;&nbsp;&nbsp;&nbsp;&nbsp;&nbsp;&nbsp;&nbsp;&nbsp;&nbsp;&nbsp;&nbsp;&nbsp;&nbsp;&nbsp;&nbsp;&nbsp;&nbsp;&nbsp;&nbsp;&nbsp;&nbsp;&nbsp;&nbsp;&nbsp;&nbsp;&nbsp;&nbsp;&nbsp;&nbsp;&nbsp;&nbsp;&nbsp;&nbsp;&nbsp;&nbsp;&nbsp;&nbsp;&nbsp;&nbsp;&nbsp;&nbsp;&nbsp;&nbsp;&nbsp;&nbsp;&nbsp;&nbsp;&nbsp;&nbsp;&nbsp;&nbsp;&nbsp;&nbsp;&nbsp;&nbsp;&nbsp;&nbsp;&nbsp;&nbsp;&nbsp;&nbsp;&nbsp;&nbsp;&nbsp;&nbsp;&nbsp;&nbsp;&nbsp;&nbsp;&nbsp;&nbsp;&nbsp;&nbsp;&nbsp;&nbsp; [&uarr;](#table-of-content)</br>"
   ]
  },
  {
   "cell_type": "markdown",
   "id": "fe22ae7a",
   "metadata": {},
   "source": [
    "### **1.3) Objectives.**"
   ]
  },
  {
   "cell_type": "markdown",
   "id": "bd0b2739",
   "metadata": {},
   "source": []
  },
  {
   "cell_type": "markdown",
   "id": "0a67135d",
   "metadata": {},
   "source": []
  },
  {
   "cell_type": "markdown",
   "id": "47033735",
   "metadata": {},
   "source": []
  },
  {
   "cell_type": "markdown",
   "id": "67ffc55a",
   "metadata": {},
   "source": [
    "&nbsp;&nbsp;&nbsp;&nbsp;&nbsp;&nbsp;&nbsp;&nbsp;&nbsp;&nbsp;&nbsp;&nbsp;&nbsp;&nbsp;&nbsp;&nbsp;&nbsp;&nbsp;&nbsp;&nbsp;&nbsp;&nbsp;&nbsp;&nbsp;&nbsp;&nbsp;&nbsp;&nbsp;&nbsp;&nbsp;&nbsp;&nbsp;&nbsp;&nbsp;&nbsp;&nbsp;&nbsp;&nbsp;&nbsp;&nbsp;&nbsp;&nbsp;&nbsp;&nbsp;&nbsp;&nbsp;&nbsp;&nbsp;&nbsp;&nbsp;&nbsp;&nbsp;&nbsp;&nbsp;&nbsp;&nbsp;&nbsp;&nbsp;&nbsp;&nbsp;&nbsp;&nbsp;&nbsp;&nbsp;&nbsp;&nbsp;&nbsp;&nbsp;&nbsp;&nbsp;&nbsp;&nbsp;&nbsp;&nbsp;&nbsp;&nbsp;&nbsp;&nbsp;&nbsp;&nbsp;&nbsp;&nbsp;&nbsp;&nbsp;&nbsp;&nbsp;&nbsp;&nbsp;&nbsp;&nbsp;&nbsp;&nbsp;&nbsp;&nbsp;&nbsp;&nbsp;&nbsp;&nbsp;&nbsp;&nbsp;&nbsp;&nbsp;&nbsp;&nbsp;&nbsp;&nbsp;&nbsp;&nbsp;&nbsp;&nbsp;&nbsp;&nbsp;&nbsp;&nbsp;&nbsp;&nbsp;&nbsp;&nbsp;&nbsp;&nbsp;&nbsp;&nbsp;&nbsp;&nbsp;&nbsp;&nbsp;&nbsp;&nbsp;&nbsp;&nbsp;&nbsp;&nbsp;&nbsp;&nbsp;&nbsp;&nbsp;&nbsp;&nbsp;&nbsp;&nbsp;&nbsp;&nbsp;&nbsp;&nbsp;&nbsp;&nbsp;&nbsp;&nbsp;&nbsp;&nbsp;&nbsp;&nbsp;&nbsp;&nbsp;&nbsp;&nbsp;&nbsp;&nbsp;&nbsp;&nbsp;&nbsp;&nbsp;&nbsp;&nbsp;&nbsp;&nbsp;&nbsp;&nbsp;&nbsp;&nbsp;&nbsp;&nbsp;&nbsp;&nbsp;&nbsp;&nbsp;&nbsp;&nbsp;&nbsp;&nbsp;&nbsp;&nbsp;&nbsp;&nbsp;&nbsp;&nbsp;&nbsp;&nbsp;&nbsp;&nbsp;&nbsp;&nbsp;&nbsp;&nbsp;&nbsp;&nbsp;&nbsp;&nbsp;&nbsp;&nbsp;&nbsp;&nbsp;&nbsp;&nbsp;&nbsp;&nbsp;&nbsp;&nbsp;&nbsp;&nbsp;&nbsp;&nbsp;&nbsp;&nbsp;&nbsp;&nbsp;&nbsp;&nbsp;&nbsp;&nbsp;&nbsp;&nbsp;&nbsp;&nbsp;&nbsp;&nbsp;&nbsp;&nbsp;&nbsp;&nbsp;&nbsp;&nbsp;&nbsp;&nbsp;&nbsp;&nbsp;&nbsp;&nbsp;&nbsp;&nbsp;&nbsp;&nbsp;&nbsp;&nbsp;&nbsp;&nbsp;&nbsp;[Back to Prob Statmnt](#1.2-problem-statement) &nbsp;&nbsp;&nbsp;&nbsp;&nbsp;&nbsp;&nbsp;&nbsp;&nbsp; [Back to ToC](#table-of-content)"
   ]
  },
  {
   "cell_type": "markdown",
   "id": "29e8c0c3",
   "metadata": {},
   "source": [
    "&nbsp;&nbsp;&nbsp;&nbsp;&nbsp;&nbsp;&nbsp;&nbsp;&nbsp;&nbsp;&nbsp;&nbsp;&nbsp;&nbsp;&nbsp;&nbsp;&nbsp;&nbsp;&nbsp;&nbsp;&nbsp;&nbsp;&nbsp;&nbsp;&nbsp;&nbsp;&nbsp;&nbsp;&nbsp;&nbsp;&nbsp;&nbsp;&nbsp;&nbsp;&nbsp;&nbsp;&nbsp;&nbsp;&nbsp;&nbsp;&nbsp;&nbsp;&nbsp;&nbsp;&nbsp;&nbsp;&nbsp;&nbsp;&nbsp;&nbsp;&nbsp;&nbsp;&nbsp;&nbsp;&nbsp;&nbsp;&nbsp;&nbsp;&nbsp;&nbsp;&nbsp;&nbsp;&nbsp;&nbsp;&nbsp;&nbsp;&nbsp;&nbsp;&nbsp;&nbsp;&nbsp;&nbsp;&nbsp;&nbsp;&nbsp;&nbsp;&nbsp;&nbsp;&nbsp;&nbsp;&nbsp;&nbsp;&nbsp;&nbsp;&nbsp;&nbsp;&nbsp;&nbsp;&nbsp;&nbsp;&nbsp;&nbsp;&nbsp;&nbsp;&nbsp;&nbsp;&nbsp;&nbsp;&nbsp;&nbsp;&nbsp;&nbsp;&nbsp;&nbsp;&nbsp;&nbsp;&nbsp;&nbsp;&nbsp;&nbsp;&nbsp;&nbsp;&nbsp;&nbsp;&nbsp;&nbsp;&nbsp;&nbsp;&nbsp;&nbsp;&nbsp;&nbsp;&nbsp;&nbsp;&nbsp;&nbsp;&nbsp;&nbsp;&nbsp;&nbsp;&nbsp;&nbsp;&nbsp;&nbsp;&nbsp;&nbsp;&nbsp;&nbsp;&nbsp;&nbsp;&nbsp;&nbsp;&nbsp;&nbsp;&nbsp;&nbsp;&nbsp;&nbsp;&nbsp;&nbsp;&nbsp;&nbsp;&nbsp;&nbsp;&nbsp;&nbsp;&nbsp;&nbsp;&nbsp;&nbsp;&nbsp;&nbsp;&nbsp;&nbsp;&nbsp;&nbsp;&nbsp;&nbsp;&nbsp;&nbsp;&nbsp;&nbsp;&nbsp;&nbsp;&nbsp;&nbsp;&nbsp;&nbsp;&nbsp;&nbsp;&nbsp;&nbsp;&nbsp;&nbsp;&nbsp;&nbsp;&nbsp;&nbsp;&nbsp;&nbsp;&nbsp;&nbsp;&nbsp;&nbsp;&nbsp;&nbsp;&nbsp;&nbsp;&nbsp;&nbsp;&nbsp;&nbsp;&nbsp;&nbsp;&nbsp;&nbsp;&nbsp;&nbsp;&nbsp;&nbsp;&nbsp;&nbsp;&nbsp;&nbsp;&nbsp;&nbsp;&nbsp;&nbsp;&nbsp;&nbsp;&nbsp;&nbsp;&nbsp;&nbsp;&nbsp;&nbsp;&nbsp;&nbsp;&nbsp;&nbsp;&nbsp;&nbsp;&nbsp;&nbsp;&nbsp;&nbsp;&nbsp;&nbsp;&nbsp;&nbsp;&nbsp;&nbsp;&nbsp;&nbsp;&nbsp;&nbsp;&nbsp;&nbsp;&nbsp;&nbsp;&nbsp;&nbsp;&nbsp;&nbsp;&nbsp;&nbsp;&nbsp;&nbsp;&nbsp;&nbsp;&nbsp;&nbsp;&nbsp;&nbsp;&nbsp;&nbsp;&nbsp;&nbsp;&nbsp;&nbsp;&nbsp;&nbsp;&nbsp;&nbsp;&nbsp;&nbsp;&nbsp;&nbsp;&nbsp;&nbsp;&nbsp;&nbsp;&nbsp;&nbsp;&nbsp;&nbsp;&nbsp;&nbsp;&nbsp;&nbsp;&nbsp;&nbsp;&nbsp;&nbsp;&nbsp;&nbsp;&nbsp;&nbsp; [&uarr;](#table-of-content)</br>"
   ]
  },
  {
   "cell_type": "markdown",
   "id": "f204f5ca",
   "metadata": {},
   "source": [
    "### **2.0) Libraries**"
   ]
  },
  {
   "cell_type": "markdown",
   "id": "d0c254e5",
   "metadata": {},
   "source": [
    "### **2.1) Importing Libraries**"
   ]
  },
  {
   "cell_type": "code",
   "execution_count": 249,
   "id": "fd2088df",
   "metadata": {},
   "outputs": [],
   "source": [
    "import pandas as pd\n",
    "import matplotlib.pyplot as plt\n",
    "import numpy as np\n",
    "import seaborn as sns\n",
    "from sklearn import preprocessing\n",
    "from sklearn.model_selection import StratifiedKFold\n",
    "from sklearn.base import clone\n",
    "from sklearn.ensemble import GradientBoostingClassifier\n",
    "from sklearn.svm import SVC\n",
    "from sklearn.ensemble import RandomForestClassifier\n",
    "from sklearn.neighbors import KNeighborsClassifier\n",
    "from sklearn.tree import DecisionTreeClassifier\n",
    "from sklearn.linear_model import LogisticRegression\n",
    "from sklearn.model_selection import cross_val_score\n",
    "from sklearn.base import BaseEstimator\n",
    "from sklearn.model_selection import cross_val_predict\n",
    "from sklearn.metrics import confusion_matrix\n",
    "from sklearn.metrics import ConfusionMatrixDisplay\n",
    "from sklearn.metrics import precision_score, recall_score\n",
    "from sklearn.metrics import precision_recall_curve\n",
    "from sklearn.metrics import roc_curve"
   ]
  },
  {
   "cell_type": "markdown",
   "id": "714a34ad",
   "metadata": {},
   "source": [
    "&nbsp;&nbsp;&nbsp;&nbsp;&nbsp;&nbsp;&nbsp;&nbsp;&nbsp;&nbsp;&nbsp;&nbsp;&nbsp;&nbsp;&nbsp;&nbsp;&nbsp;&nbsp;&nbsp;&nbsp;&nbsp;&nbsp;&nbsp;&nbsp;&nbsp;&nbsp;&nbsp;&nbsp;&nbsp;&nbsp;&nbsp;&nbsp;&nbsp;&nbsp;&nbsp;&nbsp;&nbsp;&nbsp;&nbsp;&nbsp;&nbsp;&nbsp;&nbsp;&nbsp;&nbsp;&nbsp;&nbsp;&nbsp;&nbsp;&nbsp;&nbsp;&nbsp;&nbsp;&nbsp;&nbsp;&nbsp;&nbsp;&nbsp;&nbsp;&nbsp;&nbsp;&nbsp;&nbsp;&nbsp;&nbsp;&nbsp;&nbsp;&nbsp;&nbsp;&nbsp;&nbsp;&nbsp;&nbsp;&nbsp;&nbsp;&nbsp;&nbsp;&nbsp;&nbsp;&nbsp;&nbsp;&nbsp;&nbsp;&nbsp;&nbsp;&nbsp;&nbsp;&nbsp;&nbsp;&nbsp;&nbsp;&nbsp;&nbsp;&nbsp;&nbsp;&nbsp;&nbsp;&nbsp;&nbsp;&nbsp;&nbsp;&nbsp;&nbsp;&nbsp;&nbsp;&nbsp;&nbsp;&nbsp;&nbsp;&nbsp;&nbsp;&nbsp;&nbsp;&nbsp;&nbsp;&nbsp;&nbsp;&nbsp;&nbsp;&nbsp;&nbsp;&nbsp;&nbsp;&nbsp;&nbsp;&nbsp;&nbsp;&nbsp;&nbsp;&nbsp;&nbsp;&nbsp;&nbsp;&nbsp;&nbsp;&nbsp;&nbsp;&nbsp;&nbsp;&nbsp;&nbsp;&nbsp;&nbsp;&nbsp;&nbsp;&nbsp;&nbsp;&nbsp;&nbsp;&nbsp;&nbsp;&nbsp;&nbsp;&nbsp;&nbsp;&nbsp;&nbsp;&nbsp;&nbsp;&nbsp;&nbsp;&nbsp;&nbsp;&nbsp;&nbsp;&nbsp;&nbsp;&nbsp;&nbsp;&nbsp;&nbsp;&nbsp;&nbsp;&nbsp;&nbsp;&nbsp;&nbsp;&nbsp;&nbsp;&nbsp;&nbsp;&nbsp;&nbsp;&nbsp;&nbsp;&nbsp;&nbsp;&nbsp;&nbsp;&nbsp;&nbsp;&nbsp;&nbsp;&nbsp;&nbsp;&nbsp;&nbsp;&nbsp;&nbsp;&nbsp;&nbsp;&nbsp;&nbsp;&nbsp;&nbsp;&nbsp;&nbsp;&nbsp;&nbsp;&nbsp;&nbsp;&nbsp;&nbsp;&nbsp;&nbsp;&nbsp;&nbsp;&nbsp;&nbsp;&nbsp;&nbsp;&nbsp;&nbsp;&nbsp;&nbsp;&nbsp;&nbsp;&nbsp;&nbsp;&nbsp;&nbsp;&nbsp;&nbsp;&nbsp;&nbsp;&nbsp;&nbsp;&nbsp;&nbsp;&nbsp;&nbsp;&nbsp;&nbsp;&nbsp;&nbsp;&nbsp;&nbsp;&nbsp;&nbsp;&nbsp;&nbsp;&nbsp;&nbsp;&nbsp;&nbsp;&nbsp;&nbsp;&nbsp;&nbsp;&nbsp;&nbsp;&nbsp;&nbsp;&nbsp;&nbsp;&nbsp;&nbsp;&nbsp;&nbsp;&nbsp;&nbsp;&nbsp;&nbsp;&nbsp;&nbsp;&nbsp;&nbsp;&nbsp;&nbsp;&nbsp;&nbsp;&nbsp;&nbsp;&nbsp;&nbsp;&nbsp;&nbsp;&nbsp;&nbsp;&nbsp;&nbsp;&nbsp;&nbsp;&nbsp;&nbsp;&nbsp;&nbsp;&nbsp; [&uarr;](#table-of-content)</br>"
   ]
  },
  {
   "cell_type": "markdown",
   "id": "5ec80181",
   "metadata": {},
   "source": [
    "### **2.2) Loading Datasets**"
   ]
  },
  {
   "cell_type": "code",
   "execution_count": 250,
   "id": "440617e2",
   "metadata": {},
   "outputs": [
    {
     "name": "stdout",
     "output_type": "stream",
     "text": [
      "The data set shape is as follows (3333, 21)\n",
      "Index(['state', 'account length', 'area code', 'phone number',\n",
      "       'international plan', 'voice mail plan', 'number vmail messages',\n",
      "       'total day minutes', 'total day calls', 'total day charge',\n",
      "       'total eve minutes', 'total eve calls', 'total eve charge',\n",
      "       'total night minutes', 'total night calls', 'total night charge',\n",
      "       'total intl minutes', 'total intl calls', 'total intl charge',\n",
      "       'customer service calls', 'churn'],\n",
      "      dtype='object')\n"
     ]
    },
    {
     "data": {
      "application/vnd.microsoft.datawrangler.viewer.v0+json": {
       "columns": [
        {
         "name": "index",
         "rawType": "int64",
         "type": "integer"
        },
        {
         "name": "state",
         "rawType": "object",
         "type": "string"
        },
        {
         "name": "account length",
         "rawType": "int64",
         "type": "integer"
        },
        {
         "name": "area code",
         "rawType": "int64",
         "type": "integer"
        },
        {
         "name": "phone number",
         "rawType": "object",
         "type": "string"
        },
        {
         "name": "international plan",
         "rawType": "object",
         "type": "string"
        },
        {
         "name": "voice mail plan",
         "rawType": "object",
         "type": "string"
        },
        {
         "name": "number vmail messages",
         "rawType": "int64",
         "type": "integer"
        },
        {
         "name": "total day minutes",
         "rawType": "float64",
         "type": "float"
        },
        {
         "name": "total day calls",
         "rawType": "int64",
         "type": "integer"
        },
        {
         "name": "total day charge",
         "rawType": "float64",
         "type": "float"
        },
        {
         "name": "total eve minutes",
         "rawType": "float64",
         "type": "float"
        },
        {
         "name": "total eve calls",
         "rawType": "int64",
         "type": "integer"
        },
        {
         "name": "total eve charge",
         "rawType": "float64",
         "type": "float"
        },
        {
         "name": "total night minutes",
         "rawType": "float64",
         "type": "float"
        },
        {
         "name": "total night calls",
         "rawType": "int64",
         "type": "integer"
        },
        {
         "name": "total night charge",
         "rawType": "float64",
         "type": "float"
        },
        {
         "name": "total intl minutes",
         "rawType": "float64",
         "type": "float"
        },
        {
         "name": "total intl calls",
         "rawType": "int64",
         "type": "integer"
        },
        {
         "name": "total intl charge",
         "rawType": "float64",
         "type": "float"
        },
        {
         "name": "customer service calls",
         "rawType": "int64",
         "type": "integer"
        },
        {
         "name": "churn",
         "rawType": "bool",
         "type": "boolean"
        }
       ],
       "ref": "4414d84f-e690-4646-a4eb-52d5a751831a",
       "rows": [
        [
         "0",
         "KS",
         "128",
         "415",
         "382-4657",
         "no",
         "yes",
         "25",
         "265.1",
         "110",
         "45.07",
         "197.4",
         "99",
         "16.78",
         "244.7",
         "91",
         "11.01",
         "10.0",
         "3",
         "2.7",
         "1",
         "False"
        ],
        [
         "1",
         "OH",
         "107",
         "415",
         "371-7191",
         "no",
         "yes",
         "26",
         "161.6",
         "123",
         "27.47",
         "195.5",
         "103",
         "16.62",
         "254.4",
         "103",
         "11.45",
         "13.7",
         "3",
         "3.7",
         "1",
         "False"
        ],
        [
         "2",
         "NJ",
         "137",
         "415",
         "358-1921",
         "no",
         "no",
         "0",
         "243.4",
         "114",
         "41.38",
         "121.2",
         "110",
         "10.3",
         "162.6",
         "104",
         "7.32",
         "12.2",
         "5",
         "3.29",
         "0",
         "False"
        ],
        [
         "3",
         "OH",
         "84",
         "408",
         "375-9999",
         "yes",
         "no",
         "0",
         "299.4",
         "71",
         "50.9",
         "61.9",
         "88",
         "5.26",
         "196.9",
         "89",
         "8.86",
         "6.6",
         "7",
         "1.78",
         "2",
         "False"
        ],
        [
         "4",
         "OK",
         "75",
         "415",
         "330-6626",
         "yes",
         "no",
         "0",
         "166.7",
         "113",
         "28.34",
         "148.3",
         "122",
         "12.61",
         "186.9",
         "121",
         "8.41",
         "10.1",
         "3",
         "2.73",
         "3",
         "False"
        ]
       ],
       "shape": {
        "columns": 21,
        "rows": 5
       }
      },
      "text/html": [
       "<div>\n",
       "<style scoped>\n",
       "    .dataframe tbody tr th:only-of-type {\n",
       "        vertical-align: middle;\n",
       "    }\n",
       "\n",
       "    .dataframe tbody tr th {\n",
       "        vertical-align: top;\n",
       "    }\n",
       "\n",
       "    .dataframe thead th {\n",
       "        text-align: right;\n",
       "    }\n",
       "</style>\n",
       "<table border=\"1\" class=\"dataframe\">\n",
       "  <thead>\n",
       "    <tr style=\"text-align: right;\">\n",
       "      <th></th>\n",
       "      <th>state</th>\n",
       "      <th>account length</th>\n",
       "      <th>area code</th>\n",
       "      <th>phone number</th>\n",
       "      <th>international plan</th>\n",
       "      <th>voice mail plan</th>\n",
       "      <th>number vmail messages</th>\n",
       "      <th>total day minutes</th>\n",
       "      <th>total day calls</th>\n",
       "      <th>total day charge</th>\n",
       "      <th>...</th>\n",
       "      <th>total eve calls</th>\n",
       "      <th>total eve charge</th>\n",
       "      <th>total night minutes</th>\n",
       "      <th>total night calls</th>\n",
       "      <th>total night charge</th>\n",
       "      <th>total intl minutes</th>\n",
       "      <th>total intl calls</th>\n",
       "      <th>total intl charge</th>\n",
       "      <th>customer service calls</th>\n",
       "      <th>churn</th>\n",
       "    </tr>\n",
       "  </thead>\n",
       "  <tbody>\n",
       "    <tr>\n",
       "      <th>0</th>\n",
       "      <td>KS</td>\n",
       "      <td>128</td>\n",
       "      <td>415</td>\n",
       "      <td>382-4657</td>\n",
       "      <td>no</td>\n",
       "      <td>yes</td>\n",
       "      <td>25</td>\n",
       "      <td>265.1</td>\n",
       "      <td>110</td>\n",
       "      <td>45.07</td>\n",
       "      <td>...</td>\n",
       "      <td>99</td>\n",
       "      <td>16.78</td>\n",
       "      <td>244.7</td>\n",
       "      <td>91</td>\n",
       "      <td>11.01</td>\n",
       "      <td>10.0</td>\n",
       "      <td>3</td>\n",
       "      <td>2.70</td>\n",
       "      <td>1</td>\n",
       "      <td>False</td>\n",
       "    </tr>\n",
       "    <tr>\n",
       "      <th>1</th>\n",
       "      <td>OH</td>\n",
       "      <td>107</td>\n",
       "      <td>415</td>\n",
       "      <td>371-7191</td>\n",
       "      <td>no</td>\n",
       "      <td>yes</td>\n",
       "      <td>26</td>\n",
       "      <td>161.6</td>\n",
       "      <td>123</td>\n",
       "      <td>27.47</td>\n",
       "      <td>...</td>\n",
       "      <td>103</td>\n",
       "      <td>16.62</td>\n",
       "      <td>254.4</td>\n",
       "      <td>103</td>\n",
       "      <td>11.45</td>\n",
       "      <td>13.7</td>\n",
       "      <td>3</td>\n",
       "      <td>3.70</td>\n",
       "      <td>1</td>\n",
       "      <td>False</td>\n",
       "    </tr>\n",
       "    <tr>\n",
       "      <th>2</th>\n",
       "      <td>NJ</td>\n",
       "      <td>137</td>\n",
       "      <td>415</td>\n",
       "      <td>358-1921</td>\n",
       "      <td>no</td>\n",
       "      <td>no</td>\n",
       "      <td>0</td>\n",
       "      <td>243.4</td>\n",
       "      <td>114</td>\n",
       "      <td>41.38</td>\n",
       "      <td>...</td>\n",
       "      <td>110</td>\n",
       "      <td>10.30</td>\n",
       "      <td>162.6</td>\n",
       "      <td>104</td>\n",
       "      <td>7.32</td>\n",
       "      <td>12.2</td>\n",
       "      <td>5</td>\n",
       "      <td>3.29</td>\n",
       "      <td>0</td>\n",
       "      <td>False</td>\n",
       "    </tr>\n",
       "    <tr>\n",
       "      <th>3</th>\n",
       "      <td>OH</td>\n",
       "      <td>84</td>\n",
       "      <td>408</td>\n",
       "      <td>375-9999</td>\n",
       "      <td>yes</td>\n",
       "      <td>no</td>\n",
       "      <td>0</td>\n",
       "      <td>299.4</td>\n",
       "      <td>71</td>\n",
       "      <td>50.90</td>\n",
       "      <td>...</td>\n",
       "      <td>88</td>\n",
       "      <td>5.26</td>\n",
       "      <td>196.9</td>\n",
       "      <td>89</td>\n",
       "      <td>8.86</td>\n",
       "      <td>6.6</td>\n",
       "      <td>7</td>\n",
       "      <td>1.78</td>\n",
       "      <td>2</td>\n",
       "      <td>False</td>\n",
       "    </tr>\n",
       "    <tr>\n",
       "      <th>4</th>\n",
       "      <td>OK</td>\n",
       "      <td>75</td>\n",
       "      <td>415</td>\n",
       "      <td>330-6626</td>\n",
       "      <td>yes</td>\n",
       "      <td>no</td>\n",
       "      <td>0</td>\n",
       "      <td>166.7</td>\n",
       "      <td>113</td>\n",
       "      <td>28.34</td>\n",
       "      <td>...</td>\n",
       "      <td>122</td>\n",
       "      <td>12.61</td>\n",
       "      <td>186.9</td>\n",
       "      <td>121</td>\n",
       "      <td>8.41</td>\n",
       "      <td>10.1</td>\n",
       "      <td>3</td>\n",
       "      <td>2.73</td>\n",
       "      <td>3</td>\n",
       "      <td>False</td>\n",
       "    </tr>\n",
       "  </tbody>\n",
       "</table>\n",
       "<p>5 rows × 21 columns</p>\n",
       "</div>"
      ],
      "text/plain": [
       "  state  account length  area code phone number international plan  \\\n",
       "0    KS             128        415     382-4657                 no   \n",
       "1    OH             107        415     371-7191                 no   \n",
       "2    NJ             137        415     358-1921                 no   \n",
       "3    OH              84        408     375-9999                yes   \n",
       "4    OK              75        415     330-6626                yes   \n",
       "\n",
       "  voice mail plan  number vmail messages  total day minutes  total day calls  \\\n",
       "0             yes                     25              265.1              110   \n",
       "1             yes                     26              161.6              123   \n",
       "2              no                      0              243.4              114   \n",
       "3              no                      0              299.4               71   \n",
       "4              no                      0              166.7              113   \n",
       "\n",
       "   total day charge  ...  total eve calls  total eve charge  \\\n",
       "0             45.07  ...               99             16.78   \n",
       "1             27.47  ...              103             16.62   \n",
       "2             41.38  ...              110             10.30   \n",
       "3             50.90  ...               88              5.26   \n",
       "4             28.34  ...              122             12.61   \n",
       "\n",
       "   total night minutes  total night calls  total night charge  \\\n",
       "0                244.7                 91               11.01   \n",
       "1                254.4                103               11.45   \n",
       "2                162.6                104                7.32   \n",
       "3                196.9                 89                8.86   \n",
       "4                186.9                121                8.41   \n",
       "\n",
       "   total intl minutes  total intl calls  total intl charge  \\\n",
       "0                10.0                 3               2.70   \n",
       "1                13.7                 3               3.70   \n",
       "2                12.2                 5               3.29   \n",
       "3                 6.6                 7               1.78   \n",
       "4                10.1                 3               2.73   \n",
       "\n",
       "   customer service calls  churn  \n",
       "0                       1  False  \n",
       "1                       1  False  \n",
       "2                       0  False  \n",
       "3                       2  False  \n",
       "4                       3  False  \n",
       "\n",
       "[5 rows x 21 columns]"
      ]
     },
     "execution_count": 250,
     "metadata": {},
     "output_type": "execute_result"
    }
   ],
   "source": [
    "file_path = \"churn_in_telkom_dataset.csv\"\n",
    "churn_df = pd.read_csv(file_path)\n",
    "\n",
    "# Check columns\n",
    "print(\"The data set shape is as follows\", churn_df.shape)\n",
    "print(churn_df.columns)\n",
    "churn_df.head()"
   ]
  },
  {
   "cell_type": "code",
   "execution_count": null,
   "id": "30e180c3",
   "metadata": {},
   "outputs": [],
   "source": []
  },
  {
   "cell_type": "markdown",
   "id": "52df88bf",
   "metadata": {},
   "source": [
    "### **3.0) Data Understanding**"
   ]
  },
  {
   "cell_type": "code",
   "execution_count": 251,
   "id": "e03e7b76",
   "metadata": {},
   "outputs": [
    {
     "name": "stdout",
     "output_type": "stream",
     "text": [
      "<class 'pandas.core.frame.DataFrame'>\n",
      "RangeIndex: 3333 entries, 0 to 3332\n",
      "Data columns (total 21 columns):\n",
      " #   Column                  Non-Null Count  Dtype  \n",
      "---  ------                  --------------  -----  \n",
      " 0   state                   3333 non-null   object \n",
      " 1   account length          3333 non-null   int64  \n",
      " 2   area code               3333 non-null   int64  \n",
      " 3   phone number            3333 non-null   object \n",
      " 4   international plan      3333 non-null   object \n",
      " 5   voice mail plan         3333 non-null   object \n",
      " 6   number vmail messages   3333 non-null   int64  \n",
      " 7   total day minutes       3333 non-null   float64\n",
      " 8   total day calls         3333 non-null   int64  \n",
      " 9   total day charge        3333 non-null   float64\n",
      " 10  total eve minutes       3333 non-null   float64\n",
      " 11  total eve calls         3333 non-null   int64  \n",
      " 12  total eve charge        3333 non-null   float64\n",
      " 13  total night minutes     3333 non-null   float64\n",
      " 14  total night calls       3333 non-null   int64  \n",
      " 15  total night charge      3333 non-null   float64\n",
      " 16  total intl minutes      3333 non-null   float64\n",
      " 17  total intl calls        3333 non-null   int64  \n",
      " 18  total intl charge       3333 non-null   float64\n",
      " 19  customer service calls  3333 non-null   int64  \n",
      " 20  churn                   3333 non-null   bool   \n",
      "dtypes: bool(1), float64(8), int64(8), object(4)\n",
      "memory usage: 524.2+ KB\n"
     ]
    }
   ],
   "source": [
    "# Detailed information about the data\n",
    "churn_df.info()"
   ]
  },
  {
   "cell_type": "code",
   "execution_count": 252,
   "id": "6afb54b0",
   "metadata": {},
   "outputs": [],
   "source": [
    "#  Change Area Code Datatype from int to object\n",
    "churn_df['area code'] = churn_df['area code'].astype('object')\n",
    "\n",
    "#change churn fromm bool to object\n",
    "\n",
    "churn_df['churn'] = churn_df['churn'].astype('object')\n",
    "\n",
    "\n",
    "#Drop phone number feature it add no value to the dataset\n",
    "churn_df.drop([\"phone number\"], axis=1, inplace=True)\n"
   ]
  },
  {
   "cell_type": "code",
   "execution_count": 253,
   "id": "a057296d",
   "metadata": {},
   "outputs": [
    {
     "name": "stdout",
     "output_type": "stream",
     "text": [
      "<class 'pandas.core.frame.DataFrame'>\n",
      "RangeIndex: 3333 entries, 0 to 3332\n",
      "Data columns (total 20 columns):\n",
      " #   Column                  Non-Null Count  Dtype  \n",
      "---  ------                  --------------  -----  \n",
      " 0   state                   3333 non-null   object \n",
      " 1   account length          3333 non-null   int64  \n",
      " 2   area code               3333 non-null   object \n",
      " 3   international plan      3333 non-null   object \n",
      " 4   voice mail plan         3333 non-null   object \n",
      " 5   number vmail messages   3333 non-null   int64  \n",
      " 6   total day minutes       3333 non-null   float64\n",
      " 7   total day calls         3333 non-null   int64  \n",
      " 8   total day charge        3333 non-null   float64\n",
      " 9   total eve minutes       3333 non-null   float64\n",
      " 10  total eve calls         3333 non-null   int64  \n",
      " 11  total eve charge        3333 non-null   float64\n",
      " 12  total night minutes     3333 non-null   float64\n",
      " 13  total night calls       3333 non-null   int64  \n",
      " 14  total night charge      3333 non-null   float64\n",
      " 15  total intl minutes      3333 non-null   float64\n",
      " 16  total intl calls        3333 non-null   int64  \n",
      " 17  total intl charge       3333 non-null   float64\n",
      " 18  customer service calls  3333 non-null   int64  \n",
      " 19  churn                   3333 non-null   object \n",
      "dtypes: float64(8), int64(7), object(5)\n",
      "memory usage: 520.9+ KB\n"
     ]
    }
   ],
   "source": [
    "churn_df.info()"
   ]
  },
  {
   "cell_type": "code",
   "execution_count": 254,
   "id": "d7c51eec",
   "metadata": {},
   "outputs": [
    {
     "data": {
      "application/vnd.microsoft.datawrangler.viewer.v0+json": {
       "columns": [
        {
         "name": "index",
         "rawType": "object",
         "type": "string"
        },
        {
         "name": "0",
         "rawType": "int64",
         "type": "integer"
        }
       ],
       "ref": "ea2d42a0-7666-4aab-9fff-afe5c751cb38",
       "rows": [
        [
         "state",
         "0"
        ],
        [
         "account length",
         "0"
        ],
        [
         "area code",
         "0"
        ],
        [
         "international plan",
         "0"
        ],
        [
         "voice mail plan",
         "0"
        ],
        [
         "number vmail messages",
         "0"
        ],
        [
         "total day minutes",
         "0"
        ],
        [
         "total day calls",
         "0"
        ],
        [
         "total day charge",
         "0"
        ],
        [
         "total eve minutes",
         "0"
        ],
        [
         "total eve calls",
         "0"
        ],
        [
         "total eve charge",
         "0"
        ],
        [
         "total night minutes",
         "0"
        ],
        [
         "total night calls",
         "0"
        ],
        [
         "total night charge",
         "0"
        ],
        [
         "total intl minutes",
         "0"
        ],
        [
         "total intl calls",
         "0"
        ],
        [
         "total intl charge",
         "0"
        ],
        [
         "customer service calls",
         "0"
        ],
        [
         "churn",
         "0"
        ]
       ],
       "shape": {
        "columns": 1,
        "rows": 20
       }
      },
      "text/plain": [
       "state                     0\n",
       "account length            0\n",
       "area code                 0\n",
       "international plan        0\n",
       "voice mail plan           0\n",
       "number vmail messages     0\n",
       "total day minutes         0\n",
       "total day calls           0\n",
       "total day charge          0\n",
       "total eve minutes         0\n",
       "total eve calls           0\n",
       "total eve charge          0\n",
       "total night minutes       0\n",
       "total night calls         0\n",
       "total night charge        0\n",
       "total intl minutes        0\n",
       "total intl calls          0\n",
       "total intl charge         0\n",
       "customer service calls    0\n",
       "churn                     0\n",
       "dtype: int64"
      ]
     },
     "execution_count": 254,
     "metadata": {},
     "output_type": "execute_result"
    }
   ],
   "source": [
    "#check missing values\n",
    "\n",
    "churn_df.isnull().sum()"
   ]
  },
  {
   "cell_type": "code",
   "execution_count": 255,
   "id": "38f868d8",
   "metadata": {},
   "outputs": [
    {
     "name": "stdout",
     "output_type": "stream",
     "text": [
      " state: 51\n",
      " account length: 212\n",
      " area code: 3\n",
      " international plan: 2\n",
      " voice mail plan: 2\n",
      " number vmail messages: 46\n",
      " total day minutes: 1667\n",
      " total day calls: 119\n",
      " total day charge: 1667\n",
      " total eve minutes: 1611\n",
      " total eve calls: 123\n",
      " total eve charge: 1440\n",
      " total night minutes: 1591\n",
      " total night calls: 120\n",
      " total night charge: 933\n",
      " total intl minutes: 162\n",
      " total intl calls: 21\n",
      " total intl charge: 162\n",
      " customer service calls: 10\n",
      " churn: 2\n"
     ]
    }
   ],
   "source": [
    "#Checking number of unique values per column\n",
    "\n",
    "for column in churn_df.columns:\n",
    "    unique_values_per_column = len(churn_df[column].unique())\n",
    "    print(f\" {column}: {unique_values_per_column}\")"
   ]
  },
  {
   "cell_type": "code",
   "execution_count": 256,
   "id": "2aeda81a",
   "metadata": {},
   "outputs": [
    {
     "data": {
      "application/vnd.microsoft.datawrangler.viewer.v0+json": {
       "columns": [
        {
         "name": "index",
         "rawType": "object",
         "type": "string"
        },
        {
         "name": "account length",
         "rawType": "float64",
         "type": "float"
        },
        {
         "name": "number vmail messages",
         "rawType": "float64",
         "type": "float"
        },
        {
         "name": "total day minutes",
         "rawType": "float64",
         "type": "float"
        },
        {
         "name": "total day calls",
         "rawType": "float64",
         "type": "float"
        },
        {
         "name": "total day charge",
         "rawType": "float64",
         "type": "float"
        },
        {
         "name": "total eve minutes",
         "rawType": "float64",
         "type": "float"
        },
        {
         "name": "total eve calls",
         "rawType": "float64",
         "type": "float"
        },
        {
         "name": "total eve charge",
         "rawType": "float64",
         "type": "float"
        },
        {
         "name": "total night minutes",
         "rawType": "float64",
         "type": "float"
        },
        {
         "name": "total night calls",
         "rawType": "float64",
         "type": "float"
        },
        {
         "name": "total night charge",
         "rawType": "float64",
         "type": "float"
        },
        {
         "name": "total intl minutes",
         "rawType": "float64",
         "type": "float"
        },
        {
         "name": "total intl calls",
         "rawType": "float64",
         "type": "float"
        },
        {
         "name": "total intl charge",
         "rawType": "float64",
         "type": "float"
        },
        {
         "name": "customer service calls",
         "rawType": "float64",
         "type": "float"
        }
       ],
       "ref": "3e9aafda-1903-42d2-b82a-3efb67ddedc3",
       "rows": [
        [
         "count",
         "3333.0",
         "3333.0",
         "3333.0",
         "3333.0",
         "3333.0",
         "3333.0",
         "3333.0",
         "3333.0",
         "3333.0",
         "3333.0",
         "3333.0",
         "3333.0",
         "3333.0",
         "3333.0",
         "3333.0"
        ],
        [
         "mean",
         "101.06480648064806",
         "8.099009900990099",
         "179.77509750975094",
         "100.43564356435644",
         "30.562307230723075",
         "200.98034803480348",
         "100.11431143114311",
         "17.083540354035403",
         "200.87203720372037",
         "100.10771077107711",
         "9.03932493249325",
         "10.237293729372938",
         "4.4794479447944795",
         "2.7645814581458144",
         "1.5628562856285628"
        ],
        [
         "std",
         "39.822105928595604",
         "13.68836537203884",
         "54.46738920237142",
         "20.069084207300854",
         "9.259434553930507",
         "50.71384442581193",
         "19.92262529394309",
         "4.310667643110339",
         "50.5738470136583",
         "19.568609346058615",
         "2.2758728376600317",
         "2.7918395484084204",
         "2.4612142705460887",
         "0.7537726126630453",
         "1.3154910448664843"
        ],
        [
         "min",
         "1.0",
         "0.0",
         "0.0",
         "0.0",
         "0.0",
         "0.0",
         "0.0",
         "0.0",
         "23.2",
         "33.0",
         "1.04",
         "0.0",
         "0.0",
         "0.0",
         "0.0"
        ],
        [
         "25%",
         "74.0",
         "0.0",
         "143.7",
         "87.0",
         "24.43",
         "166.6",
         "87.0",
         "14.16",
         "167.0",
         "87.0",
         "7.52",
         "8.5",
         "3.0",
         "2.3",
         "1.0"
        ],
        [
         "50%",
         "101.0",
         "0.0",
         "179.4",
         "101.0",
         "30.5",
         "201.4",
         "100.0",
         "17.12",
         "201.2",
         "100.0",
         "9.05",
         "10.3",
         "4.0",
         "2.78",
         "1.0"
        ],
        [
         "75%",
         "127.0",
         "20.0",
         "216.4",
         "114.0",
         "36.79",
         "235.3",
         "114.0",
         "20.0",
         "235.3",
         "113.0",
         "10.59",
         "12.1",
         "6.0",
         "3.27",
         "2.0"
        ],
        [
         "max",
         "243.0",
         "51.0",
         "350.8",
         "165.0",
         "59.64",
         "363.7",
         "170.0",
         "30.91",
         "395.0",
         "175.0",
         "17.77",
         "20.0",
         "20.0",
         "5.4",
         "9.0"
        ]
       ],
       "shape": {
        "columns": 15,
        "rows": 8
       }
      },
      "text/html": [
       "<div>\n",
       "<style scoped>\n",
       "    .dataframe tbody tr th:only-of-type {\n",
       "        vertical-align: middle;\n",
       "    }\n",
       "\n",
       "    .dataframe tbody tr th {\n",
       "        vertical-align: top;\n",
       "    }\n",
       "\n",
       "    .dataframe thead th {\n",
       "        text-align: right;\n",
       "    }\n",
       "</style>\n",
       "<table border=\"1\" class=\"dataframe\">\n",
       "  <thead>\n",
       "    <tr style=\"text-align: right;\">\n",
       "      <th></th>\n",
       "      <th>account length</th>\n",
       "      <th>number vmail messages</th>\n",
       "      <th>total day minutes</th>\n",
       "      <th>total day calls</th>\n",
       "      <th>total day charge</th>\n",
       "      <th>total eve minutes</th>\n",
       "      <th>total eve calls</th>\n",
       "      <th>total eve charge</th>\n",
       "      <th>total night minutes</th>\n",
       "      <th>total night calls</th>\n",
       "      <th>total night charge</th>\n",
       "      <th>total intl minutes</th>\n",
       "      <th>total intl calls</th>\n",
       "      <th>total intl charge</th>\n",
       "      <th>customer service calls</th>\n",
       "    </tr>\n",
       "  </thead>\n",
       "  <tbody>\n",
       "    <tr>\n",
       "      <th>count</th>\n",
       "      <td>3333.000000</td>\n",
       "      <td>3333.000000</td>\n",
       "      <td>3333.000000</td>\n",
       "      <td>3333.000000</td>\n",
       "      <td>3333.000000</td>\n",
       "      <td>3333.000000</td>\n",
       "      <td>3333.000000</td>\n",
       "      <td>3333.000000</td>\n",
       "      <td>3333.000000</td>\n",
       "      <td>3333.000000</td>\n",
       "      <td>3333.000000</td>\n",
       "      <td>3333.000000</td>\n",
       "      <td>3333.000000</td>\n",
       "      <td>3333.000000</td>\n",
       "      <td>3333.000000</td>\n",
       "    </tr>\n",
       "    <tr>\n",
       "      <th>mean</th>\n",
       "      <td>101.064806</td>\n",
       "      <td>8.099010</td>\n",
       "      <td>179.775098</td>\n",
       "      <td>100.435644</td>\n",
       "      <td>30.562307</td>\n",
       "      <td>200.980348</td>\n",
       "      <td>100.114311</td>\n",
       "      <td>17.083540</td>\n",
       "      <td>200.872037</td>\n",
       "      <td>100.107711</td>\n",
       "      <td>9.039325</td>\n",
       "      <td>10.237294</td>\n",
       "      <td>4.479448</td>\n",
       "      <td>2.764581</td>\n",
       "      <td>1.562856</td>\n",
       "    </tr>\n",
       "    <tr>\n",
       "      <th>std</th>\n",
       "      <td>39.822106</td>\n",
       "      <td>13.688365</td>\n",
       "      <td>54.467389</td>\n",
       "      <td>20.069084</td>\n",
       "      <td>9.259435</td>\n",
       "      <td>50.713844</td>\n",
       "      <td>19.922625</td>\n",
       "      <td>4.310668</td>\n",
       "      <td>50.573847</td>\n",
       "      <td>19.568609</td>\n",
       "      <td>2.275873</td>\n",
       "      <td>2.791840</td>\n",
       "      <td>2.461214</td>\n",
       "      <td>0.753773</td>\n",
       "      <td>1.315491</td>\n",
       "    </tr>\n",
       "    <tr>\n",
       "      <th>min</th>\n",
       "      <td>1.000000</td>\n",
       "      <td>0.000000</td>\n",
       "      <td>0.000000</td>\n",
       "      <td>0.000000</td>\n",
       "      <td>0.000000</td>\n",
       "      <td>0.000000</td>\n",
       "      <td>0.000000</td>\n",
       "      <td>0.000000</td>\n",
       "      <td>23.200000</td>\n",
       "      <td>33.000000</td>\n",
       "      <td>1.040000</td>\n",
       "      <td>0.000000</td>\n",
       "      <td>0.000000</td>\n",
       "      <td>0.000000</td>\n",
       "      <td>0.000000</td>\n",
       "    </tr>\n",
       "    <tr>\n",
       "      <th>25%</th>\n",
       "      <td>74.000000</td>\n",
       "      <td>0.000000</td>\n",
       "      <td>143.700000</td>\n",
       "      <td>87.000000</td>\n",
       "      <td>24.430000</td>\n",
       "      <td>166.600000</td>\n",
       "      <td>87.000000</td>\n",
       "      <td>14.160000</td>\n",
       "      <td>167.000000</td>\n",
       "      <td>87.000000</td>\n",
       "      <td>7.520000</td>\n",
       "      <td>8.500000</td>\n",
       "      <td>3.000000</td>\n",
       "      <td>2.300000</td>\n",
       "      <td>1.000000</td>\n",
       "    </tr>\n",
       "    <tr>\n",
       "      <th>50%</th>\n",
       "      <td>101.000000</td>\n",
       "      <td>0.000000</td>\n",
       "      <td>179.400000</td>\n",
       "      <td>101.000000</td>\n",
       "      <td>30.500000</td>\n",
       "      <td>201.400000</td>\n",
       "      <td>100.000000</td>\n",
       "      <td>17.120000</td>\n",
       "      <td>201.200000</td>\n",
       "      <td>100.000000</td>\n",
       "      <td>9.050000</td>\n",
       "      <td>10.300000</td>\n",
       "      <td>4.000000</td>\n",
       "      <td>2.780000</td>\n",
       "      <td>1.000000</td>\n",
       "    </tr>\n",
       "    <tr>\n",
       "      <th>75%</th>\n",
       "      <td>127.000000</td>\n",
       "      <td>20.000000</td>\n",
       "      <td>216.400000</td>\n",
       "      <td>114.000000</td>\n",
       "      <td>36.790000</td>\n",
       "      <td>235.300000</td>\n",
       "      <td>114.000000</td>\n",
       "      <td>20.000000</td>\n",
       "      <td>235.300000</td>\n",
       "      <td>113.000000</td>\n",
       "      <td>10.590000</td>\n",
       "      <td>12.100000</td>\n",
       "      <td>6.000000</td>\n",
       "      <td>3.270000</td>\n",
       "      <td>2.000000</td>\n",
       "    </tr>\n",
       "    <tr>\n",
       "      <th>max</th>\n",
       "      <td>243.000000</td>\n",
       "      <td>51.000000</td>\n",
       "      <td>350.800000</td>\n",
       "      <td>165.000000</td>\n",
       "      <td>59.640000</td>\n",
       "      <td>363.700000</td>\n",
       "      <td>170.000000</td>\n",
       "      <td>30.910000</td>\n",
       "      <td>395.000000</td>\n",
       "      <td>175.000000</td>\n",
       "      <td>17.770000</td>\n",
       "      <td>20.000000</td>\n",
       "      <td>20.000000</td>\n",
       "      <td>5.400000</td>\n",
       "      <td>9.000000</td>\n",
       "    </tr>\n",
       "  </tbody>\n",
       "</table>\n",
       "</div>"
      ],
      "text/plain": [
       "       account length  number vmail messages  total day minutes  \\\n",
       "count     3333.000000            3333.000000        3333.000000   \n",
       "mean       101.064806               8.099010         179.775098   \n",
       "std         39.822106              13.688365          54.467389   \n",
       "min          1.000000               0.000000           0.000000   \n",
       "25%         74.000000               0.000000         143.700000   \n",
       "50%        101.000000               0.000000         179.400000   \n",
       "75%        127.000000              20.000000         216.400000   \n",
       "max        243.000000              51.000000         350.800000   \n",
       "\n",
       "       total day calls  total day charge  total eve minutes  total eve calls  \\\n",
       "count      3333.000000       3333.000000        3333.000000      3333.000000   \n",
       "mean        100.435644         30.562307         200.980348       100.114311   \n",
       "std          20.069084          9.259435          50.713844        19.922625   \n",
       "min           0.000000          0.000000           0.000000         0.000000   \n",
       "25%          87.000000         24.430000         166.600000        87.000000   \n",
       "50%         101.000000         30.500000         201.400000       100.000000   \n",
       "75%         114.000000         36.790000         235.300000       114.000000   \n",
       "max         165.000000         59.640000         363.700000       170.000000   \n",
       "\n",
       "       total eve charge  total night minutes  total night calls  \\\n",
       "count       3333.000000          3333.000000        3333.000000   \n",
       "mean          17.083540           200.872037         100.107711   \n",
       "std            4.310668            50.573847          19.568609   \n",
       "min            0.000000            23.200000          33.000000   \n",
       "25%           14.160000           167.000000          87.000000   \n",
       "50%           17.120000           201.200000         100.000000   \n",
       "75%           20.000000           235.300000         113.000000   \n",
       "max           30.910000           395.000000         175.000000   \n",
       "\n",
       "       total night charge  total intl minutes  total intl calls  \\\n",
       "count         3333.000000         3333.000000       3333.000000   \n",
       "mean             9.039325           10.237294          4.479448   \n",
       "std              2.275873            2.791840          2.461214   \n",
       "min              1.040000            0.000000          0.000000   \n",
       "25%              7.520000            8.500000          3.000000   \n",
       "50%              9.050000           10.300000          4.000000   \n",
       "75%             10.590000           12.100000          6.000000   \n",
       "max             17.770000           20.000000         20.000000   \n",
       "\n",
       "       total intl charge  customer service calls  \n",
       "count        3333.000000             3333.000000  \n",
       "mean            2.764581                1.562856  \n",
       "std             0.753773                1.315491  \n",
       "min             0.000000                0.000000  \n",
       "25%             2.300000                1.000000  \n",
       "50%             2.780000                1.000000  \n",
       "75%             3.270000                2.000000  \n",
       "max             5.400000                9.000000  "
      ]
     },
     "execution_count": 256,
     "metadata": {},
     "output_type": "execute_result"
    }
   ],
   "source": [
    "churn_df.describe()"
   ]
  },
  {
   "cell_type": "code",
   "execution_count": null,
   "id": "cb27dca2",
   "metadata": {},
   "outputs": [],
   "source": []
  },
  {
   "cell_type": "code",
   "execution_count": 309,
   "id": "2823e26f",
   "metadata": {},
   "outputs": [
    {
     "name": "stdout",
     "output_type": "stream",
     "text": [
      "churn\n",
      "False    2850\n",
      "True      483\n",
      "Name: count, dtype: int64\n"
     ]
    },
    {
     "data": {
      "image/png": "[encoded data removed]",
      "text/plain": [
       "<Figure size 800x600 with 1 Axes>"
      ]
     },
     "metadata": {},
     "output_type": "display_data"
    }
   ],
   "source": [
    "print(churn_df[\"churn\"].value_counts())\n",
    "\n",
    "\n",
    "# Visualize the Curn Rate\n",
    "fig,ax = plt.subplots(figsize=(8,6))\n",
    "plt.bar(x = churn_df[\"churn\"].unique(), height = round(churn_df[\"churn\"].value_counts(normalize=True)*100, 2), color= \"tan\")\n",
    "plt.xticks(ticks=[0,1], labels=[\"No Churn\", \"Churn\"], fontsize = 15)\n",
    "plt.yticks(fontsize = 15)\n",
    "ax.set_xlabel(\"Churn\", fontsize = 20)\n",
    "ax.set_ylabel(\"Percent (%)\", fontsize = 20)\n",
    "# ax.yaxis.set_major_formatter(FormatStrFormatter('%.2f'))\n",
    "ax.set_title(\"Percentage of Customer Churn\",fontsize = 20)\n",
    "plt.savefig(\"churn_percentage.png\")\n",
    "plt.show()\n",
    "\n"
   ]
  },
  {
   "cell_type": "markdown",
   "id": "2d4e9925",
   "metadata": {},
   "source": [
    "### **5.0) Exploratory Data Analysis**"
   ]
  },
  {
   "cell_type": "markdown",
   "id": "549d07cf",
   "metadata": {},
   "source": []
  },
  {
   "cell_type": "code",
   "execution_count": 258,
   "id": "de514a4b",
   "metadata": {},
   "outputs": [
    {
     "data": {
      "application/vnd.microsoft.datawrangler.viewer.v0+json": {
       "columns": [
        {
         "name": "index",
         "rawType": "int64",
         "type": "integer"
        },
        {
         "name": "state",
         "rawType": "object",
         "type": "string"
        },
        {
         "name": "area code",
         "rawType": "object",
         "type": "unknown"
        },
        {
         "name": "international plan",
         "rawType": "object",
         "type": "string"
        },
        {
         "name": "voice mail plan",
         "rawType": "object",
         "type": "string"
        },
        {
         "name": "churn",
         "rawType": "object",
         "type": "unknown"
        }
       ],
       "ref": "bbdfd72d-b3fd-42e7-9084-8f11e06fead8",
       "rows": [
        [
         "0",
         "KS",
         "415",
         "no",
         "yes",
         "False"
        ],
        [
         "1",
         "OH",
         "415",
         "no",
         "yes",
         "False"
        ],
        [
         "2",
         "NJ",
         "415",
         "no",
         "no",
         "False"
        ],
        [
         "3",
         "OH",
         "408",
         "yes",
         "no",
         "False"
        ],
        [
         "4",
         "OK",
         "415",
         "yes",
         "no",
         "False"
        ],
        [
         "5",
         "AL",
         "510",
         "yes",
         "no",
         "False"
        ],
        [
         "6",
         "MA",
         "510",
         "no",
         "yes",
         "False"
        ],
        [
         "7",
         "MO",
         "415",
         "yes",
         "no",
         "False"
        ],
        [
         "8",
         "LA",
         "408",
         "no",
         "no",
         "False"
        ],
        [
         "9",
         "WV",
         "415",
         "yes",
         "yes",
         "False"
        ],
        [
         "10",
         "IN",
         "415",
         "no",
         "no",
         "True"
        ],
        [
         "11",
         "RI",
         "415",
         "no",
         "no",
         "False"
        ],
        [
         "12",
         "IA",
         "408",
         "no",
         "no",
         "False"
        ],
        [
         "13",
         "MT",
         "510",
         "no",
         "no",
         "False"
        ],
        [
         "14",
         "IA",
         "415",
         "no",
         "no",
         "False"
        ],
        [
         "15",
         "NY",
         "415",
         "no",
         "no",
         "True"
        ],
        [
         "16",
         "ID",
         "408",
         "no",
         "yes",
         "False"
        ],
        [
         "17",
         "VT",
         "510",
         "no",
         "no",
         "False"
        ],
        [
         "18",
         "VA",
         "510",
         "no",
         "yes",
         "False"
        ],
        [
         "19",
         "TX",
         "415",
         "no",
         "no",
         "False"
        ],
        [
         "20",
         "FL",
         "415",
         "no",
         "no",
         "False"
        ],
        [
         "21",
         "CO",
         "408",
         "no",
         "no",
         "True"
        ],
        [
         "22",
         "AZ",
         "415",
         "no",
         "no",
         "False"
        ],
        [
         "23",
         "SC",
         "415",
         "no",
         "no",
         "False"
        ],
        [
         "24",
         "VA",
         "510",
         "no",
         "no",
         "False"
        ],
        [
         "25",
         "NE",
         "415",
         "no",
         "no",
         "False"
        ],
        [
         "26",
         "WY",
         "408",
         "no",
         "yes",
         "False"
        ],
        [
         "27",
         "MT",
         "408",
         "no",
         "no",
         "False"
        ],
        [
         "28",
         "MO",
         "415",
         "no",
         "no",
         "False"
        ],
        [
         "29",
         "HI",
         "510",
         "no",
         "no",
         "False"
        ],
        [
         "30",
         "IL",
         "415",
         "no",
         "no",
         "False"
        ],
        [
         "31",
         "NH",
         "510",
         "no",
         "no",
         "False"
        ],
        [
         "32",
         "LA",
         "408",
         "no",
         "no",
         "False"
        ],
        [
         "33",
         "AZ",
         "408",
         "no",
         "no",
         "True"
        ],
        [
         "34",
         "OK",
         "408",
         "no",
         "yes",
         "False"
        ],
        [
         "35",
         "GA",
         "415",
         "no",
         "yes",
         "False"
        ],
        [
         "36",
         "AK",
         "408",
         "no",
         "yes",
         "False"
        ],
        [
         "37",
         "MA",
         "415",
         "no",
         "no",
         "False"
        ],
        [
         "38",
         "AK",
         "415",
         "yes",
         "yes",
         "False"
        ],
        [
         "39",
         "NJ",
         "408",
         "no",
         "no",
         "False"
        ],
        [
         "40",
         "GA",
         "408",
         "no",
         "no",
         "False"
        ],
        [
         "41",
         "MD",
         "408",
         "yes",
         "yes",
         "True"
        ],
        [
         "42",
         "AR",
         "510",
         "no",
         "no",
         "False"
        ],
        [
         "43",
         "ID",
         "415",
         "no",
         "no",
         "False"
        ],
        [
         "44",
         "WI",
         "510",
         "no",
         "no",
         "False"
        ],
        [
         "45",
         "OR",
         "408",
         "no",
         "yes",
         "False"
        ],
        [
         "46",
         "MI",
         "415",
         "no",
         "no",
         "False"
        ],
        [
         "47",
         "DE",
         "408",
         "no",
         "no",
         "False"
        ],
        [
         "48",
         "ID",
         "415",
         "no",
         "no",
         "True"
        ],
        [
         "49",
         "WY",
         "415",
         "no",
         "yes",
         "False"
        ]
       ],
       "shape": {
        "columns": 5,
        "rows": 3333
       }
      },
      "text/html": [
       "<div>\n",
       "<style scoped>\n",
       "    .dataframe tbody tr th:only-of-type {\n",
       "        vertical-align: middle;\n",
       "    }\n",
       "\n",
       "    .dataframe tbody tr th {\n",
       "        vertical-align: top;\n",
       "    }\n",
       "\n",
       "    .dataframe thead th {\n",
       "        text-align: right;\n",
       "    }\n",
       "</style>\n",
       "<table border=\"1\" class=\"dataframe\">\n",
       "  <thead>\n",
       "    <tr style=\"text-align: right;\">\n",
       "      <th></th>\n",
       "      <th>state</th>\n",
       "      <th>area code</th>\n",
       "      <th>international plan</th>\n",
       "      <th>voice mail plan</th>\n",
       "      <th>churn</th>\n",
       "    </tr>\n",
       "  </thead>\n",
       "  <tbody>\n",
       "    <tr>\n",
       "      <th>0</th>\n",
       "      <td>KS</td>\n",
       "      <td>415</td>\n",
       "      <td>no</td>\n",
       "      <td>yes</td>\n",
       "      <td>False</td>\n",
       "    </tr>\n",
       "    <tr>\n",
       "      <th>1</th>\n",
       "      <td>OH</td>\n",
       "      <td>415</td>\n",
       "      <td>no</td>\n",
       "      <td>yes</td>\n",
       "      <td>False</td>\n",
       "    </tr>\n",
       "    <tr>\n",
       "      <th>2</th>\n",
       "      <td>NJ</td>\n",
       "      <td>415</td>\n",
       "      <td>no</td>\n",
       "      <td>no</td>\n",
       "      <td>False</td>\n",
       "    </tr>\n",
       "    <tr>\n",
       "      <th>3</th>\n",
       "      <td>OH</td>\n",
       "      <td>408</td>\n",
       "      <td>yes</td>\n",
       "      <td>no</td>\n",
       "      <td>False</td>\n",
       "    </tr>\n",
       "    <tr>\n",
       "      <th>4</th>\n",
       "      <td>OK</td>\n",
       "      <td>415</td>\n",
       "      <td>yes</td>\n",
       "      <td>no</td>\n",
       "      <td>False</td>\n",
       "    </tr>\n",
       "    <tr>\n",
       "      <th>...</th>\n",
       "      <td>...</td>\n",
       "      <td>...</td>\n",
       "      <td>...</td>\n",
       "      <td>...</td>\n",
       "      <td>...</td>\n",
       "    </tr>\n",
       "    <tr>\n",
       "      <th>3328</th>\n",
       "      <td>AZ</td>\n",
       "      <td>415</td>\n",
       "      <td>no</td>\n",
       "      <td>yes</td>\n",
       "      <td>False</td>\n",
       "    </tr>\n",
       "    <tr>\n",
       "      <th>3329</th>\n",
       "      <td>WV</td>\n",
       "      <td>415</td>\n",
       "      <td>no</td>\n",
       "      <td>no</td>\n",
       "      <td>False</td>\n",
       "    </tr>\n",
       "    <tr>\n",
       "      <th>3330</th>\n",
       "      <td>RI</td>\n",
       "      <td>510</td>\n",
       "      <td>no</td>\n",
       "      <td>no</td>\n",
       "      <td>False</td>\n",
       "    </tr>\n",
       "    <tr>\n",
       "      <th>3331</th>\n",
       "      <td>CT</td>\n",
       "      <td>510</td>\n",
       "      <td>yes</td>\n",
       "      <td>no</td>\n",
       "      <td>False</td>\n",
       "    </tr>\n",
       "    <tr>\n",
       "      <th>3332</th>\n",
       "      <td>TN</td>\n",
       "      <td>415</td>\n",
       "      <td>no</td>\n",
       "      <td>yes</td>\n",
       "      <td>False</td>\n",
       "    </tr>\n",
       "  </tbody>\n",
       "</table>\n",
       "<p>3333 rows × 5 columns</p>\n",
       "</div>"
      ],
      "text/plain": [
       "     state area code international plan voice mail plan  churn\n",
       "0       KS       415                 no             yes  False\n",
       "1       OH       415                 no             yes  False\n",
       "2       NJ       415                 no              no  False\n",
       "3       OH       408                yes              no  False\n",
       "4       OK       415                yes              no  False\n",
       "...    ...       ...                ...             ...    ...\n",
       "3328    AZ       415                 no             yes  False\n",
       "3329    WV       415                 no              no  False\n",
       "3330    RI       510                 no              no  False\n",
       "3331    CT       510                yes              no  False\n",
       "3332    TN       415                 no             yes  False\n",
       "\n",
       "[3333 rows x 5 columns]"
      ]
     },
     "execution_count": 258,
     "metadata": {},
     "output_type": "execute_result"
    }
   ],
   "source": [
    "#Identifying categorical Vs Numerical features \n",
    "churn_df_cat = churn_df.select_dtypes(exclude=[\"number\", \"bool_\", \"float\"])\n",
    "churn_df_cat"
   ]
  },
  {
   "cell_type": "code",
   "execution_count": 259,
   "id": "aed9745d",
   "metadata": {},
   "outputs": [
    {
     "data": {
      "application/vnd.microsoft.datawrangler.viewer.v0+json": {
       "columns": [
        {
         "name": "index",
         "rawType": "int64",
         "type": "integer"
        },
        {
         "name": "account length",
         "rawType": "int64",
         "type": "integer"
        },
        {
         "name": "number vmail messages",
         "rawType": "int64",
         "type": "integer"
        },
        {
         "name": "total day minutes",
         "rawType": "float64",
         "type": "float"
        },
        {
         "name": "total day calls",
         "rawType": "int64",
         "type": "integer"
        },
        {
         "name": "total day charge",
         "rawType": "float64",
         "type": "float"
        },
        {
         "name": "total eve minutes",
         "rawType": "float64",
         "type": "float"
        },
        {
         "name": "total eve calls",
         "rawType": "int64",
         "type": "integer"
        },
        {
         "name": "total eve charge",
         "rawType": "float64",
         "type": "float"
        },
        {
         "name": "total night minutes",
         "rawType": "float64",
         "type": "float"
        },
        {
         "name": "total night calls",
         "rawType": "int64",
         "type": "integer"
        },
        {
         "name": "total night charge",
         "rawType": "float64",
         "type": "float"
        },
        {
         "name": "total intl minutes",
         "rawType": "float64",
         "type": "float"
        },
        {
         "name": "total intl calls",
         "rawType": "int64",
         "type": "integer"
        },
        {
         "name": "total intl charge",
         "rawType": "float64",
         "type": "float"
        },
        {
         "name": "customer service calls",
         "rawType": "int64",
         "type": "integer"
        }
       ],
       "ref": "58e1dc4f-83d6-4c14-ad49-005ddf31459f",
       "rows": [
        [
         "0",
         "128",
         "25",
         "265.1",
         "110",
         "45.07",
         "197.4",
         "99",
         "16.78",
         "244.7",
         "91",
         "11.01",
         "10.0",
         "3",
         "2.7",
         "1"
        ],
        [
         "1",
         "107",
         "26",
         "161.6",
         "123",
         "27.47",
         "195.5",
         "103",
         "16.62",
         "254.4",
         "103",
         "11.45",
         "13.7",
         "3",
         "3.7",
         "1"
        ],
        [
         "2",
         "137",
         "0",
         "243.4",
         "114",
         "41.38",
         "121.2",
         "110",
         "10.3",
         "162.6",
         "104",
         "7.32",
         "12.2",
         "5",
         "3.29",
         "0"
        ],
        [
         "3",
         "84",
         "0",
         "299.4",
         "71",
         "50.9",
         "61.9",
         "88",
         "5.26",
         "196.9",
         "89",
         "8.86",
         "6.6",
         "7",
         "1.78",
         "2"
        ],
        [
         "4",
         "75",
         "0",
         "166.7",
         "113",
         "28.34",
         "148.3",
         "122",
         "12.61",
         "186.9",
         "121",
         "8.41",
         "10.1",
         "3",
         "2.73",
         "3"
        ]
       ],
       "shape": {
        "columns": 15,
        "rows": 5
       }
      },
      "text/html": [
       "<div>\n",
       "<style scoped>\n",
       "    .dataframe tbody tr th:only-of-type {\n",
       "        vertical-align: middle;\n",
       "    }\n",
       "\n",
       "    .dataframe tbody tr th {\n",
       "        vertical-align: top;\n",
       "    }\n",
       "\n",
       "    .dataframe thead th {\n",
       "        text-align: right;\n",
       "    }\n",
       "</style>\n",
       "<table border=\"1\" class=\"dataframe\">\n",
       "  <thead>\n",
       "    <tr style=\"text-align: right;\">\n",
       "      <th></th>\n",
       "      <th>account length</th>\n",
       "      <th>number vmail messages</th>\n",
       "      <th>total day minutes</th>\n",
       "      <th>total day calls</th>\n",
       "      <th>total day charge</th>\n",
       "      <th>total eve minutes</th>\n",
       "      <th>total eve calls</th>\n",
       "      <th>total eve charge</th>\n",
       "      <th>total night minutes</th>\n",
       "      <th>total night calls</th>\n",
       "      <th>total night charge</th>\n",
       "      <th>total intl minutes</th>\n",
       "      <th>total intl calls</th>\n",
       "      <th>total intl charge</th>\n",
       "      <th>customer service calls</th>\n",
       "    </tr>\n",
       "  </thead>\n",
       "  <tbody>\n",
       "    <tr>\n",
       "      <th>0</th>\n",
       "      <td>128</td>\n",
       "      <td>25</td>\n",
       "      <td>265.1</td>\n",
       "      <td>110</td>\n",
       "      <td>45.07</td>\n",
       "      <td>197.4</td>\n",
       "      <td>99</td>\n",
       "      <td>16.78</td>\n",
       "      <td>244.7</td>\n",
       "      <td>91</td>\n",
       "      <td>11.01</td>\n",
       "      <td>10.0</td>\n",
       "      <td>3</td>\n",
       "      <td>2.70</td>\n",
       "      <td>1</td>\n",
       "    </tr>\n",
       "    <tr>\n",
       "      <th>1</th>\n",
       "      <td>107</td>\n",
       "      <td>26</td>\n",
       "      <td>161.6</td>\n",
       "      <td>123</td>\n",
       "      <td>27.47</td>\n",
       "      <td>195.5</td>\n",
       "      <td>103</td>\n",
       "      <td>16.62</td>\n",
       "      <td>254.4</td>\n",
       "      <td>103</td>\n",
       "      <td>11.45</td>\n",
       "      <td>13.7</td>\n",
       "      <td>3</td>\n",
       "      <td>3.70</td>\n",
       "      <td>1</td>\n",
       "    </tr>\n",
       "    <tr>\n",
       "      <th>2</th>\n",
       "      <td>137</td>\n",
       "      <td>0</td>\n",
       "      <td>243.4</td>\n",
       "      <td>114</td>\n",
       "      <td>41.38</td>\n",
       "      <td>121.2</td>\n",
       "      <td>110</td>\n",
       "      <td>10.30</td>\n",
       "      <td>162.6</td>\n",
       "      <td>104</td>\n",
       "      <td>7.32</td>\n",
       "      <td>12.2</td>\n",
       "      <td>5</td>\n",
       "      <td>3.29</td>\n",
       "      <td>0</td>\n",
       "    </tr>\n",
       "    <tr>\n",
       "      <th>3</th>\n",
       "      <td>84</td>\n",
       "      <td>0</td>\n",
       "      <td>299.4</td>\n",
       "      <td>71</td>\n",
       "      <td>50.90</td>\n",
       "      <td>61.9</td>\n",
       "      <td>88</td>\n",
       "      <td>5.26</td>\n",
       "      <td>196.9</td>\n",
       "      <td>89</td>\n",
       "      <td>8.86</td>\n",
       "      <td>6.6</td>\n",
       "      <td>7</td>\n",
       "      <td>1.78</td>\n",
       "      <td>2</td>\n",
       "    </tr>\n",
       "    <tr>\n",
       "      <th>4</th>\n",
       "      <td>75</td>\n",
       "      <td>0</td>\n",
       "      <td>166.7</td>\n",
       "      <td>113</td>\n",
       "      <td>28.34</td>\n",
       "      <td>148.3</td>\n",
       "      <td>122</td>\n",
       "      <td>12.61</td>\n",
       "      <td>186.9</td>\n",
       "      <td>121</td>\n",
       "      <td>8.41</td>\n",
       "      <td>10.1</td>\n",
       "      <td>3</td>\n",
       "      <td>2.73</td>\n",
       "      <td>3</td>\n",
       "    </tr>\n",
       "  </tbody>\n",
       "</table>\n",
       "</div>"
      ],
      "text/plain": [
       "   account length  number vmail messages  total day minutes  total day calls  \\\n",
       "0             128                     25              265.1              110   \n",
       "1             107                     26              161.6              123   \n",
       "2             137                      0              243.4              114   \n",
       "3              84                      0              299.4               71   \n",
       "4              75                      0              166.7              113   \n",
       "\n",
       "   total day charge  total eve minutes  total eve calls  total eve charge  \\\n",
       "0             45.07              197.4               99             16.78   \n",
       "1             27.47              195.5              103             16.62   \n",
       "2             41.38              121.2              110             10.30   \n",
       "3             50.90               61.9               88              5.26   \n",
       "4             28.34              148.3              122             12.61   \n",
       "\n",
       "   total night minutes  total night calls  total night charge  \\\n",
       "0                244.7                 91               11.01   \n",
       "1                254.4                103               11.45   \n",
       "2                162.6                104                7.32   \n",
       "3                196.9                 89                8.86   \n",
       "4                186.9                121                8.41   \n",
       "\n",
       "   total intl minutes  total intl calls  total intl charge  \\\n",
       "0                10.0                 3               2.70   \n",
       "1                13.7                 3               3.70   \n",
       "2                12.2                 5               3.29   \n",
       "3                 6.6                 7               1.78   \n",
       "4                10.1                 3               2.73   \n",
       "\n",
       "   customer service calls  \n",
       "0                       1  \n",
       "1                       1  \n",
       "2                       0  \n",
       "3                       2  \n",
       "4                       3  "
      ]
     },
     "execution_count": 259,
     "metadata": {},
     "output_type": "execute_result"
    }
   ],
   "source": [
    "churn_df_num =churn_df.select_dtypes(exclude=[\"bool_\", \"object_\"])\n",
    "churn_df_num.head()"
   ]
  },
  {
   "cell_type": "markdown",
   "id": "8c1e82d4",
   "metadata": {},
   "source": [
    "&nbsp;&nbsp;&nbsp;&nbsp;&nbsp;&nbsp;&nbsp;&nbsp;&nbsp;&nbsp;&nbsp;&nbsp;&nbsp;&nbsp;&nbsp;&nbsp;&nbsp;&nbsp;&nbsp;&nbsp;&nbsp;&nbsp;&nbsp;&nbsp;&nbsp;&nbsp;&nbsp;&nbsp;&nbsp;&nbsp;&nbsp;&nbsp;&nbsp;&nbsp;&nbsp;&nbsp;&nbsp;&nbsp;&nbsp;&nbsp;&nbsp;&nbsp;&nbsp;&nbsp;&nbsp;&nbsp;&nbsp;&nbsp;&nbsp;&nbsp;&nbsp;&nbsp;&nbsp;&nbsp;&nbsp;&nbsp;&nbsp;&nbsp;&nbsp;&nbsp;&nbsp;&nbsp;&nbsp;&nbsp;&nbsp;&nbsp;&nbsp;&nbsp;&nbsp;&nbsp;&nbsp;&nbsp;&nbsp;&nbsp;&nbsp;&nbsp;&nbsp;&nbsp;&nbsp;&nbsp;&nbsp;&nbsp;&nbsp;&nbsp;&nbsp;&nbsp;&nbsp;&nbsp;&nbsp;&nbsp;&nbsp;&nbsp;&nbsp;&nbsp;&nbsp;&nbsp;&nbsp;&nbsp;&nbsp;&nbsp;&nbsp;&nbsp;&nbsp;&nbsp;&nbsp;&nbsp;&nbsp;&nbsp;&nbsp;&nbsp;&nbsp;&nbsp;&nbsp;&nbsp;&nbsp;&nbsp;&nbsp;&nbsp;&nbsp;&nbsp;&nbsp;&nbsp;&nbsp;&nbsp;&nbsp;&nbsp;&nbsp;&nbsp;&nbsp;&nbsp;&nbsp;&nbsp;&nbsp;&nbsp;&nbsp;&nbsp;&nbsp;&nbsp;&nbsp;&nbsp;&nbsp;&nbsp;&nbsp;&nbsp;&nbsp;&nbsp;&nbsp;&nbsp;&nbsp;&nbsp;&nbsp;&nbsp;&nbsp;&nbsp;&nbsp;&nbsp;&nbsp;&nbsp;&nbsp;&nbsp;&nbsp;&nbsp;&nbsp;&nbsp;&nbsp;&nbsp;&nbsp;&nbsp;&nbsp;&nbsp;&nbsp;&nbsp;&nbsp;&nbsp;&nbsp;&nbsp;&nbsp;&nbsp;&nbsp;&nbsp;&nbsp;&nbsp;&nbsp;&nbsp;&nbsp;&nbsp;&nbsp;&nbsp;&nbsp;&nbsp;&nbsp;&nbsp;&nbsp;&nbsp;&nbsp;&nbsp;&nbsp;&nbsp;&nbsp;&nbsp;&nbsp;&nbsp;&nbsp;&nbsp;&nbsp;&nbsp;&nbsp;&nbsp;&nbsp;&nbsp;&nbsp;&nbsp;&nbsp;&nbsp;&nbsp;&nbsp;&nbsp;&nbsp;&nbsp;&nbsp;&nbsp;&nbsp;&nbsp;&nbsp;&nbsp;&nbsp;&nbsp;&nbsp;&nbsp;&nbsp;&nbsp;&nbsp;&nbsp;&nbsp;&nbsp;&nbsp;&nbsp;&nbsp;&nbsp;&nbsp;&nbsp;&nbsp;&nbsp;&nbsp;&nbsp;&nbsp;&nbsp;&nbsp;&nbsp;&nbsp;&nbsp;&nbsp;&nbsp;&nbsp;&nbsp;&nbsp;&nbsp;&nbsp;&nbsp;&nbsp;&nbsp;&nbsp;&nbsp;&nbsp;&nbsp;&nbsp;&nbsp;&nbsp;&nbsp;&nbsp;&nbsp;&nbsp;&nbsp;&nbsp;&nbsp;&nbsp;&nbsp;&nbsp;&nbsp;&nbsp;&nbsp;&nbsp;&nbsp;&nbsp;&nbsp;&nbsp;&nbsp;&nbsp;&nbsp;&nbsp;&nbsp;&nbsp;&nbsp;&nbsp;&nbsp;&nbsp;&nbsp;&nbsp; [&uarr;](#table-of-content)</br>"
   ]
  },
  {
   "cell_type": "code",
   "execution_count": 260,
   "id": "4d600b05",
   "metadata": {},
   "outputs": [
    {
     "data": {
      "application/vnd.microsoft.datawrangler.viewer.v0+json": {
       "columns": [
        {
         "name": "(None, None)",
         "rawType": "object",
         "type": "unknown"
        },
        {
         "name": "0",
         "rawType": "float64",
         "type": "float"
        }
       ],
       "ref": "d7e47efd-2917-4c2a-9c83-b1e15d6eaf0f",
       "rows": [
        [
         "('total day minutes', 'total day charge')",
         "0.9999999521904007"
        ],
        [
         "('total eve minutes', 'total eve charge')",
         "0.9999997760198491"
        ],
        [
         "('total night minutes', 'total night charge')",
         "0.9999992148758795"
        ],
        [
         "('total intl minutes', 'total intl charge')",
         "0.9999927417510314"
        ],
        [
         "('account length', 'total day calls')",
         "0.03846988231670495"
        ],
        [
         "('total intl calls', 'total intl charge')",
         "0.032372145322434605"
        ],
        [
         "('total intl minutes', 'total intl calls')",
         "0.03230388408942567"
        ],
        [
         "('total day minutes', 'total night calls')",
         "0.022972455506542176"
        ],
        [
         "('total day charge', 'total night calls')",
         "0.022972419522033136"
        ],
        [
         "('total day calls', 'total night minutes')",
         "0.02293784532486078"
        ],
        [
         "('total day calls', 'total night charge')",
         "0.022926637758333715"
        ],
        [
         "('total day calls', 'total intl charge')",
         "0.02166609515687867"
        ],
        [
         "('total day calls', 'total intl minutes')",
         "0.021564794329714962"
        ],
        [
         "('total day calls', 'total eve minutes')",
         "0.02145140781568231"
        ],
        [
         "('total day calls', 'total eve charge')",
         "0.021449262635143"
        ],
        [
         "('account length', 'total intl calls')",
         "0.02066142838066756"
        ],
        [
         "('total day calls', 'total night calls')",
         "0.019556965357458635"
        ],
        [
         "('account length', 'total eve calls')",
         "0.019259967009564935"
        ],
        [
         "('total day calls', 'customer service calls')",
         "0.01894193031358422"
        ],
        [
         "('number vmail messages', 'total eve charge')",
         "0.017577780115721822"
        ],
        [
         "('number vmail messages', 'total eve minutes')",
         "0.01756203425806375"
        ],
        [
         "('total intl calls', 'customer service calls')",
         "0.017560599224287703"
        ],
        [
         "('total eve calls', 'total intl calls')",
         "0.01743369206986391"
        ],
        [
         "('total day charge', 'total eve calls')",
         "0.015769282152255062"
        ],
        [
         "('total day minutes', 'total eve calls')",
         "0.01576899316032806"
        ],
        [
         "('total night charge', 'total intl minutes')",
         "0.01521352582543675"
        ],
        [
         "('total night minutes', 'total intl minutes')",
         "0.015207297282741759"
        ],
        [
         "('total night charge', 'total intl charge')",
         "0.015186138565999334"
        ],
        [
         "('total night minutes', 'total intl charge')",
         "0.015179849098513859"
        ],
        [
         "('number vmail messages', 'total intl calls')",
         "0.013957338671804822"
        ],
        [
         "('total night calls', 'total intl charge')",
         "0.01363016960633768"
        ],
        [
         "('total night calls', 'total intl minutes')",
         "0.013604996419343502"
        ],
        [
         "('total day charge', 'customer service calls')",
         "0.013426969383537006"
        ],
        [
         "('total day minutes', 'customer service calls')",
         "0.013423186351805753"
        ],
        [
         "('number vmail messages', 'customer service calls')",
         "0.013262583062485164"
        ],
        [
         "('account length', 'total night calls')",
         "0.01317627512929393"
        ],
        [
         "('total eve charge', 'customer service calls')",
         "0.012987406929959304"
        ],
        [
         "('total eve minutes', 'customer service calls')",
         "0.012984552867109277"
        ],
        [
         "('total night calls', 'customer service calls')",
         "0.012801927331037175"
        ],
        [
         "('total eve charge', 'total night charge')",
         "0.012601142055022047"
        ],
        [
         "('total eve minutes', 'total night charge')",
         "0.012592805749305137"
        ],
        [
         "('total eve charge', 'total night minutes')",
         "0.012592020408875446"
        ],
        [
         "('total eve minutes', 'total night minutes')",
         "0.012583677929227656"
        ],
        [
         "('total night minutes', 'total intl calls')",
         "0.012353432385806636"
        ],
        [
         "('total night charge', 'total intl calls')",
         "0.012329215024732658"
        ],
        [
         "('total eve minutes', 'total eve calls')",
         "0.01143010816551808"
        ],
        [
         "('total eve calls', 'total eve charge')",
         "0.011422894273234754"
        ],
        [
         "('total night minutes', 'total night calls')",
         "0.011203856290700155"
        ],
        [
         "('total night calls', 'total night charge')",
         "0.011187819717052216"
        ],
        [
         "('total eve charge', 'total intl charge')",
         "0.01107449892559716"
        ]
       ],
       "shape": {
        "columns": 1,
        "rows": 105
       }
      },
      "text/plain": [
       "total day minutes      total day charge       1.000000\n",
       "total eve minutes      total eve charge       1.000000\n",
       "total night minutes    total night charge     0.999999\n",
       "total intl minutes     total intl charge      0.999993\n",
       "account length         total day calls        0.038470\n",
       "                                                ...   \n",
       "total eve calls        total night minutes    0.002093\n",
       "                       total night charge     0.002056\n",
       "number vmail messages  total day minutes      0.000778\n",
       "                       total day charge       0.000776\n",
       "total night calls      total intl calls       0.000305\n",
       "Length: 105, dtype: float64"
      ]
     },
     "execution_count": 260,
     "metadata": {},
     "output_type": "execute_result"
    }
   ],
   "source": [
    "corr_abs = churn_df_num.corr().abs()\n",
    "\n",
    "sol = (corr_abs.where(np.triu(np.ones(corr_abs.shape), k=1).astype(np.bool)).stack().sort_values(ascending=False))\n",
    "sol"
   ]
  },
  {
   "cell_type": "code",
   "execution_count": 261,
   "id": "ec74fbb0",
   "metadata": {},
   "outputs": [
    {
     "data": {
      "application/vnd.microsoft.datawrangler.viewer.v0+json": {
       "columns": [
        {
         "name": "index",
         "rawType": "int64",
         "type": "integer"
        },
        {
         "name": "account length",
         "rawType": "int64",
         "type": "integer"
        },
        {
         "name": "number vmail messages",
         "rawType": "int64",
         "type": "integer"
        },
        {
         "name": "total day minutes",
         "rawType": "float64",
         "type": "float"
        },
        {
         "name": "total day calls",
         "rawType": "int64",
         "type": "integer"
        },
        {
         "name": "total eve minutes",
         "rawType": "float64",
         "type": "float"
        },
        {
         "name": "total eve calls",
         "rawType": "int64",
         "type": "integer"
        },
        {
         "name": "total night minutes",
         "rawType": "float64",
         "type": "float"
        },
        {
         "name": "total night calls",
         "rawType": "int64",
         "type": "integer"
        },
        {
         "name": "total intl minutes",
         "rawType": "float64",
         "type": "float"
        },
        {
         "name": "total intl calls",
         "rawType": "int64",
         "type": "integer"
        },
        {
         "name": "customer service calls",
         "rawType": "int64",
         "type": "integer"
        }
       ],
       "ref": "bfc3c3fc-d6df-43e7-9fe6-2a7005e43a82",
       "rows": [
        [
         "0",
         "128",
         "25",
         "265.1",
         "110",
         "197.4",
         "99",
         "244.7",
         "91",
         "10.0",
         "3",
         "1"
        ],
        [
         "1",
         "107",
         "26",
         "161.6",
         "123",
         "195.5",
         "103",
         "254.4",
         "103",
         "13.7",
         "3",
         "1"
        ],
        [
         "2",
         "137",
         "0",
         "243.4",
         "114",
         "121.2",
         "110",
         "162.6",
         "104",
         "12.2",
         "5",
         "0"
        ],
        [
         "3",
         "84",
         "0",
         "299.4",
         "71",
         "61.9",
         "88",
         "196.9",
         "89",
         "6.6",
         "7",
         "2"
        ],
        [
         "4",
         "75",
         "0",
         "166.7",
         "113",
         "148.3",
         "122",
         "186.9",
         "121",
         "10.1",
         "3",
         "3"
        ],
        [
         "5",
         "118",
         "0",
         "223.4",
         "98",
         "220.6",
         "101",
         "203.9",
         "118",
         "6.3",
         "6",
         "0"
        ],
        [
         "6",
         "121",
         "24",
         "218.2",
         "88",
         "348.5",
         "108",
         "212.6",
         "118",
         "7.5",
         "7",
         "3"
        ],
        [
         "7",
         "147",
         "0",
         "157.0",
         "79",
         "103.1",
         "94",
         "211.8",
         "96",
         "7.1",
         "6",
         "0"
        ],
        [
         "8",
         "117",
         "0",
         "184.5",
         "97",
         "351.6",
         "80",
         "215.8",
         "90",
         "8.7",
         "4",
         "1"
        ],
        [
         "9",
         "141",
         "37",
         "258.6",
         "84",
         "222.0",
         "111",
         "326.4",
         "97",
         "11.2",
         "5",
         "0"
        ],
        [
         "10",
         "65",
         "0",
         "129.1",
         "137",
         "228.5",
         "83",
         "208.8",
         "111",
         "12.7",
         "6",
         "4"
        ],
        [
         "11",
         "74",
         "0",
         "187.7",
         "127",
         "163.4",
         "148",
         "196.0",
         "94",
         "9.1",
         "5",
         "0"
        ],
        [
         "12",
         "168",
         "0",
         "128.8",
         "96",
         "104.9",
         "71",
         "141.1",
         "128",
         "11.2",
         "2",
         "1"
        ],
        [
         "13",
         "95",
         "0",
         "156.6",
         "88",
         "247.6",
         "75",
         "192.3",
         "115",
         "12.3",
         "5",
         "3"
        ],
        [
         "14",
         "62",
         "0",
         "120.7",
         "70",
         "307.2",
         "76",
         "203.0",
         "99",
         "13.1",
         "6",
         "4"
        ],
        [
         "15",
         "161",
         "0",
         "332.9",
         "67",
         "317.8",
         "97",
         "160.6",
         "128",
         "5.4",
         "9",
         "4"
        ],
        [
         "16",
         "85",
         "27",
         "196.4",
         "139",
         "280.9",
         "90",
         "89.3",
         "75",
         "13.8",
         "4",
         "1"
        ],
        [
         "17",
         "93",
         "0",
         "190.7",
         "114",
         "218.2",
         "111",
         "129.6",
         "121",
         "8.1",
         "3",
         "3"
        ],
        [
         "18",
         "76",
         "33",
         "189.7",
         "66",
         "212.8",
         "65",
         "165.7",
         "108",
         "10.0",
         "5",
         "1"
        ],
        [
         "19",
         "73",
         "0",
         "224.4",
         "90",
         "159.5",
         "88",
         "192.8",
         "74",
         "13.0",
         "2",
         "1"
        ],
        [
         "20",
         "147",
         "0",
         "155.1",
         "117",
         "239.7",
         "93",
         "208.8",
         "133",
         "10.6",
         "4",
         "0"
        ],
        [
         "21",
         "77",
         "0",
         "62.4",
         "89",
         "169.9",
         "121",
         "209.6",
         "64",
         "5.7",
         "6",
         "5"
        ],
        [
         "22",
         "130",
         "0",
         "183.0",
         "112",
         "72.9",
         "99",
         "181.8",
         "78",
         "9.5",
         "19",
         "0"
        ],
        [
         "23",
         "111",
         "0",
         "110.4",
         "103",
         "137.3",
         "102",
         "189.6",
         "105",
         "7.7",
         "6",
         "2"
        ],
        [
         "24",
         "132",
         "0",
         "81.1",
         "86",
         "245.2",
         "72",
         "237.0",
         "115",
         "10.3",
         "2",
         "0"
        ],
        [
         "25",
         "174",
         "0",
         "124.3",
         "76",
         "277.1",
         "112",
         "250.7",
         "115",
         "15.5",
         "5",
         "3"
        ],
        [
         "26",
         "57",
         "39",
         "213.0",
         "115",
         "191.1",
         "112",
         "182.7",
         "115",
         "9.5",
         "3",
         "0"
        ],
        [
         "27",
         "54",
         "0",
         "134.3",
         "73",
         "155.5",
         "100",
         "102.1",
         "68",
         "14.7",
         "4",
         "3"
        ],
        [
         "28",
         "20",
         "0",
         "190.0",
         "109",
         "258.2",
         "84",
         "181.5",
         "102",
         "6.3",
         "6",
         "0"
        ],
        [
         "29",
         "49",
         "0",
         "119.3",
         "117",
         "215.1",
         "109",
         "178.7",
         "90",
         "11.1",
         "1",
         "1"
        ],
        [
         "30",
         "142",
         "0",
         "84.8",
         "95",
         "136.7",
         "63",
         "250.5",
         "148",
         "14.2",
         "6",
         "2"
        ],
        [
         "31",
         "75",
         "0",
         "226.1",
         "105",
         "201.5",
         "107",
         "246.2",
         "98",
         "10.3",
         "5",
         "1"
        ],
        [
         "32",
         "172",
         "0",
         "212.0",
         "121",
         "31.2",
         "115",
         "293.3",
         "78",
         "12.6",
         "10",
         "3"
        ],
        [
         "33",
         "12",
         "0",
         "249.6",
         "118",
         "252.4",
         "119",
         "280.2",
         "90",
         "11.8",
         "3",
         "1"
        ],
        [
         "34",
         "57",
         "25",
         "176.8",
         "94",
         "195.0",
         "75",
         "213.5",
         "116",
         "8.3",
         "4",
         "0"
        ],
        [
         "35",
         "72",
         "37",
         "220.0",
         "80",
         "217.3",
         "102",
         "152.8",
         "71",
         "14.7",
         "6",
         "3"
        ],
        [
         "36",
         "36",
         "30",
         "146.3",
         "128",
         "162.5",
         "80",
         "129.3",
         "109",
         "14.5",
         "6",
         "0"
        ],
        [
         "37",
         "78",
         "0",
         "130.8",
         "64",
         "223.7",
         "116",
         "227.8",
         "108",
         "10.0",
         "5",
         "1"
        ],
        [
         "38",
         "136",
         "33",
         "203.9",
         "106",
         "187.6",
         "99",
         "101.7",
         "107",
         "10.5",
         "6",
         "3"
        ],
        [
         "39",
         "149",
         "0",
         "140.4",
         "94",
         "271.8",
         "92",
         "188.3",
         "108",
         "11.1",
         "9",
         "1"
        ],
        [
         "40",
         "98",
         "0",
         "126.3",
         "102",
         "166.8",
         "85",
         "187.8",
         "135",
         "9.4",
         "2",
         "3"
        ],
        [
         "41",
         "135",
         "41",
         "173.1",
         "85",
         "203.9",
         "107",
         "122.2",
         "78",
         "14.6",
         "15",
         "0"
        ],
        [
         "42",
         "34",
         "0",
         "124.8",
         "82",
         "282.2",
         "98",
         "311.5",
         "78",
         "10.0",
         "4",
         "2"
        ],
        [
         "43",
         "160",
         "0",
         "85.8",
         "77",
         "165.3",
         "110",
         "178.5",
         "92",
         "9.2",
         "4",
         "3"
        ],
        [
         "44",
         "64",
         "0",
         "154.0",
         "67",
         "225.8",
         "118",
         "265.3",
         "86",
         "3.5",
         "3",
         "1"
        ],
        [
         "45",
         "59",
         "28",
         "120.9",
         "97",
         "213.0",
         "92",
         "163.1",
         "116",
         "8.5",
         "5",
         "2"
        ],
        [
         "46",
         "65",
         "0",
         "211.3",
         "120",
         "162.6",
         "122",
         "134.7",
         "118",
         "13.2",
         "5",
         "3"
        ],
        [
         "47",
         "142",
         "0",
         "187.0",
         "133",
         "134.6",
         "74",
         "242.2",
         "127",
         "7.4",
         "5",
         "2"
        ],
        [
         "48",
         "119",
         "0",
         "159.1",
         "114",
         "231.3",
         "117",
         "143.2",
         "91",
         "8.8",
         "3",
         "5"
        ],
        [
         "49",
         "97",
         "24",
         "133.2",
         "135",
         "217.2",
         "58",
         "70.6",
         "79",
         "11.0",
         "3",
         "1"
        ]
       ],
       "shape": {
        "columns": 11,
        "rows": 3333
       }
      },
      "text/html": [
       "<div>\n",
       "<style scoped>\n",
       "    .dataframe tbody tr th:only-of-type {\n",
       "        vertical-align: middle;\n",
       "    }\n",
       "\n",
       "    .dataframe tbody tr th {\n",
       "        vertical-align: top;\n",
       "    }\n",
       "\n",
       "    .dataframe thead th {\n",
       "        text-align: right;\n",
       "    }\n",
       "</style>\n",
       "<table border=\"1\" class=\"dataframe\">\n",
       "  <thead>\n",
       "    <tr style=\"text-align: right;\">\n",
       "      <th></th>\n",
       "      <th>account length</th>\n",
       "      <th>number vmail messages</th>\n",
       "      <th>total day minutes</th>\n",
       "      <th>total day calls</th>\n",
       "      <th>total eve minutes</th>\n",
       "      <th>total eve calls</th>\n",
       "      <th>total night minutes</th>\n",
       "      <th>total night calls</th>\n",
       "      <th>total intl minutes</th>\n",
       "      <th>total intl calls</th>\n",
       "      <th>customer service calls</th>\n",
       "    </tr>\n",
       "  </thead>\n",
       "  <tbody>\n",
       "    <tr>\n",
       "      <th>0</th>\n",
       "      <td>128</td>\n",
       "      <td>25</td>\n",
       "      <td>265.1</td>\n",
       "      <td>110</td>\n",
       "      <td>197.4</td>\n",
       "      <td>99</td>\n",
       "      <td>244.7</td>\n",
       "      <td>91</td>\n",
       "      <td>10.0</td>\n",
       "      <td>3</td>\n",
       "      <td>1</td>\n",
       "    </tr>\n",
       "    <tr>\n",
       "      <th>1</th>\n",
       "      <td>107</td>\n",
       "      <td>26</td>\n",
       "      <td>161.6</td>\n",
       "      <td>123</td>\n",
       "      <td>195.5</td>\n",
       "      <td>103</td>\n",
       "      <td>254.4</td>\n",
       "      <td>103</td>\n",
       "      <td>13.7</td>\n",
       "      <td>3</td>\n",
       "      <td>1</td>\n",
       "    </tr>\n",
       "    <tr>\n",
       "      <th>2</th>\n",
       "      <td>137</td>\n",
       "      <td>0</td>\n",
       "      <td>243.4</td>\n",
       "      <td>114</td>\n",
       "      <td>121.2</td>\n",
       "      <td>110</td>\n",
       "      <td>162.6</td>\n",
       "      <td>104</td>\n",
       "      <td>12.2</td>\n",
       "      <td>5</td>\n",
       "      <td>0</td>\n",
       "    </tr>\n",
       "    <tr>\n",
       "      <th>3</th>\n",
       "      <td>84</td>\n",
       "      <td>0</td>\n",
       "      <td>299.4</td>\n",
       "      <td>71</td>\n",
       "      <td>61.9</td>\n",
       "      <td>88</td>\n",
       "      <td>196.9</td>\n",
       "      <td>89</td>\n",
       "      <td>6.6</td>\n",
       "      <td>7</td>\n",
       "      <td>2</td>\n",
       "    </tr>\n",
       "    <tr>\n",
       "      <th>4</th>\n",
       "      <td>75</td>\n",
       "      <td>0</td>\n",
       "      <td>166.7</td>\n",
       "      <td>113</td>\n",
       "      <td>148.3</td>\n",
       "      <td>122</td>\n",
       "      <td>186.9</td>\n",
       "      <td>121</td>\n",
       "      <td>10.1</td>\n",
       "      <td>3</td>\n",
       "      <td>3</td>\n",
       "    </tr>\n",
       "    <tr>\n",
       "      <th>...</th>\n",
       "      <td>...</td>\n",
       "      <td>...</td>\n",
       "      <td>...</td>\n",
       "      <td>...</td>\n",
       "      <td>...</td>\n",
       "      <td>...</td>\n",
       "      <td>...</td>\n",
       "      <td>...</td>\n",
       "      <td>...</td>\n",
       "      <td>...</td>\n",
       "      <td>...</td>\n",
       "    </tr>\n",
       "    <tr>\n",
       "      <th>3328</th>\n",
       "      <td>192</td>\n",
       "      <td>36</td>\n",
       "      <td>156.2</td>\n",
       "      <td>77</td>\n",
       "      <td>215.5</td>\n",
       "      <td>126</td>\n",
       "      <td>279.1</td>\n",
       "      <td>83</td>\n",
       "      <td>9.9</td>\n",
       "      <td>6</td>\n",
       "      <td>2</td>\n",
       "    </tr>\n",
       "    <tr>\n",
       "      <th>3329</th>\n",
       "      <td>68</td>\n",
       "      <td>0</td>\n",
       "      <td>231.1</td>\n",
       "      <td>57</td>\n",
       "      <td>153.4</td>\n",
       "      <td>55</td>\n",
       "      <td>191.3</td>\n",
       "      <td>123</td>\n",
       "      <td>9.6</td>\n",
       "      <td>4</td>\n",
       "      <td>3</td>\n",
       "    </tr>\n",
       "    <tr>\n",
       "      <th>3330</th>\n",
       "      <td>28</td>\n",
       "      <td>0</td>\n",
       "      <td>180.8</td>\n",
       "      <td>109</td>\n",
       "      <td>288.8</td>\n",
       "      <td>58</td>\n",
       "      <td>191.9</td>\n",
       "      <td>91</td>\n",
       "      <td>14.1</td>\n",
       "      <td>6</td>\n",
       "      <td>2</td>\n",
       "    </tr>\n",
       "    <tr>\n",
       "      <th>3331</th>\n",
       "      <td>184</td>\n",
       "      <td>0</td>\n",
       "      <td>213.8</td>\n",
       "      <td>105</td>\n",
       "      <td>159.6</td>\n",
       "      <td>84</td>\n",
       "      <td>139.2</td>\n",
       "      <td>137</td>\n",
       "      <td>5.0</td>\n",
       "      <td>10</td>\n",
       "      <td>2</td>\n",
       "    </tr>\n",
       "    <tr>\n",
       "      <th>3332</th>\n",
       "      <td>74</td>\n",
       "      <td>25</td>\n",
       "      <td>234.4</td>\n",
       "      <td>113</td>\n",
       "      <td>265.9</td>\n",
       "      <td>82</td>\n",
       "      <td>241.4</td>\n",
       "      <td>77</td>\n",
       "      <td>13.7</td>\n",
       "      <td>4</td>\n",
       "      <td>0</td>\n",
       "    </tr>\n",
       "  </tbody>\n",
       "</table>\n",
       "<p>3333 rows × 11 columns</p>\n",
       "</div>"
      ],
      "text/plain": [
       "      account length  number vmail messages  total day minutes  \\\n",
       "0                128                     25              265.1   \n",
       "1                107                     26              161.6   \n",
       "2                137                      0              243.4   \n",
       "3                 84                      0              299.4   \n",
       "4                 75                      0              166.7   \n",
       "...              ...                    ...                ...   \n",
       "3328             192                     36              156.2   \n",
       "3329              68                      0              231.1   \n",
       "3330              28                      0              180.8   \n",
       "3331             184                      0              213.8   \n",
       "3332              74                     25              234.4   \n",
       "\n",
       "      total day calls  total eve minutes  total eve calls  \\\n",
       "0                 110              197.4               99   \n",
       "1                 123              195.5              103   \n",
       "2                 114              121.2              110   \n",
       "3                  71               61.9               88   \n",
       "4                 113              148.3              122   \n",
       "...               ...                ...              ...   \n",
       "3328               77              215.5              126   \n",
       "3329               57              153.4               55   \n",
       "3330              109              288.8               58   \n",
       "3331              105              159.6               84   \n",
       "3332              113              265.9               82   \n",
       "\n",
       "      total night minutes  total night calls  total intl minutes  \\\n",
       "0                   244.7                 91                10.0   \n",
       "1                   254.4                103                13.7   \n",
       "2                   162.6                104                12.2   \n",
       "3                   196.9                 89                 6.6   \n",
       "4                   186.9                121                10.1   \n",
       "...                   ...                ...                 ...   \n",
       "3328                279.1                 83                 9.9   \n",
       "3329                191.3                123                 9.6   \n",
       "3330                191.9                 91                14.1   \n",
       "3331                139.2                137                 5.0   \n",
       "3332                241.4                 77                13.7   \n",
       "\n",
       "      total intl calls  customer service calls  \n",
       "0                    3                       1  \n",
       "1                    3                       1  \n",
       "2                    5                       0  \n",
       "3                    7                       2  \n",
       "4                    3                       3  \n",
       "...                ...                     ...  \n",
       "3328                 6                       2  \n",
       "3329                 4                       3  \n",
       "3330                 6                       2  \n",
       "3331                10                       2  \n",
       "3332                 4                       0  \n",
       "\n",
       "[3333 rows x 11 columns]"
      ]
     },
     "execution_count": 261,
     "metadata": {},
     "output_type": "execute_result"
    }
   ],
   "source": [
    "#drop features with high correlation pair -  Discouraging high multicolinearity\n",
    "\n",
    "churn_df_num.drop([\"total day charge\", \"total eve charge\", \"total night charge\", \"total intl charge\"], axis=1, inplace=True)\n",
    "churn_df_num"
   ]
  },
  {
   "cell_type": "markdown",
   "id": "1b090bb6",
   "metadata": {},
   "source": [
    "&nbsp;&nbsp;&nbsp;&nbsp;&nbsp;&nbsp;&nbsp;&nbsp;&nbsp;&nbsp;&nbsp;&nbsp;&nbsp;&nbsp;&nbsp;&nbsp;&nbsp;&nbsp;&nbsp;&nbsp;&nbsp;&nbsp;&nbsp;&nbsp;&nbsp;&nbsp;&nbsp;&nbsp;&nbsp;&nbsp;&nbsp;&nbsp;&nbsp;&nbsp;&nbsp;&nbsp;&nbsp;&nbsp;&nbsp;&nbsp;&nbsp;&nbsp;&nbsp;&nbsp;&nbsp;&nbsp;&nbsp;&nbsp;&nbsp;&nbsp;&nbsp;&nbsp;&nbsp;&nbsp;&nbsp;&nbsp;&nbsp;&nbsp;&nbsp;&nbsp;&nbsp;&nbsp;&nbsp;&nbsp;&nbsp;&nbsp;&nbsp;&nbsp;&nbsp;&nbsp;&nbsp;&nbsp;&nbsp;&nbsp;&nbsp;&nbsp;&nbsp;&nbsp;&nbsp;&nbsp;&nbsp;&nbsp;&nbsp;&nbsp;&nbsp;&nbsp;&nbsp;&nbsp;&nbsp;&nbsp;&nbsp;&nbsp;&nbsp;&nbsp;&nbsp;&nbsp;&nbsp;&nbsp;&nbsp;&nbsp;&nbsp;&nbsp;&nbsp;&nbsp;&nbsp;&nbsp;&nbsp;&nbsp;&nbsp;&nbsp;&nbsp;&nbsp;&nbsp;&nbsp;&nbsp;&nbsp;&nbsp;&nbsp;&nbsp;&nbsp;&nbsp;&nbsp;&nbsp;&nbsp;&nbsp;&nbsp;&nbsp;&nbsp;&nbsp;&nbsp;&nbsp;&nbsp;&nbsp;&nbsp;&nbsp;&nbsp;&nbsp;&nbsp;&nbsp;&nbsp;&nbsp;&nbsp;&nbsp;&nbsp;&nbsp;&nbsp;&nbsp;&nbsp;&nbsp;&nbsp;&nbsp;&nbsp;&nbsp;&nbsp;&nbsp;&nbsp;&nbsp;&nbsp;&nbsp;&nbsp;&nbsp;&nbsp;&nbsp;&nbsp;&nbsp;&nbsp;&nbsp;&nbsp;&nbsp;&nbsp;&nbsp;&nbsp;&nbsp;&nbsp;&nbsp;&nbsp;&nbsp;&nbsp;&nbsp;&nbsp;&nbsp;&nbsp;&nbsp;&nbsp;&nbsp;&nbsp;&nbsp;&nbsp;&nbsp;&nbsp;&nbsp;&nbsp;&nbsp;&nbsp;&nbsp;&nbsp;&nbsp;&nbsp;&nbsp;&nbsp;&nbsp;&nbsp;&nbsp;&nbsp;&nbsp;&nbsp;&nbsp;&nbsp;&nbsp;&nbsp;&nbsp;&nbsp;&nbsp;&nbsp;&nbsp;&nbsp;&nbsp;&nbsp;&nbsp;&nbsp;&nbsp;&nbsp;&nbsp;&nbsp;&nbsp;&nbsp;&nbsp;&nbsp;&nbsp;&nbsp;&nbsp;&nbsp;&nbsp;&nbsp;&nbsp;&nbsp;&nbsp;&nbsp;&nbsp;&nbsp;&nbsp;&nbsp;&nbsp;&nbsp;&nbsp;&nbsp;&nbsp;[Back to Prob Statmnt](#1.2-problem-statement) &nbsp;&nbsp;&nbsp;&nbsp;&nbsp;&nbsp;&nbsp;&nbsp;&nbsp; [Back to ToC](#table-of-content)"
   ]
  },
  {
   "cell_type": "code",
   "execution_count": null,
   "id": "a3a9f375",
   "metadata": {},
   "outputs": [],
   "source": []
  },
  {
   "cell_type": "code",
   "execution_count": 262,
   "id": "7ddb9f56",
   "metadata": {},
   "outputs": [
    {
     "data": {
      "application/vnd.microsoft.datawrangler.viewer.v0+json": {
       "columns": [
        {
         "name": "index",
         "rawType": "int64",
         "type": "integer"
        },
        {
         "name": "account length",
         "rawType": "int64",
         "type": "integer"
        },
        {
         "name": "number vmail messages",
         "rawType": "int64",
         "type": "integer"
        },
        {
         "name": "total day minutes",
         "rawType": "float64",
         "type": "float"
        },
        {
         "name": "total day calls",
         "rawType": "int64",
         "type": "integer"
        },
        {
         "name": "total eve minutes",
         "rawType": "float64",
         "type": "float"
        },
        {
         "name": "total eve calls",
         "rawType": "int64",
         "type": "integer"
        },
        {
         "name": "total night minutes",
         "rawType": "float64",
         "type": "float"
        },
        {
         "name": "total night calls",
         "rawType": "int64",
         "type": "integer"
        },
        {
         "name": "total intl minutes",
         "rawType": "float64",
         "type": "float"
        },
        {
         "name": "total intl calls",
         "rawType": "int64",
         "type": "integer"
        },
        {
         "name": "customer service calls",
         "rawType": "int64",
         "type": "integer"
        },
        {
         "name": "state",
         "rawType": "object",
         "type": "string"
        },
        {
         "name": "area code",
         "rawType": "object",
         "type": "unknown"
        },
        {
         "name": "international plan",
         "rawType": "object",
         "type": "string"
        },
        {
         "name": "voice mail plan",
         "rawType": "object",
         "type": "string"
        },
        {
         "name": "churn",
         "rawType": "object",
         "type": "unknown"
        }
       ],
       "ref": "f71fe41b-284b-4100-887e-e8413877e99a",
       "rows": [
        [
         "0",
         "128",
         "25",
         "265.1",
         "110",
         "197.4",
         "99",
         "244.7",
         "91",
         "10.0",
         "3",
         "1",
         "KS",
         "415",
         "no",
         "yes",
         "False"
        ],
        [
         "1",
         "107",
         "26",
         "161.6",
         "123",
         "195.5",
         "103",
         "254.4",
         "103",
         "13.7",
         "3",
         "1",
         "OH",
         "415",
         "no",
         "yes",
         "False"
        ],
        [
         "2",
         "137",
         "0",
         "243.4",
         "114",
         "121.2",
         "110",
         "162.6",
         "104",
         "12.2",
         "5",
         "0",
         "NJ",
         "415",
         "no",
         "no",
         "False"
        ],
        [
         "3",
         "84",
         "0",
         "299.4",
         "71",
         "61.9",
         "88",
         "196.9",
         "89",
         "6.6",
         "7",
         "2",
         "OH",
         "408",
         "yes",
         "no",
         "False"
        ],
        [
         "4",
         "75",
         "0",
         "166.7",
         "113",
         "148.3",
         "122",
         "186.9",
         "121",
         "10.1",
         "3",
         "3",
         "OK",
         "415",
         "yes",
         "no",
         "False"
        ],
        [
         "5",
         "118",
         "0",
         "223.4",
         "98",
         "220.6",
         "101",
         "203.9",
         "118",
         "6.3",
         "6",
         "0",
         "AL",
         "510",
         "yes",
         "no",
         "False"
        ],
        [
         "6",
         "121",
         "24",
         "218.2",
         "88",
         "348.5",
         "108",
         "212.6",
         "118",
         "7.5",
         "7",
         "3",
         "MA",
         "510",
         "no",
         "yes",
         "False"
        ],
        [
         "7",
         "147",
         "0",
         "157.0",
         "79",
         "103.1",
         "94",
         "211.8",
         "96",
         "7.1",
         "6",
         "0",
         "MO",
         "415",
         "yes",
         "no",
         "False"
        ],
        [
         "8",
         "117",
         "0",
         "184.5",
         "97",
         "351.6",
         "80",
         "215.8",
         "90",
         "8.7",
         "4",
         "1",
         "LA",
         "408",
         "no",
         "no",
         "False"
        ],
        [
         "9",
         "141",
         "37",
         "258.6",
         "84",
         "222.0",
         "111",
         "326.4",
         "97",
         "11.2",
         "5",
         "0",
         "WV",
         "415",
         "yes",
         "yes",
         "False"
        ],
        [
         "10",
         "65",
         "0",
         "129.1",
         "137",
         "228.5",
         "83",
         "208.8",
         "111",
         "12.7",
         "6",
         "4",
         "IN",
         "415",
         "no",
         "no",
         "True"
        ],
        [
         "11",
         "74",
         "0",
         "187.7",
         "127",
         "163.4",
         "148",
         "196.0",
         "94",
         "9.1",
         "5",
         "0",
         "RI",
         "415",
         "no",
         "no",
         "False"
        ],
        [
         "12",
         "168",
         "0",
         "128.8",
         "96",
         "104.9",
         "71",
         "141.1",
         "128",
         "11.2",
         "2",
         "1",
         "IA",
         "408",
         "no",
         "no",
         "False"
        ],
        [
         "13",
         "95",
         "0",
         "156.6",
         "88",
         "247.6",
         "75",
         "192.3",
         "115",
         "12.3",
         "5",
         "3",
         "MT",
         "510",
         "no",
         "no",
         "False"
        ],
        [
         "14",
         "62",
         "0",
         "120.7",
         "70",
         "307.2",
         "76",
         "203.0",
         "99",
         "13.1",
         "6",
         "4",
         "IA",
         "415",
         "no",
         "no",
         "False"
        ],
        [
         "15",
         "161",
         "0",
         "332.9",
         "67",
         "317.8",
         "97",
         "160.6",
         "128",
         "5.4",
         "9",
         "4",
         "NY",
         "415",
         "no",
         "no",
         "True"
        ],
        [
         "16",
         "85",
         "27",
         "196.4",
         "139",
         "280.9",
         "90",
         "89.3",
         "75",
         "13.8",
         "4",
         "1",
         "ID",
         "408",
         "no",
         "yes",
         "False"
        ],
        [
         "17",
         "93",
         "0",
         "190.7",
         "114",
         "218.2",
         "111",
         "129.6",
         "121",
         "8.1",
         "3",
         "3",
         "VT",
         "510",
         "no",
         "no",
         "False"
        ],
        [
         "18",
         "76",
         "33",
         "189.7",
         "66",
         "212.8",
         "65",
         "165.7",
         "108",
         "10.0",
         "5",
         "1",
         "VA",
         "510",
         "no",
         "yes",
         "False"
        ],
        [
         "19",
         "73",
         "0",
         "224.4",
         "90",
         "159.5",
         "88",
         "192.8",
         "74",
         "13.0",
         "2",
         "1",
         "TX",
         "415",
         "no",
         "no",
         "False"
        ],
        [
         "20",
         "147",
         "0",
         "155.1",
         "117",
         "239.7",
         "93",
         "208.8",
         "133",
         "10.6",
         "4",
         "0",
         "FL",
         "415",
         "no",
         "no",
         "False"
        ],
        [
         "21",
         "77",
         "0",
         "62.4",
         "89",
         "169.9",
         "121",
         "209.6",
         "64",
         "5.7",
         "6",
         "5",
         "CO",
         "408",
         "no",
         "no",
         "True"
        ],
        [
         "22",
         "130",
         "0",
         "183.0",
         "112",
         "72.9",
         "99",
         "181.8",
         "78",
         "9.5",
         "19",
         "0",
         "AZ",
         "415",
         "no",
         "no",
         "False"
        ],
        [
         "23",
         "111",
         "0",
         "110.4",
         "103",
         "137.3",
         "102",
         "189.6",
         "105",
         "7.7",
         "6",
         "2",
         "SC",
         "415",
         "no",
         "no",
         "False"
        ],
        [
         "24",
         "132",
         "0",
         "81.1",
         "86",
         "245.2",
         "72",
         "237.0",
         "115",
         "10.3",
         "2",
         "0",
         "VA",
         "510",
         "no",
         "no",
         "False"
        ],
        [
         "25",
         "174",
         "0",
         "124.3",
         "76",
         "277.1",
         "112",
         "250.7",
         "115",
         "15.5",
         "5",
         "3",
         "NE",
         "415",
         "no",
         "no",
         "False"
        ],
        [
         "26",
         "57",
         "39",
         "213.0",
         "115",
         "191.1",
         "112",
         "182.7",
         "115",
         "9.5",
         "3",
         "0",
         "WY",
         "408",
         "no",
         "yes",
         "False"
        ],
        [
         "27",
         "54",
         "0",
         "134.3",
         "73",
         "155.5",
         "100",
         "102.1",
         "68",
         "14.7",
         "4",
         "3",
         "MT",
         "408",
         "no",
         "no",
         "False"
        ],
        [
         "28",
         "20",
         "0",
         "190.0",
         "109",
         "258.2",
         "84",
         "181.5",
         "102",
         "6.3",
         "6",
         "0",
         "MO",
         "415",
         "no",
         "no",
         "False"
        ],
        [
         "29",
         "49",
         "0",
         "119.3",
         "117",
         "215.1",
         "109",
         "178.7",
         "90",
         "11.1",
         "1",
         "1",
         "HI",
         "510",
         "no",
         "no",
         "False"
        ],
        [
         "30",
         "142",
         "0",
         "84.8",
         "95",
         "136.7",
         "63",
         "250.5",
         "148",
         "14.2",
         "6",
         "2",
         "IL",
         "415",
         "no",
         "no",
         "False"
        ],
        [
         "31",
         "75",
         "0",
         "226.1",
         "105",
         "201.5",
         "107",
         "246.2",
         "98",
         "10.3",
         "5",
         "1",
         "NH",
         "510",
         "no",
         "no",
         "False"
        ],
        [
         "32",
         "172",
         "0",
         "212.0",
         "121",
         "31.2",
         "115",
         "293.3",
         "78",
         "12.6",
         "10",
         "3",
         "LA",
         "408",
         "no",
         "no",
         "False"
        ],
        [
         "33",
         "12",
         "0",
         "249.6",
         "118",
         "252.4",
         "119",
         "280.2",
         "90",
         "11.8",
         "3",
         "1",
         "AZ",
         "408",
         "no",
         "no",
         "True"
        ],
        [
         "34",
         "57",
         "25",
         "176.8",
         "94",
         "195.0",
         "75",
         "213.5",
         "116",
         "8.3",
         "4",
         "0",
         "OK",
         "408",
         "no",
         "yes",
         "False"
        ],
        [
         "35",
         "72",
         "37",
         "220.0",
         "80",
         "217.3",
         "102",
         "152.8",
         "71",
         "14.7",
         "6",
         "3",
         "GA",
         "415",
         "no",
         "yes",
         "False"
        ],
        [
         "36",
         "36",
         "30",
         "146.3",
         "128",
         "162.5",
         "80",
         "129.3",
         "109",
         "14.5",
         "6",
         "0",
         "AK",
         "408",
         "no",
         "yes",
         "False"
        ],
        [
         "37",
         "78",
         "0",
         "130.8",
         "64",
         "223.7",
         "116",
         "227.8",
         "108",
         "10.0",
         "5",
         "1",
         "MA",
         "415",
         "no",
         "no",
         "False"
        ],
        [
         "38",
         "136",
         "33",
         "203.9",
         "106",
         "187.6",
         "99",
         "101.7",
         "107",
         "10.5",
         "6",
         "3",
         "AK",
         "415",
         "yes",
         "yes",
         "False"
        ],
        [
         "39",
         "149",
         "0",
         "140.4",
         "94",
         "271.8",
         "92",
         "188.3",
         "108",
         "11.1",
         "9",
         "1",
         "NJ",
         "408",
         "no",
         "no",
         "False"
        ],
        [
         "40",
         "98",
         "0",
         "126.3",
         "102",
         "166.8",
         "85",
         "187.8",
         "135",
         "9.4",
         "2",
         "3",
         "GA",
         "408",
         "no",
         "no",
         "False"
        ],
        [
         "41",
         "135",
         "41",
         "173.1",
         "85",
         "203.9",
         "107",
         "122.2",
         "78",
         "14.6",
         "15",
         "0",
         "MD",
         "408",
         "yes",
         "yes",
         "True"
        ],
        [
         "42",
         "34",
         "0",
         "124.8",
         "82",
         "282.2",
         "98",
         "311.5",
         "78",
         "10.0",
         "4",
         "2",
         "AR",
         "510",
         "no",
         "no",
         "False"
        ],
        [
         "43",
         "160",
         "0",
         "85.8",
         "77",
         "165.3",
         "110",
         "178.5",
         "92",
         "9.2",
         "4",
         "3",
         "ID",
         "415",
         "no",
         "no",
         "False"
        ],
        [
         "44",
         "64",
         "0",
         "154.0",
         "67",
         "225.8",
         "118",
         "265.3",
         "86",
         "3.5",
         "3",
         "1",
         "WI",
         "510",
         "no",
         "no",
         "False"
        ],
        [
         "45",
         "59",
         "28",
         "120.9",
         "97",
         "213.0",
         "92",
         "163.1",
         "116",
         "8.5",
         "5",
         "2",
         "OR",
         "408",
         "no",
         "yes",
         "False"
        ],
        [
         "46",
         "65",
         "0",
         "211.3",
         "120",
         "162.6",
         "122",
         "134.7",
         "118",
         "13.2",
         "5",
         "3",
         "MI",
         "415",
         "no",
         "no",
         "False"
        ],
        [
         "47",
         "142",
         "0",
         "187.0",
         "133",
         "134.6",
         "74",
         "242.2",
         "127",
         "7.4",
         "5",
         "2",
         "DE",
         "408",
         "no",
         "no",
         "False"
        ],
        [
         "48",
         "119",
         "0",
         "159.1",
         "114",
         "231.3",
         "117",
         "143.2",
         "91",
         "8.8",
         "3",
         "5",
         "ID",
         "415",
         "no",
         "no",
         "True"
        ],
        [
         "49",
         "97",
         "24",
         "133.2",
         "135",
         "217.2",
         "58",
         "70.6",
         "79",
         "11.0",
         "3",
         "1",
         "WY",
         "415",
         "no",
         "yes",
         "False"
        ]
       ],
       "shape": {
        "columns": 16,
        "rows": 3333
       }
      },
      "text/html": [
       "<div>\n",
       "<style scoped>\n",
       "    .dataframe tbody tr th:only-of-type {\n",
       "        vertical-align: middle;\n",
       "    }\n",
       "\n",
       "    .dataframe tbody tr th {\n",
       "        vertical-align: top;\n",
       "    }\n",
       "\n",
       "    .dataframe thead th {\n",
       "        text-align: right;\n",
       "    }\n",
       "</style>\n",
       "<table border=\"1\" class=\"dataframe\">\n",
       "  <thead>\n",
       "    <tr style=\"text-align: right;\">\n",
       "      <th></th>\n",
       "      <th>account length</th>\n",
       "      <th>number vmail messages</th>\n",
       "      <th>total day minutes</th>\n",
       "      <th>total day calls</th>\n",
       "      <th>total eve minutes</th>\n",
       "      <th>total eve calls</th>\n",
       "      <th>total night minutes</th>\n",
       "      <th>total night calls</th>\n",
       "      <th>total intl minutes</th>\n",
       "      <th>total intl calls</th>\n",
       "      <th>customer service calls</th>\n",
       "      <th>state</th>\n",
       "      <th>area code</th>\n",
       "      <th>international plan</th>\n",
       "      <th>voice mail plan</th>\n",
       "      <th>churn</th>\n",
       "    </tr>\n",
       "  </thead>\n",
       "  <tbody>\n",
       "    <tr>\n",
       "      <th>0</th>\n",
       "      <td>128</td>\n",
       "      <td>25</td>\n",
       "      <td>265.1</td>\n",
       "      <td>110</td>\n",
       "      <td>197.4</td>\n",
       "      <td>99</td>\n",
       "      <td>244.7</td>\n",
       "      <td>91</td>\n",
       "      <td>10.0</td>\n",
       "      <td>3</td>\n",
       "      <td>1</td>\n",
       "      <td>KS</td>\n",
       "      <td>415</td>\n",
       "      <td>no</td>\n",
       "      <td>yes</td>\n",
       "      <td>False</td>\n",
       "    </tr>\n",
       "    <tr>\n",
       "      <th>1</th>\n",
       "      <td>107</td>\n",
       "      <td>26</td>\n",
       "      <td>161.6</td>\n",
       "      <td>123</td>\n",
       "      <td>195.5</td>\n",
       "      <td>103</td>\n",
       "      <td>254.4</td>\n",
       "      <td>103</td>\n",
       "      <td>13.7</td>\n",
       "      <td>3</td>\n",
       "      <td>1</td>\n",
       "      <td>OH</td>\n",
       "      <td>415</td>\n",
       "      <td>no</td>\n",
       "      <td>yes</td>\n",
       "      <td>False</td>\n",
       "    </tr>\n",
       "    <tr>\n",
       "      <th>2</th>\n",
       "      <td>137</td>\n",
       "      <td>0</td>\n",
       "      <td>243.4</td>\n",
       "      <td>114</td>\n",
       "      <td>121.2</td>\n",
       "      <td>110</td>\n",
       "      <td>162.6</td>\n",
       "      <td>104</td>\n",
       "      <td>12.2</td>\n",
       "      <td>5</td>\n",
       "      <td>0</td>\n",
       "      <td>NJ</td>\n",
       "      <td>415</td>\n",
       "      <td>no</td>\n",
       "      <td>no</td>\n",
       "      <td>False</td>\n",
       "    </tr>\n",
       "    <tr>\n",
       "      <th>3</th>\n",
       "      <td>84</td>\n",
       "      <td>0</td>\n",
       "      <td>299.4</td>\n",
       "      <td>71</td>\n",
       "      <td>61.9</td>\n",
       "      <td>88</td>\n",
       "      <td>196.9</td>\n",
       "      <td>89</td>\n",
       "      <td>6.6</td>\n",
       "      <td>7</td>\n",
       "      <td>2</td>\n",
       "      <td>OH</td>\n",
       "      <td>408</td>\n",
       "      <td>yes</td>\n",
       "      <td>no</td>\n",
       "      <td>False</td>\n",
       "    </tr>\n",
       "    <tr>\n",
       "      <th>4</th>\n",
       "      <td>75</td>\n",
       "      <td>0</td>\n",
       "      <td>166.7</td>\n",
       "      <td>113</td>\n",
       "      <td>148.3</td>\n",
       "      <td>122</td>\n",
       "      <td>186.9</td>\n",
       "      <td>121</td>\n",
       "      <td>10.1</td>\n",
       "      <td>3</td>\n",
       "      <td>3</td>\n",
       "      <td>OK</td>\n",
       "      <td>415</td>\n",
       "      <td>yes</td>\n",
       "      <td>no</td>\n",
       "      <td>False</td>\n",
       "    </tr>\n",
       "    <tr>\n",
       "      <th>...</th>\n",
       "      <td>...</td>\n",
       "      <td>...</td>\n",
       "      <td>...</td>\n",
       "      <td>...</td>\n",
       "      <td>...</td>\n",
       "      <td>...</td>\n",
       "      <td>...</td>\n",
       "      <td>...</td>\n",
       "      <td>...</td>\n",
       "      <td>...</td>\n",
       "      <td>...</td>\n",
       "      <td>...</td>\n",
       "      <td>...</td>\n",
       "      <td>...</td>\n",
       "      <td>...</td>\n",
       "      <td>...</td>\n",
       "    </tr>\n",
       "    <tr>\n",
       "      <th>3328</th>\n",
       "      <td>192</td>\n",
       "      <td>36</td>\n",
       "      <td>156.2</td>\n",
       "      <td>77</td>\n",
       "      <td>215.5</td>\n",
       "      <td>126</td>\n",
       "      <td>279.1</td>\n",
       "      <td>83</td>\n",
       "      <td>9.9</td>\n",
       "      <td>6</td>\n",
       "      <td>2</td>\n",
       "      <td>AZ</td>\n",
       "      <td>415</td>\n",
       "      <td>no</td>\n",
       "      <td>yes</td>\n",
       "      <td>False</td>\n",
       "    </tr>\n",
       "    <tr>\n",
       "      <th>3329</th>\n",
       "      <td>68</td>\n",
       "      <td>0</td>\n",
       "      <td>231.1</td>\n",
       "      <td>57</td>\n",
       "      <td>153.4</td>\n",
       "      <td>55</td>\n",
       "      <td>191.3</td>\n",
       "      <td>123</td>\n",
       "      <td>9.6</td>\n",
       "      <td>4</td>\n",
       "      <td>3</td>\n",
       "      <td>WV</td>\n",
       "      <td>415</td>\n",
       "      <td>no</td>\n",
       "      <td>no</td>\n",
       "      <td>False</td>\n",
       "    </tr>\n",
       "    <tr>\n",
       "      <th>3330</th>\n",
       "      <td>28</td>\n",
       "      <td>0</td>\n",
       "      <td>180.8</td>\n",
       "      <td>109</td>\n",
       "      <td>288.8</td>\n",
       "      <td>58</td>\n",
       "      <td>191.9</td>\n",
       "      <td>91</td>\n",
       "      <td>14.1</td>\n",
       "      <td>6</td>\n",
       "      <td>2</td>\n",
       "      <td>RI</td>\n",
       "      <td>510</td>\n",
       "      <td>no</td>\n",
       "      <td>no</td>\n",
       "      <td>False</td>\n",
       "    </tr>\n",
       "    <tr>\n",
       "      <th>3331</th>\n",
       "      <td>184</td>\n",
       "      <td>0</td>\n",
       "      <td>213.8</td>\n",
       "      <td>105</td>\n",
       "      <td>159.6</td>\n",
       "      <td>84</td>\n",
       "      <td>139.2</td>\n",
       "      <td>137</td>\n",
       "      <td>5.0</td>\n",
       "      <td>10</td>\n",
       "      <td>2</td>\n",
       "      <td>CT</td>\n",
       "      <td>510</td>\n",
       "      <td>yes</td>\n",
       "      <td>no</td>\n",
       "      <td>False</td>\n",
       "    </tr>\n",
       "    <tr>\n",
       "      <th>3332</th>\n",
       "      <td>74</td>\n",
       "      <td>25</td>\n",
       "      <td>234.4</td>\n",
       "      <td>113</td>\n",
       "      <td>265.9</td>\n",
       "      <td>82</td>\n",
       "      <td>241.4</td>\n",
       "      <td>77</td>\n",
       "      <td>13.7</td>\n",
       "      <td>4</td>\n",
       "      <td>0</td>\n",
       "      <td>TN</td>\n",
       "      <td>415</td>\n",
       "      <td>no</td>\n",
       "      <td>yes</td>\n",
       "      <td>False</td>\n",
       "    </tr>\n",
       "  </tbody>\n",
       "</table>\n",
       "<p>3333 rows × 16 columns</p>\n",
       "</div>"
      ],
      "text/plain": [
       "      account length  number vmail messages  total day minutes  \\\n",
       "0                128                     25              265.1   \n",
       "1                107                     26              161.6   \n",
       "2                137                      0              243.4   \n",
       "3                 84                      0              299.4   \n",
       "4                 75                      0              166.7   \n",
       "...              ...                    ...                ...   \n",
       "3328             192                     36              156.2   \n",
       "3329              68                      0              231.1   \n",
       "3330              28                      0              180.8   \n",
       "3331             184                      0              213.8   \n",
       "3332              74                     25              234.4   \n",
       "\n",
       "      total day calls  total eve minutes  total eve calls  \\\n",
       "0                 110              197.4               99   \n",
       "1                 123              195.5              103   \n",
       "2                 114              121.2              110   \n",
       "3                  71               61.9               88   \n",
       "4                 113              148.3              122   \n",
       "...               ...                ...              ...   \n",
       "3328               77              215.5              126   \n",
       "3329               57              153.4               55   \n",
       "3330              109              288.8               58   \n",
       "3331              105              159.6               84   \n",
       "3332              113              265.9               82   \n",
       "\n",
       "      total night minutes  total night calls  total intl minutes  \\\n",
       "0                   244.7                 91                10.0   \n",
       "1                   254.4                103                13.7   \n",
       "2                   162.6                104                12.2   \n",
       "3                   196.9                 89                 6.6   \n",
       "4                   186.9                121                10.1   \n",
       "...                   ...                ...                 ...   \n",
       "3328                279.1                 83                 9.9   \n",
       "3329                191.3                123                 9.6   \n",
       "3330                191.9                 91                14.1   \n",
       "3331                139.2                137                 5.0   \n",
       "3332                241.4                 77                13.7   \n",
       "\n",
       "      total intl calls  customer service calls state area code  \\\n",
       "0                    3                       1    KS       415   \n",
       "1                    3                       1    OH       415   \n",
       "2                    5                       0    NJ       415   \n",
       "3                    7                       2    OH       408   \n",
       "4                    3                       3    OK       415   \n",
       "...                ...                     ...   ...       ...   \n",
       "3328                 6                       2    AZ       415   \n",
       "3329                 4                       3    WV       415   \n",
       "3330                 6                       2    RI       510   \n",
       "3331                10                       2    CT       510   \n",
       "3332                 4                       0    TN       415   \n",
       "\n",
       "     international plan voice mail plan  churn  \n",
       "0                    no             yes  False  \n",
       "1                    no             yes  False  \n",
       "2                    no              no  False  \n",
       "3                   yes              no  False  \n",
       "4                   yes              no  False  \n",
       "...                 ...             ...    ...  \n",
       "3328                 no             yes  False  \n",
       "3329                 no              no  False  \n",
       "3330                 no              no  False  \n",
       "3331                yes              no  False  \n",
       "3332                 no             yes  False  \n",
       "\n",
       "[3333 rows x 16 columns]"
      ]
     },
     "execution_count": 262,
     "metadata": {},
     "output_type": "execute_result"
    }
   ],
   "source": [
    "#concatenate numerical and categorical datsets\n",
    "churn_df1 = pd.concat([churn_df_num,churn_df_cat], axis=1)\n",
    "churn_df1"
   ]
  },
  {
   "cell_type": "code",
   "execution_count": 263,
   "id": "cc9e45a6",
   "metadata": {},
   "outputs": [
    {
     "data": {
      "image/png": "[encoded data removed]",
      "text/plain": [
       "<Figure size 1500x1000 with 12 Axes>"
      ]
     },
     "metadata": {},
     "output_type": "display_data"
    }
   ],
   "source": [
    "#plot numerical data and check the feature with a bell curve - Normally distributed\n",
    "churn_df1.hist(figsize=(15, 10), bins=20)  # Adjust figsize and bins as needed\n",
    "plt.tight_layout()  # This ensures proper spacing between subplots\n",
    "plt.show()"
   ]
  },
  {
   "cell_type": "markdown",
   "id": "8125b7fb",
   "metadata": {},
   "source": [
    "account_length is normally distributed"
   ]
  },
  {
   "cell_type": "markdown",
   "id": "b7a4f95b",
   "metadata": {},
   "source": [
    "customer service calls is right skewed meaning that density is towards the left. This shows that only feww calls were made to the customer care"
   ]
  },
  {
   "cell_type": "markdown",
   "id": "60c5b0ab",
   "metadata": {},
   "source": [
    "voice mail msgs are limited. most are zero and some in the 20s and 30s and so on "
   ]
  },
  {
   "cell_type": "markdown",
   "id": "db1af1b4",
   "metadata": {},
   "source": [
    "We need to llok deeper into customer service calls and number of vmail messages since they seem biased or imbalanced"
   ]
  },
  {
   "cell_type": "code",
   "execution_count": 264,
   "id": "64e86548",
   "metadata": {},
   "outputs": [
    {
     "name": "stderr",
     "output_type": "stream",
     "text": [
      "c:\\ProgramData\\anaconda3\\Lib\\site-packages\\seaborn\\axisgrid.py:718: UserWarning: Using the countplot function without specifying `order` is likely to produce an incorrect plot.\n",
      "  warnings.warn(warning)\n"
     ]
    },
    {
     "data": {
      "image/png": "[encoded data removed]",
      "text/plain": [
       "<Figure size 1200x600 with 5 Axes>"
      ]
     },
     "metadata": {},
     "output_type": "display_data"
    }
   ],
   "source": [
    "# Plot categorical data using seaborn's facetgrit and pandas melt function\n",
    "\n",
    "f= pd.melt(churn_df1, value_vars=sorted(churn_df_cat))\n",
    "g= sns.FacetGrid(f, col=\"variable\", col_wrap=4,sharex=False, sharey=False)\n",
    "\n",
    "plt.xticks(rotation=\"vertical\")\n",
    "g = g.map(sns.countplot, 'value')\n",
    "[plt.setp(ax.get_xticklabels(), rotation=60) for ax in g.axes.flat]\n",
    "\n",
    "g.fig.tight_layout()\n",
    "plt.show()"
   ]
  },
  {
   "cell_type": "markdown",
   "id": "a86a5f01",
   "metadata": {},
   "source": [
    "ib the area code feature 415 has more datapoints as compared to 408 and 510 indicating bias"
   ]
  },
  {
   "cell_type": "markdown",
   "id": "ae9a9068",
   "metadata": {},
   "source": [
    "target variable is churn. People who have churned agained people who have not churned (more)  is again biased. churned ==yes has a less data set"
   ]
  },
  {
   "cell_type": "markdown",
   "id": "71900345",
   "metadata": {},
   "source": [
    "majority of the customers did not have an international plan. Again the data is biased"
   ]
  },
  {
   "cell_type": "markdown",
   "id": "2f3afe1a",
   "metadata": {},
   "source": [
    "The data  set is somewhat equally distributed for all the states, but the graph is too small. the data is not providing more information. COnsider droping the feature"
   ]
  },
  {
   "cell_type": "markdown",
   "id": "bae7711c",
   "metadata": {},
   "source": [
    "majority of the people did not use the voice mail plan. the data also look biased"
   ]
  },
  {
   "cell_type": "markdown",
   "id": "55271041",
   "metadata": {},
   "source": [
    "Number of people who churn are limited but this has a very big impact in the business"
   ]
  },
  {
   "cell_type": "markdown",
   "id": "b17eadd8",
   "metadata": {},
   "source": [
    "There are 2 major issues with the data set\n",
    "1. The data is skewed\n",
    "2. There are different scales in the numerical features so we have to handle them."
   ]
  },
  {
   "cell_type": "code",
   "execution_count": 265,
   "id": "785b8020",
   "metadata": {},
   "outputs": [],
   "source": [
    "#Two stepd\n",
    "# 1. Normalize the numerical data\n",
    "# 2. COnvert the categorical data into numerical data\n",
    "# 3. carefully handle skewed and imbalanced features"
   ]
  },
  {
   "cell_type": "code",
   "execution_count": 266,
   "id": "7e235797",
   "metadata": {},
   "outputs": [
    {
     "name": "stdout",
     "output_type": "stream",
     "text": [
      "the shurn= yes dataset has less data which is approximatelty  14.491449144914492 %\n"
     ]
    }
   ],
   "source": [
    "#filter data  where churn = yes\n",
    "\n",
    "is_churn=churn_df1['churn'] == True\n",
    "y_true = churn_df1.churn[is_churn]\n",
    "\n",
    "print('the shurn= yes dataset has less data which is approximatelty ', (y_true.shape[0] / churn_df1['churn'].shape[0])* 100, '%')"
   ]
  },
  {
   "cell_type": "code",
   "execution_count": 267,
   "id": "bc98f61a",
   "metadata": {},
   "outputs": [
    {
     "name": "stdout",
     "output_type": "stream",
     "text": [
      "account length              int64\n",
      "number vmail messages       int64\n",
      "total day minutes         float64\n",
      "total day calls             int64\n",
      "total eve minutes         float64\n",
      "total eve calls             int64\n",
      "total night minutes       float64\n",
      "total night calls           int64\n",
      "total intl minutes        float64\n",
      "total intl calls            int64\n",
      "customer service calls      int64\n",
      "state                       int64\n",
      "area code                   int64\n",
      "international plan          int64\n",
      "voice mail plan             int64\n",
      "churn                      object\n",
      "dtype: object\n"
     ]
    }
   ],
   "source": [
    "#Convert categorical data to numerical        USE THE LABEL ENCODER MODULE FROM THE PREPROCESSING SKLEARN LIB\n",
    "\n",
    "label_encoder = preprocessing.LabelEncoder()\n",
    "churn_df1['state'] = label_encoder.fit_transform(churn_df['state'])\n",
    "churn_df1['international plan'] = label_encoder.fit_transform(churn_df['international plan'])\n",
    "churn_df1['voice mail plan'] = label_encoder.fit_transform(churn_df['voice mail plan'])\n",
    "churn_df1['area code'] = label_encoder.fit_transform(churn_df['area code'])\n",
    "\n",
    "print(churn_df1.dtypes)\n"
   ]
  },
  {
   "cell_type": "code",
   "execution_count": 268,
   "id": "31274f42",
   "metadata": {},
   "outputs": [
    {
     "data": {
      "application/vnd.microsoft.datawrangler.viewer.v0+json": {
       "columns": [
        {
         "name": "index",
         "rawType": "int64",
         "type": "integer"
        },
        {
         "name": "account length",
         "rawType": "int64",
         "type": "integer"
        },
        {
         "name": "number vmail messages",
         "rawType": "int64",
         "type": "integer"
        },
        {
         "name": "total day minutes",
         "rawType": "float64",
         "type": "float"
        },
        {
         "name": "total day calls",
         "rawType": "int64",
         "type": "integer"
        },
        {
         "name": "total eve minutes",
         "rawType": "float64",
         "type": "float"
        },
        {
         "name": "total eve calls",
         "rawType": "int64",
         "type": "integer"
        },
        {
         "name": "total night minutes",
         "rawType": "float64",
         "type": "float"
        },
        {
         "name": "total night calls",
         "rawType": "int64",
         "type": "integer"
        },
        {
         "name": "total intl minutes",
         "rawType": "float64",
         "type": "float"
        },
        {
         "name": "total intl calls",
         "rawType": "int64",
         "type": "integer"
        },
        {
         "name": "customer service calls",
         "rawType": "int64",
         "type": "integer"
        },
        {
         "name": "state",
         "rawType": "int64",
         "type": "integer"
        },
        {
         "name": "area code",
         "rawType": "int64",
         "type": "integer"
        },
        {
         "name": "international plan",
         "rawType": "int64",
         "type": "integer"
        },
        {
         "name": "voice mail plan",
         "rawType": "int64",
         "type": "integer"
        },
        {
         "name": "churn",
         "rawType": "object",
         "type": "unknown"
        }
       ],
       "ref": "e899bc21-e1f3-4167-b32f-526a266f7dae",
       "rows": [
        [
         "0",
         "128",
         "25",
         "265.1",
         "110",
         "197.4",
         "99",
         "244.7",
         "91",
         "10.0",
         "3",
         "1",
         "16",
         "1",
         "0",
         "1",
         "False"
        ],
        [
         "1",
         "107",
         "26",
         "161.6",
         "123",
         "195.5",
         "103",
         "254.4",
         "103",
         "13.7",
         "3",
         "1",
         "35",
         "1",
         "0",
         "1",
         "False"
        ],
        [
         "2",
         "137",
         "0",
         "243.4",
         "114",
         "121.2",
         "110",
         "162.6",
         "104",
         "12.2",
         "5",
         "0",
         "31",
         "1",
         "0",
         "0",
         "False"
        ],
        [
         "3",
         "84",
         "0",
         "299.4",
         "71",
         "61.9",
         "88",
         "196.9",
         "89",
         "6.6",
         "7",
         "2",
         "35",
         "0",
         "1",
         "0",
         "False"
        ],
        [
         "4",
         "75",
         "0",
         "166.7",
         "113",
         "148.3",
         "122",
         "186.9",
         "121",
         "10.1",
         "3",
         "3",
         "36",
         "1",
         "1",
         "0",
         "False"
        ]
       ],
       "shape": {
        "columns": 16,
        "rows": 5
       }
      },
      "text/html": [
       "<div>\n",
       "<style scoped>\n",
       "    .dataframe tbody tr th:only-of-type {\n",
       "        vertical-align: middle;\n",
       "    }\n",
       "\n",
       "    .dataframe tbody tr th {\n",
       "        vertical-align: top;\n",
       "    }\n",
       "\n",
       "    .dataframe thead th {\n",
       "        text-align: right;\n",
       "    }\n",
       "</style>\n",
       "<table border=\"1\" class=\"dataframe\">\n",
       "  <thead>\n",
       "    <tr style=\"text-align: right;\">\n",
       "      <th></th>\n",
       "      <th>account length</th>\n",
       "      <th>number vmail messages</th>\n",
       "      <th>total day minutes</th>\n",
       "      <th>total day calls</th>\n",
       "      <th>total eve minutes</th>\n",
       "      <th>total eve calls</th>\n",
       "      <th>total night minutes</th>\n",
       "      <th>total night calls</th>\n",
       "      <th>total intl minutes</th>\n",
       "      <th>total intl calls</th>\n",
       "      <th>customer service calls</th>\n",
       "      <th>state</th>\n",
       "      <th>area code</th>\n",
       "      <th>international plan</th>\n",
       "      <th>voice mail plan</th>\n",
       "      <th>churn</th>\n",
       "    </tr>\n",
       "  </thead>\n",
       "  <tbody>\n",
       "    <tr>\n",
       "      <th>0</th>\n",
       "      <td>128</td>\n",
       "      <td>25</td>\n",
       "      <td>265.1</td>\n",
       "      <td>110</td>\n",
       "      <td>197.4</td>\n",
       "      <td>99</td>\n",
       "      <td>244.7</td>\n",
       "      <td>91</td>\n",
       "      <td>10.0</td>\n",
       "      <td>3</td>\n",
       "      <td>1</td>\n",
       "      <td>16</td>\n",
       "      <td>1</td>\n",
       "      <td>0</td>\n",
       "      <td>1</td>\n",
       "      <td>False</td>\n",
       "    </tr>\n",
       "    <tr>\n",
       "      <th>1</th>\n",
       "      <td>107</td>\n",
       "      <td>26</td>\n",
       "      <td>161.6</td>\n",
       "      <td>123</td>\n",
       "      <td>195.5</td>\n",
       "      <td>103</td>\n",
       "      <td>254.4</td>\n",
       "      <td>103</td>\n",
       "      <td>13.7</td>\n",
       "      <td>3</td>\n",
       "      <td>1</td>\n",
       "      <td>35</td>\n",
       "      <td>1</td>\n",
       "      <td>0</td>\n",
       "      <td>1</td>\n",
       "      <td>False</td>\n",
       "    </tr>\n",
       "    <tr>\n",
       "      <th>2</th>\n",
       "      <td>137</td>\n",
       "      <td>0</td>\n",
       "      <td>243.4</td>\n",
       "      <td>114</td>\n",
       "      <td>121.2</td>\n",
       "      <td>110</td>\n",
       "      <td>162.6</td>\n",
       "      <td>104</td>\n",
       "      <td>12.2</td>\n",
       "      <td>5</td>\n",
       "      <td>0</td>\n",
       "      <td>31</td>\n",
       "      <td>1</td>\n",
       "      <td>0</td>\n",
       "      <td>0</td>\n",
       "      <td>False</td>\n",
       "    </tr>\n",
       "    <tr>\n",
       "      <th>3</th>\n",
       "      <td>84</td>\n",
       "      <td>0</td>\n",
       "      <td>299.4</td>\n",
       "      <td>71</td>\n",
       "      <td>61.9</td>\n",
       "      <td>88</td>\n",
       "      <td>196.9</td>\n",
       "      <td>89</td>\n",
       "      <td>6.6</td>\n",
       "      <td>7</td>\n",
       "      <td>2</td>\n",
       "      <td>35</td>\n",
       "      <td>0</td>\n",
       "      <td>1</td>\n",
       "      <td>0</td>\n",
       "      <td>False</td>\n",
       "    </tr>\n",
       "    <tr>\n",
       "      <th>4</th>\n",
       "      <td>75</td>\n",
       "      <td>0</td>\n",
       "      <td>166.7</td>\n",
       "      <td>113</td>\n",
       "      <td>148.3</td>\n",
       "      <td>122</td>\n",
       "      <td>186.9</td>\n",
       "      <td>121</td>\n",
       "      <td>10.1</td>\n",
       "      <td>3</td>\n",
       "      <td>3</td>\n",
       "      <td>36</td>\n",
       "      <td>1</td>\n",
       "      <td>1</td>\n",
       "      <td>0</td>\n",
       "      <td>False</td>\n",
       "    </tr>\n",
       "  </tbody>\n",
       "</table>\n",
       "</div>"
      ],
      "text/plain": [
       "   account length  number vmail messages  total day minutes  total day calls  \\\n",
       "0             128                     25              265.1              110   \n",
       "1             107                     26              161.6              123   \n",
       "2             137                      0              243.4              114   \n",
       "3              84                      0              299.4               71   \n",
       "4              75                      0              166.7              113   \n",
       "\n",
       "   total eve minutes  total eve calls  total night minutes  total night calls  \\\n",
       "0              197.4               99                244.7                 91   \n",
       "1              195.5              103                254.4                103   \n",
       "2              121.2              110                162.6                104   \n",
       "3               61.9               88                196.9                 89   \n",
       "4              148.3              122                186.9                121   \n",
       "\n",
       "   total intl minutes  total intl calls  customer service calls  state  \\\n",
       "0                10.0                 3                       1     16   \n",
       "1                13.7                 3                       1     35   \n",
       "2                12.2                 5                       0     31   \n",
       "3                 6.6                 7                       2     35   \n",
       "4                10.1                 3                       3     36   \n",
       "\n",
       "   area code  international plan  voice mail plan  churn  \n",
       "0          1                   0                1  False  \n",
       "1          1                   0                1  False  \n",
       "2          1                   0                0  False  \n",
       "3          0                   1                0  False  \n",
       "4          1                   1                0  False  "
      ]
     },
     "execution_count": 268,
     "metadata": {},
     "output_type": "execute_result"
    }
   ],
   "source": [
    "churn_df1.head()"
   ]
  },
  {
   "cell_type": "code",
   "execution_count": 269,
   "id": "49b13a3c",
   "metadata": {},
   "outputs": [
    {
     "name": "stdout",
     "output_type": "stream",
     "text": [
      "y is a series with: 3333 records\n"
     ]
    },
    {
     "name": "stderr",
     "output_type": "stream",
     "text": [
      "C:\\Users\\MKU\\AppData\\Local\\Temp\\ipykernel_20628\\1221578504.py:7: FutureWarning: Downcasting behavior in `replace` is deprecated and will be removed in a future version. To retain the old behavior, explicitly call `result.infer_objects(copy=False)`. To opt-in to the future behavior, set `pd.set_option('future.no_silent_downcasting', True)`\n",
      "  y = y.replace(False, 0).replace(True,1)\n"
     ]
    }
   ],
   "source": [
    "# Separate the taraget variable\n",
    "y = churn_df1[\"churn\"]\n",
    "print(\"y is a series with:\", y.size, \"records\")\n",
    "\n",
    "#Replce False=0 nand True =1\n",
    "\n",
    "y = y.replace(False, 0).replace(True,1)\n"
   ]
  },
  {
   "cell_type": "code",
   "execution_count": 270,
   "id": "6e301a4f",
   "metadata": {},
   "outputs": [
    {
     "data": {
      "application/vnd.microsoft.datawrangler.viewer.v0+json": {
       "columns": [
        {
         "name": "index",
         "rawType": "int64",
         "type": "integer"
        },
        {
         "name": "account length",
         "rawType": "int64",
         "type": "integer"
        },
        {
         "name": "number vmail messages",
         "rawType": "int64",
         "type": "integer"
        },
        {
         "name": "total day minutes",
         "rawType": "float64",
         "type": "float"
        },
        {
         "name": "total day calls",
         "rawType": "int64",
         "type": "integer"
        },
        {
         "name": "total eve minutes",
         "rawType": "float64",
         "type": "float"
        },
        {
         "name": "total eve calls",
         "rawType": "int64",
         "type": "integer"
        },
        {
         "name": "total night minutes",
         "rawType": "float64",
         "type": "float"
        },
        {
         "name": "total night calls",
         "rawType": "int64",
         "type": "integer"
        },
        {
         "name": "total intl minutes",
         "rawType": "float64",
         "type": "float"
        },
        {
         "name": "total intl calls",
         "rawType": "int64",
         "type": "integer"
        },
        {
         "name": "customer service calls",
         "rawType": "int64",
         "type": "integer"
        },
        {
         "name": "state",
         "rawType": "int64",
         "type": "integer"
        },
        {
         "name": "area code",
         "rawType": "int64",
         "type": "integer"
        },
        {
         "name": "international plan",
         "rawType": "int64",
         "type": "integer"
        },
        {
         "name": "voice mail plan",
         "rawType": "int64",
         "type": "integer"
        }
       ],
       "ref": "d5993255-ac49-4fb4-ad2b-390956d45d14",
       "rows": [
        [
         "0",
         "128",
         "25",
         "265.1",
         "110",
         "197.4",
         "99",
         "244.7",
         "91",
         "10.0",
         "3",
         "1",
         "16",
         "1",
         "0",
         "1"
        ],
        [
         "1",
         "107",
         "26",
         "161.6",
         "123",
         "195.5",
         "103",
         "254.4",
         "103",
         "13.7",
         "3",
         "1",
         "35",
         "1",
         "0",
         "1"
        ],
        [
         "2",
         "137",
         "0",
         "243.4",
         "114",
         "121.2",
         "110",
         "162.6",
         "104",
         "12.2",
         "5",
         "0",
         "31",
         "1",
         "0",
         "0"
        ],
        [
         "3",
         "84",
         "0",
         "299.4",
         "71",
         "61.9",
         "88",
         "196.9",
         "89",
         "6.6",
         "7",
         "2",
         "35",
         "0",
         "1",
         "0"
        ],
        [
         "4",
         "75",
         "0",
         "166.7",
         "113",
         "148.3",
         "122",
         "186.9",
         "121",
         "10.1",
         "3",
         "3",
         "36",
         "1",
         "1",
         "0"
        ],
        [
         "5",
         "118",
         "0",
         "223.4",
         "98",
         "220.6",
         "101",
         "203.9",
         "118",
         "6.3",
         "6",
         "0",
         "1",
         "2",
         "1",
         "0"
        ],
        [
         "6",
         "121",
         "24",
         "218.2",
         "88",
         "348.5",
         "108",
         "212.6",
         "118",
         "7.5",
         "7",
         "3",
         "19",
         "2",
         "0",
         "1"
        ],
        [
         "7",
         "147",
         "0",
         "157.0",
         "79",
         "103.1",
         "94",
         "211.8",
         "96",
         "7.1",
         "6",
         "0",
         "24",
         "1",
         "1",
         "0"
        ],
        [
         "8",
         "117",
         "0",
         "184.5",
         "97",
         "351.6",
         "80",
         "215.8",
         "90",
         "8.7",
         "4",
         "1",
         "18",
         "0",
         "0",
         "0"
        ],
        [
         "9",
         "141",
         "37",
         "258.6",
         "84",
         "222.0",
         "111",
         "326.4",
         "97",
         "11.2",
         "5",
         "0",
         "49",
         "1",
         "1",
         "1"
        ],
        [
         "10",
         "65",
         "0",
         "129.1",
         "137",
         "228.5",
         "83",
         "208.8",
         "111",
         "12.7",
         "6",
         "4",
         "15",
         "1",
         "0",
         "0"
        ],
        [
         "11",
         "74",
         "0",
         "187.7",
         "127",
         "163.4",
         "148",
         "196.0",
         "94",
         "9.1",
         "5",
         "0",
         "39",
         "1",
         "0",
         "0"
        ],
        [
         "12",
         "168",
         "0",
         "128.8",
         "96",
         "104.9",
         "71",
         "141.1",
         "128",
         "11.2",
         "2",
         "1",
         "12",
         "0",
         "0",
         "0"
        ],
        [
         "13",
         "95",
         "0",
         "156.6",
         "88",
         "247.6",
         "75",
         "192.3",
         "115",
         "12.3",
         "5",
         "3",
         "26",
         "2",
         "0",
         "0"
        ],
        [
         "14",
         "62",
         "0",
         "120.7",
         "70",
         "307.2",
         "76",
         "203.0",
         "99",
         "13.1",
         "6",
         "4",
         "12",
         "1",
         "0",
         "0"
        ],
        [
         "15",
         "161",
         "0",
         "332.9",
         "67",
         "317.8",
         "97",
         "160.6",
         "128",
         "5.4",
         "9",
         "4",
         "34",
         "1",
         "0",
         "0"
        ],
        [
         "16",
         "85",
         "27",
         "196.4",
         "139",
         "280.9",
         "90",
         "89.3",
         "75",
         "13.8",
         "4",
         "1",
         "13",
         "0",
         "0",
         "1"
        ],
        [
         "17",
         "93",
         "0",
         "190.7",
         "114",
         "218.2",
         "111",
         "129.6",
         "121",
         "8.1",
         "3",
         "3",
         "46",
         "2",
         "0",
         "0"
        ],
        [
         "18",
         "76",
         "33",
         "189.7",
         "66",
         "212.8",
         "65",
         "165.7",
         "108",
         "10.0",
         "5",
         "1",
         "45",
         "2",
         "0",
         "1"
        ],
        [
         "19",
         "73",
         "0",
         "224.4",
         "90",
         "159.5",
         "88",
         "192.8",
         "74",
         "13.0",
         "2",
         "1",
         "43",
         "1",
         "0",
         "0"
        ],
        [
         "20",
         "147",
         "0",
         "155.1",
         "117",
         "239.7",
         "93",
         "208.8",
         "133",
         "10.6",
         "4",
         "0",
         "9",
         "1",
         "0",
         "0"
        ],
        [
         "21",
         "77",
         "0",
         "62.4",
         "89",
         "169.9",
         "121",
         "209.6",
         "64",
         "5.7",
         "6",
         "5",
         "5",
         "0",
         "0",
         "0"
        ],
        [
         "22",
         "130",
         "0",
         "183.0",
         "112",
         "72.9",
         "99",
         "181.8",
         "78",
         "9.5",
         "19",
         "0",
         "3",
         "1",
         "0",
         "0"
        ],
        [
         "23",
         "111",
         "0",
         "110.4",
         "103",
         "137.3",
         "102",
         "189.6",
         "105",
         "7.7",
         "6",
         "2",
         "40",
         "1",
         "0",
         "0"
        ],
        [
         "24",
         "132",
         "0",
         "81.1",
         "86",
         "245.2",
         "72",
         "237.0",
         "115",
         "10.3",
         "2",
         "0",
         "45",
         "2",
         "0",
         "0"
        ],
        [
         "25",
         "174",
         "0",
         "124.3",
         "76",
         "277.1",
         "112",
         "250.7",
         "115",
         "15.5",
         "5",
         "3",
         "29",
         "1",
         "0",
         "0"
        ],
        [
         "26",
         "57",
         "39",
         "213.0",
         "115",
         "191.1",
         "112",
         "182.7",
         "115",
         "9.5",
         "3",
         "0",
         "50",
         "0",
         "0",
         "1"
        ],
        [
         "27",
         "54",
         "0",
         "134.3",
         "73",
         "155.5",
         "100",
         "102.1",
         "68",
         "14.7",
         "4",
         "3",
         "26",
         "0",
         "0",
         "0"
        ],
        [
         "28",
         "20",
         "0",
         "190.0",
         "109",
         "258.2",
         "84",
         "181.5",
         "102",
         "6.3",
         "6",
         "0",
         "24",
         "1",
         "0",
         "0"
        ],
        [
         "29",
         "49",
         "0",
         "119.3",
         "117",
         "215.1",
         "109",
         "178.7",
         "90",
         "11.1",
         "1",
         "1",
         "11",
         "2",
         "0",
         "0"
        ],
        [
         "30",
         "142",
         "0",
         "84.8",
         "95",
         "136.7",
         "63",
         "250.5",
         "148",
         "14.2",
         "6",
         "2",
         "14",
         "1",
         "0",
         "0"
        ],
        [
         "31",
         "75",
         "0",
         "226.1",
         "105",
         "201.5",
         "107",
         "246.2",
         "98",
         "10.3",
         "5",
         "1",
         "30",
         "2",
         "0",
         "0"
        ],
        [
         "32",
         "172",
         "0",
         "212.0",
         "121",
         "31.2",
         "115",
         "293.3",
         "78",
         "12.6",
         "10",
         "3",
         "18",
         "0",
         "0",
         "0"
        ],
        [
         "33",
         "12",
         "0",
         "249.6",
         "118",
         "252.4",
         "119",
         "280.2",
         "90",
         "11.8",
         "3",
         "1",
         "3",
         "0",
         "0",
         "0"
        ],
        [
         "34",
         "57",
         "25",
         "176.8",
         "94",
         "195.0",
         "75",
         "213.5",
         "116",
         "8.3",
         "4",
         "0",
         "36",
         "0",
         "0",
         "1"
        ],
        [
         "35",
         "72",
         "37",
         "220.0",
         "80",
         "217.3",
         "102",
         "152.8",
         "71",
         "14.7",
         "6",
         "3",
         "10",
         "1",
         "0",
         "1"
        ],
        [
         "36",
         "36",
         "30",
         "146.3",
         "128",
         "162.5",
         "80",
         "129.3",
         "109",
         "14.5",
         "6",
         "0",
         "0",
         "0",
         "0",
         "1"
        ],
        [
         "37",
         "78",
         "0",
         "130.8",
         "64",
         "223.7",
         "116",
         "227.8",
         "108",
         "10.0",
         "5",
         "1",
         "19",
         "1",
         "0",
         "0"
        ],
        [
         "38",
         "136",
         "33",
         "203.9",
         "106",
         "187.6",
         "99",
         "101.7",
         "107",
         "10.5",
         "6",
         "3",
         "0",
         "1",
         "1",
         "1"
        ],
        [
         "39",
         "149",
         "0",
         "140.4",
         "94",
         "271.8",
         "92",
         "188.3",
         "108",
         "11.1",
         "9",
         "1",
         "31",
         "0",
         "0",
         "0"
        ],
        [
         "40",
         "98",
         "0",
         "126.3",
         "102",
         "166.8",
         "85",
         "187.8",
         "135",
         "9.4",
         "2",
         "3",
         "10",
         "0",
         "0",
         "0"
        ],
        [
         "41",
         "135",
         "41",
         "173.1",
         "85",
         "203.9",
         "107",
         "122.2",
         "78",
         "14.6",
         "15",
         "0",
         "20",
         "0",
         "1",
         "1"
        ],
        [
         "42",
         "34",
         "0",
         "124.8",
         "82",
         "282.2",
         "98",
         "311.5",
         "78",
         "10.0",
         "4",
         "2",
         "2",
         "2",
         "0",
         "0"
        ],
        [
         "43",
         "160",
         "0",
         "85.8",
         "77",
         "165.3",
         "110",
         "178.5",
         "92",
         "9.2",
         "4",
         "3",
         "13",
         "1",
         "0",
         "0"
        ],
        [
         "44",
         "64",
         "0",
         "154.0",
         "67",
         "225.8",
         "118",
         "265.3",
         "86",
         "3.5",
         "3",
         "1",
         "48",
         "2",
         "0",
         "0"
        ],
        [
         "45",
         "59",
         "28",
         "120.9",
         "97",
         "213.0",
         "92",
         "163.1",
         "116",
         "8.5",
         "5",
         "2",
         "37",
         "0",
         "0",
         "1"
        ],
        [
         "46",
         "65",
         "0",
         "211.3",
         "120",
         "162.6",
         "122",
         "134.7",
         "118",
         "13.2",
         "5",
         "3",
         "22",
         "1",
         "0",
         "0"
        ],
        [
         "47",
         "142",
         "0",
         "187.0",
         "133",
         "134.6",
         "74",
         "242.2",
         "127",
         "7.4",
         "5",
         "2",
         "8",
         "0",
         "0",
         "0"
        ],
        [
         "48",
         "119",
         "0",
         "159.1",
         "114",
         "231.3",
         "117",
         "143.2",
         "91",
         "8.8",
         "3",
         "5",
         "13",
         "1",
         "0",
         "0"
        ],
        [
         "49",
         "97",
         "24",
         "133.2",
         "135",
         "217.2",
         "58",
         "70.6",
         "79",
         "11.0",
         "3",
         "1",
         "50",
         "1",
         "0",
         "1"
        ]
       ],
       "shape": {
        "columns": 15,
        "rows": 3333
       }
      },
      "text/html": [
       "<div>\n",
       "<style scoped>\n",
       "    .dataframe tbody tr th:only-of-type {\n",
       "        vertical-align: middle;\n",
       "    }\n",
       "\n",
       "    .dataframe tbody tr th {\n",
       "        vertical-align: top;\n",
       "    }\n",
       "\n",
       "    .dataframe thead th {\n",
       "        text-align: right;\n",
       "    }\n",
       "</style>\n",
       "<table border=\"1\" class=\"dataframe\">\n",
       "  <thead>\n",
       "    <tr style=\"text-align: right;\">\n",
       "      <th></th>\n",
       "      <th>account length</th>\n",
       "      <th>number vmail messages</th>\n",
       "      <th>total day minutes</th>\n",
       "      <th>total day calls</th>\n",
       "      <th>total eve minutes</th>\n",
       "      <th>total eve calls</th>\n",
       "      <th>total night minutes</th>\n",
       "      <th>total night calls</th>\n",
       "      <th>total intl minutes</th>\n",
       "      <th>total intl calls</th>\n",
       "      <th>customer service calls</th>\n",
       "      <th>state</th>\n",
       "      <th>area code</th>\n",
       "      <th>international plan</th>\n",
       "      <th>voice mail plan</th>\n",
       "    </tr>\n",
       "  </thead>\n",
       "  <tbody>\n",
       "    <tr>\n",
       "      <th>0</th>\n",
       "      <td>128</td>\n",
       "      <td>25</td>\n",
       "      <td>265.1</td>\n",
       "      <td>110</td>\n",
       "      <td>197.4</td>\n",
       "      <td>99</td>\n",
       "      <td>244.7</td>\n",
       "      <td>91</td>\n",
       "      <td>10.0</td>\n",
       "      <td>3</td>\n",
       "      <td>1</td>\n",
       "      <td>16</td>\n",
       "      <td>1</td>\n",
       "      <td>0</td>\n",
       "      <td>1</td>\n",
       "    </tr>\n",
       "    <tr>\n",
       "      <th>1</th>\n",
       "      <td>107</td>\n",
       "      <td>26</td>\n",
       "      <td>161.6</td>\n",
       "      <td>123</td>\n",
       "      <td>195.5</td>\n",
       "      <td>103</td>\n",
       "      <td>254.4</td>\n",
       "      <td>103</td>\n",
       "      <td>13.7</td>\n",
       "      <td>3</td>\n",
       "      <td>1</td>\n",
       "      <td>35</td>\n",
       "      <td>1</td>\n",
       "      <td>0</td>\n",
       "      <td>1</td>\n",
       "    </tr>\n",
       "    <tr>\n",
       "      <th>2</th>\n",
       "      <td>137</td>\n",
       "      <td>0</td>\n",
       "      <td>243.4</td>\n",
       "      <td>114</td>\n",
       "      <td>121.2</td>\n",
       "      <td>110</td>\n",
       "      <td>162.6</td>\n",
       "      <td>104</td>\n",
       "      <td>12.2</td>\n",
       "      <td>5</td>\n",
       "      <td>0</td>\n",
       "      <td>31</td>\n",
       "      <td>1</td>\n",
       "      <td>0</td>\n",
       "      <td>0</td>\n",
       "    </tr>\n",
       "    <tr>\n",
       "      <th>3</th>\n",
       "      <td>84</td>\n",
       "      <td>0</td>\n",
       "      <td>299.4</td>\n",
       "      <td>71</td>\n",
       "      <td>61.9</td>\n",
       "      <td>88</td>\n",
       "      <td>196.9</td>\n",
       "      <td>89</td>\n",
       "      <td>6.6</td>\n",
       "      <td>7</td>\n",
       "      <td>2</td>\n",
       "      <td>35</td>\n",
       "      <td>0</td>\n",
       "      <td>1</td>\n",
       "      <td>0</td>\n",
       "    </tr>\n",
       "    <tr>\n",
       "      <th>4</th>\n",
       "      <td>75</td>\n",
       "      <td>0</td>\n",
       "      <td>166.7</td>\n",
       "      <td>113</td>\n",
       "      <td>148.3</td>\n",
       "      <td>122</td>\n",
       "      <td>186.9</td>\n",
       "      <td>121</td>\n",
       "      <td>10.1</td>\n",
       "      <td>3</td>\n",
       "      <td>3</td>\n",
       "      <td>36</td>\n",
       "      <td>1</td>\n",
       "      <td>1</td>\n",
       "      <td>0</td>\n",
       "    </tr>\n",
       "    <tr>\n",
       "      <th>...</th>\n",
       "      <td>...</td>\n",
       "      <td>...</td>\n",
       "      <td>...</td>\n",
       "      <td>...</td>\n",
       "      <td>...</td>\n",
       "      <td>...</td>\n",
       "      <td>...</td>\n",
       "      <td>...</td>\n",
       "      <td>...</td>\n",
       "      <td>...</td>\n",
       "      <td>...</td>\n",
       "      <td>...</td>\n",
       "      <td>...</td>\n",
       "      <td>...</td>\n",
       "      <td>...</td>\n",
       "    </tr>\n",
       "    <tr>\n",
       "      <th>3328</th>\n",
       "      <td>192</td>\n",
       "      <td>36</td>\n",
       "      <td>156.2</td>\n",
       "      <td>77</td>\n",
       "      <td>215.5</td>\n",
       "      <td>126</td>\n",
       "      <td>279.1</td>\n",
       "      <td>83</td>\n",
       "      <td>9.9</td>\n",
       "      <td>6</td>\n",
       "      <td>2</td>\n",
       "      <td>3</td>\n",
       "      <td>1</td>\n",
       "      <td>0</td>\n",
       "      <td>1</td>\n",
       "    </tr>\n",
       "    <tr>\n",
       "      <th>3329</th>\n",
       "      <td>68</td>\n",
       "      <td>0</td>\n",
       "      <td>231.1</td>\n",
       "      <td>57</td>\n",
       "      <td>153.4</td>\n",
       "      <td>55</td>\n",
       "      <td>191.3</td>\n",
       "      <td>123</td>\n",
       "      <td>9.6</td>\n",
       "      <td>4</td>\n",
       "      <td>3</td>\n",
       "      <td>49</td>\n",
       "      <td>1</td>\n",
       "      <td>0</td>\n",
       "      <td>0</td>\n",
       "    </tr>\n",
       "    <tr>\n",
       "      <th>3330</th>\n",
       "      <td>28</td>\n",
       "      <td>0</td>\n",
       "      <td>180.8</td>\n",
       "      <td>109</td>\n",
       "      <td>288.8</td>\n",
       "      <td>58</td>\n",
       "      <td>191.9</td>\n",
       "      <td>91</td>\n",
       "      <td>14.1</td>\n",
       "      <td>6</td>\n",
       "      <td>2</td>\n",
       "      <td>39</td>\n",
       "      <td>2</td>\n",
       "      <td>0</td>\n",
       "      <td>0</td>\n",
       "    </tr>\n",
       "    <tr>\n",
       "      <th>3331</th>\n",
       "      <td>184</td>\n",
       "      <td>0</td>\n",
       "      <td>213.8</td>\n",
       "      <td>105</td>\n",
       "      <td>159.6</td>\n",
       "      <td>84</td>\n",
       "      <td>139.2</td>\n",
       "      <td>137</td>\n",
       "      <td>5.0</td>\n",
       "      <td>10</td>\n",
       "      <td>2</td>\n",
       "      <td>6</td>\n",
       "      <td>2</td>\n",
       "      <td>1</td>\n",
       "      <td>0</td>\n",
       "    </tr>\n",
       "    <tr>\n",
       "      <th>3332</th>\n",
       "      <td>74</td>\n",
       "      <td>25</td>\n",
       "      <td>234.4</td>\n",
       "      <td>113</td>\n",
       "      <td>265.9</td>\n",
       "      <td>82</td>\n",
       "      <td>241.4</td>\n",
       "      <td>77</td>\n",
       "      <td>13.7</td>\n",
       "      <td>4</td>\n",
       "      <td>0</td>\n",
       "      <td>42</td>\n",
       "      <td>1</td>\n",
       "      <td>0</td>\n",
       "      <td>1</td>\n",
       "    </tr>\n",
       "  </tbody>\n",
       "</table>\n",
       "<p>3333 rows × 15 columns</p>\n",
       "</div>"
      ],
      "text/plain": [
       "      account length  number vmail messages  total day minutes  \\\n",
       "0                128                     25              265.1   \n",
       "1                107                     26              161.6   \n",
       "2                137                      0              243.4   \n",
       "3                 84                      0              299.4   \n",
       "4                 75                      0              166.7   \n",
       "...              ...                    ...                ...   \n",
       "3328             192                     36              156.2   \n",
       "3329              68                      0              231.1   \n",
       "3330              28                      0              180.8   \n",
       "3331             184                      0              213.8   \n",
       "3332              74                     25              234.4   \n",
       "\n",
       "      total day calls  total eve minutes  total eve calls  \\\n",
       "0                 110              197.4               99   \n",
       "1                 123              195.5              103   \n",
       "2                 114              121.2              110   \n",
       "3                  71               61.9               88   \n",
       "4                 113              148.3              122   \n",
       "...               ...                ...              ...   \n",
       "3328               77              215.5              126   \n",
       "3329               57              153.4               55   \n",
       "3330              109              288.8               58   \n",
       "3331              105              159.6               84   \n",
       "3332              113              265.9               82   \n",
       "\n",
       "      total night minutes  total night calls  total intl minutes  \\\n",
       "0                   244.7                 91                10.0   \n",
       "1                   254.4                103                13.7   \n",
       "2                   162.6                104                12.2   \n",
       "3                   196.9                 89                 6.6   \n",
       "4                   186.9                121                10.1   \n",
       "...                   ...                ...                 ...   \n",
       "3328                279.1                 83                 9.9   \n",
       "3329                191.3                123                 9.6   \n",
       "3330                191.9                 91                14.1   \n",
       "3331                139.2                137                 5.0   \n",
       "3332                241.4                 77                13.7   \n",
       "\n",
       "      total intl calls  customer service calls  state  area code  \\\n",
       "0                    3                       1     16          1   \n",
       "1                    3                       1     35          1   \n",
       "2                    5                       0     31          1   \n",
       "3                    7                       2     35          0   \n",
       "4                    3                       3     36          1   \n",
       "...                ...                     ...    ...        ...   \n",
       "3328                 6                       2      3          1   \n",
       "3329                 4                       3     49          1   \n",
       "3330                 6                       2     39          2   \n",
       "3331                10                       2      6          2   \n",
       "3332                 4                       0     42          1   \n",
       "\n",
       "      international plan  voice mail plan  \n",
       "0                      0                1  \n",
       "1                      0                1  \n",
       "2                      0                0  \n",
       "3                      1                0  \n",
       "4                      1                0  \n",
       "...                  ...              ...  \n",
       "3328                   0                1  \n",
       "3329                   0                0  \n",
       "3330                   0                0  \n",
       "3331                   1                0  \n",
       "3332                   0                1  \n",
       "\n",
       "[3333 rows x 15 columns]"
      ]
     },
     "execution_count": 270,
     "metadata": {},
     "output_type": "execute_result"
    }
   ],
   "source": [
    "#prepare the features data matrix\n",
    "\n",
    "X =churn_df1.drop(\"churn\", axis=1)\n",
    "X"
   ]
  },
  {
   "cell_type": "code",
   "execution_count": 271,
   "id": "a99de969",
   "metadata": {},
   "outputs": [
    {
     "data": {
      "text/plain": [
       "(3333, 15)"
      ]
     },
     "execution_count": 271,
     "metadata": {},
     "output_type": "execute_result"
    }
   ],
   "source": [
    "X.shape"
   ]
  },
  {
   "cell_type": "markdown",
   "id": "e4e2656d",
   "metadata": {},
   "source": [
    "##### **5.0) Standadizing the data**\n",
    "1. standadize the features to a more digestible form for the algorithms\n",
    "2. get to gradient descent faster\n",
    "3. Normalization means scaling a variable to have values between 0 and 1\n",
    "4. Standardization tranforms the data to have a mean of 0 and an std dev of 1\n",
    "\n"
   ]
  },
  {
   "cell_type": "code",
   "execution_count": 272,
   "id": "dabac133",
   "metadata": {},
   "outputs": [],
   "source": [
    "scaler = preprocessing.StandardScaler()\n",
    "X = scaler.fit_transform(X)"
   ]
  },
  {
   "cell_type": "code",
   "execution_count": 273,
   "id": "d7d8774a",
   "metadata": {},
   "outputs": [
    {
     "data": {
      "text/plain": [
       "array([[ 6.76489464e-01,  1.23488274e+00,  1.56676695e+00, ...,\n",
       "        -8.45700361e-04, -3.27580479e-01,  1.61708610e+00],\n",
       "       [ 1.49065047e-01,  1.30794844e+00, -3.33737764e-01, ...,\n",
       "        -8.45700361e-04, -3.27580479e-01,  1.61708610e+00],\n",
       "       [ 9.02528501e-01, -5.91759858e-01,  1.16830364e+00, ...,\n",
       "        -8.45700361e-04, -3.27580479e-01, -6.18396261e-01],\n",
       "       ...,\n",
       "       [-1.83505538e+00, -5.91759858e-01,  1.88196330e-02, ...,\n",
       "         1.40851395e+00, -3.27580479e-01, -6.18396261e-01],\n",
       "       [ 2.08295458e+00, -5.91759858e-01,  6.24777658e-01, ...,\n",
       "         1.40851395e+00,  3.05268496e+00, -6.18396261e-01],\n",
       "       [-6.79744752e-01,  1.23488274e+00,  1.00304237e+00, ...,\n",
       "        -8.45700361e-04, -3.27580479e-01,  1.61708610e+00]])"
      ]
     },
     "execution_count": 273,
     "metadata": {},
     "output_type": "execute_result"
    }
   ],
   "source": [
    "X"
   ]
  },
  {
   "cell_type": "code",
   "execution_count": 274,
   "id": "2347a2b8",
   "metadata": {},
   "outputs": [
    {
     "name": "stdout",
     "output_type": "stream",
     "text": [
      "Mean: 5.159056167235051e-17\n",
      "Standard Deviation: 0.9999999999999999\n"
     ]
    }
   ],
   "source": [
    "#confirming the mean and std dev\n",
    "mean = np.mean(X)\n",
    "std = np.std(X)\n",
    "\n",
    "print(\"Mean:\", mean)  # Should be ~0\n",
    "print(\"Standard Deviation:\", std)  # Should be ~1"
   ]
  },
  {
   "cell_type": "markdown",
   "id": "6725c007",
   "metadata": {},
   "source": [
    "The training data is now preprocessed"
   ]
  },
  {
   "cell_type": "markdown",
   "metadata": {},
   "source": []
  },
  {
   "cell_type": "code",
   "execution_count": 275,
   "id": "4fcccd1c",
   "metadata": {},
   "outputs": [],
   "source": [
    "# The data for the output variable is skewed\n",
    "# there is a disproportionate amount in both classes, so this is an imbalanced class. \n",
    "# The 2 variables/classes True and False\n",
    "# Our main prediction is to mon the cases where churn is True, which is small than the normal class where it churn is False\n",
    "\n",
    "# in order to hande this imbalance dataset -------- inorder to avoid bias caused by imbalance in the dataset. We can not directly feed the data that way\n",
    "#We can Use:\n",
    "    #. 1. the KFold method - which expects the classes to be balanced. \n",
    "    # SO we can use the StratifiedKFold method which takes small strata by taking equal proportions of both the classes ie the True and False while doing CrossValidation\n"
   ]
  },
  {
   "cell_type": "markdown",
   "id": "3bc62de2",
   "metadata": {},
   "source": [
    "##### **Gradient Boost Classifier   -clf1**\n",
    "Using the StratifiedKFOLD To create proportion with balanced values of True and False\n",
    "\n",
    "Note: We will not use  Other ways of dealing with imbalanced data is by using undersampling, oversample or SMOTE\n"
   ]
  },
  {
   "cell_type": "code",
   "execution_count": 276,
   "id": "816e6095",
   "metadata": {},
   "outputs": [
    {
     "name": "stdout",
     "output_type": "stream",
     "text": [
      "The results for  Gradient Boost Classifier : 0.9520958083832335\n",
      "The results for  Gradient Boost Classifier : 0.9431137724550899\n",
      "The results for  Gradient Boost Classifier : 0.9640718562874252\n",
      "The results for  Gradient Boost Classifier : 0.9459459459459459\n",
      "The results for  Gradient Boost Classifier : 0.93993993993994\n",
      "The results for  Gradient Boost Classifier : 0.9459459459459459\n",
      "The results for  Gradient Boost Classifier : 0.96996996996997\n",
      "The results for  Gradient Boost Classifier : 0.9369369369369369\n",
      "The results for  Gradient Boost Classifier : 0.9519519519519519\n",
      "The results for  Gradient Boost Classifier : 0.960960960960961\n"
     ]
    }
   ],
   "source": [
    "# spliting the strata into 10 portion but ensuring that the proportion of True and False are balanced\n",
    "\n",
    "skfolds = StratifiedKFold(n_splits=10, shuffle=True, random_state=42) \n",
    "\n",
    "# Implementing Gradient boost classifier \n",
    "gb_clf = GradientBoostingClassifier(random_state=42)\n",
    "\n",
    "\n",
    "def trainer_function(clf_name, gb_clf):\n",
    "    for churn_df1_index, test_index in skfolds.split(X,y):\n",
    "        clone_clf = clone(gb_clf)\n",
    "        x_train_folds = X[churn_df1_index]\n",
    "        y_train_folds = (y[churn_df1_index])\n",
    "        x_test_fold = X[test_index]\n",
    "        y_test_fold = (y[test_index])\n",
    "        clone_clf.fit(x_train_folds,y_train_folds)\n",
    "        y_pred = clone_clf.predict(x_test_fold)\n",
    "        n_correct = sum(y_pred == y_test_fold)\n",
    "        print(\"The results for \", clf_name, \":\", n_correct / len(y_pred))\n",
    "\n",
    "trainer_function(\"Gradient Boost Classifier\", gb_clf)"
   ]
  },
  {
   "cell_type": "markdown",
   "id": "410dc826",
   "metadata": {},
   "source": [
    "##### **Support Vector Machine Classifier   -clf2**"
   ]
  },
  {
   "cell_type": "code",
   "execution_count": 277,
   "id": "72a881c0",
   "metadata": {},
   "outputs": [
    {
     "name": "stdout",
     "output_type": "stream",
     "text": [
      "The results for  Support Vector Machine : 0.9191616766467066\n",
      "The results for  Support Vector Machine : 0.9131736526946108\n",
      "The results for  Support Vector Machine : 0.9251497005988024\n",
      "The results for  Support Vector Machine : 0.918918918918919\n",
      "The results for  Support Vector Machine : 0.9099099099099099\n",
      "The results for  Support Vector Machine : 0.9279279279279279\n",
      "The results for  Support Vector Machine : 0.9369369369369369\n",
      "The results for  Support Vector Machine : 0.8918918918918919\n",
      "The results for  Support Vector Machine : 0.924924924924925\n",
      "The results for  Support Vector Machine : 0.9039039039039038\n"
     ]
    }
   ],
   "source": [
    "svm_clf = SVC(random_state = 42)\n",
    "\n",
    "trainer_function(\"Support Vector Machine\", svm_clf)"
   ]
  },
  {
   "cell_type": "markdown",
   "id": "1b5c968c",
   "metadata": {},
   "source": [
    "##### **Random Forest Classifier   -clf3**"
   ]
  },
  {
   "cell_type": "code",
   "execution_count": 278,
   "id": "769564c7",
   "metadata": {},
   "outputs": [
    {
     "name": "stdout",
     "output_type": "stream",
     "text": [
      "The results for  Random orest Classifier : 0.9431137724550899\n",
      "The results for  Random orest Classifier : 0.9311377245508982\n",
      "The results for  Random orest Classifier : 0.9640718562874252\n",
      "The results for  Random orest Classifier : 0.93993993993994\n",
      "The results for  Random orest Classifier : 0.9429429429429429\n",
      "The results for  Random orest Classifier : 0.924924924924925\n",
      "The results for  Random orest Classifier : 0.9669669669669669\n",
      "The results for  Random orest Classifier : 0.9309309309309309\n",
      "The results for  Random orest Classifier : 0.93993993993994\n",
      "The results for  Random orest Classifier : 0.960960960960961\n"
     ]
    }
   ],
   "source": [
    "\n",
    "rf_clf = RandomForestClassifier(random_state = 42)\n",
    "\n",
    "trainer_function(\"Random orest Classifier\", rf_clf)"
   ]
  },
  {
   "cell_type": "markdown",
   "id": "38ae1029",
   "metadata": {},
   "source": [
    "##### **K Nearest Neighbor Classifier   -clf4**"
   ]
  },
  {
   "cell_type": "code",
   "execution_count": 279,
   "id": "e87017f7",
   "metadata": {},
   "outputs": [
    {
     "name": "stdout",
     "output_type": "stream",
     "text": [
      "The results for  K Nearest Neighbor Classifier : 0.8832335329341318\n",
      "The results for  K Nearest Neighbor Classifier : 0.8922155688622755\n",
      "The results for  K Nearest Neighbor Classifier : 0.8892215568862275\n",
      "The results for  K Nearest Neighbor Classifier : 0.8948948948948949\n",
      "The results for  K Nearest Neighbor Classifier : 0.8888888888888888\n",
      "The results for  K Nearest Neighbor Classifier : 0.8798798798798799\n",
      "The results for  K Nearest Neighbor Classifier : 0.8828828828828829\n",
      "The results for  K Nearest Neighbor Classifier : 0.8798798798798799\n",
      "The results for  K Nearest Neighbor Classifier : 0.8948948948948949\n",
      "The results for  K Nearest Neighbor Classifier : 0.8738738738738738\n"
     ]
    }
   ],
   "source": [
    "# Implementing K Nearest Neighbor Classifier ------- This is our Fourth classifier\n",
    "\n",
    "knn_clf = KNeighborsClassifier()\n",
    "\n",
    "trainer_function(\"K Nearest Neighbor Classifier\", knn_clf)"
   ]
  },
  {
   "cell_type": "markdown",
   "id": "d7ef459b",
   "metadata": {},
   "source": [
    "##### **Decission Tree Classifier   -clf5**"
   ]
  },
  {
   "cell_type": "code",
   "execution_count": 280,
   "id": "c084eb9c",
   "metadata": {},
   "outputs": [
    {
     "name": "stdout",
     "output_type": "stream",
     "text": [
      "The results for  Decission Tree Classifier : 0.9221556886227545\n",
      "The results for  Decission Tree Classifier : 0.9161676646706587\n",
      "The results for  Decission Tree Classifier : 0.9161676646706587\n",
      "The results for  Decission Tree Classifier : 0.9039039039039038\n",
      "The results for  Decission Tree Classifier : 0.9129129129129129\n",
      "The results for  Decission Tree Classifier : 0.9159159159159159\n",
      "The results for  Decission Tree Classifier : 0.933933933933934\n",
      "The results for  Decission Tree Classifier : 0.9009009009009009\n",
      "The results for  Decission Tree Classifier : 0.9099099099099099\n",
      "The results for  Decission Tree Classifier : 0.924924924924925\n"
     ]
    }
   ],
   "source": [
    "# Implementing Decission Tree Classifier\n",
    "\n",
    "dt_clf = DecisionTreeClassifier(random_state=42)\n",
    "\n",
    "trainer_function(\"Decission Tree Classifier\", dt_clf)"
   ]
  },
  {
   "cell_type": "markdown",
   "id": "7c219d5e",
   "metadata": {},
   "source": [
    "##### **Logistic Regression   -clf6**"
   ]
  },
  {
   "cell_type": "code",
   "execution_count": 281,
   "id": "353afd5f",
   "metadata": {},
   "outputs": [
    {
     "name": "stdout",
     "output_type": "stream",
     "text": [
      "The results for  Logistic Regression : 0.8562874251497006\n",
      "The results for  Logistic Regression : 0.8652694610778443\n",
      "The results for  Logistic Regression : 0.8502994011976048\n",
      "The results for  Logistic Regression : 0.8618618618618619\n",
      "The results for  Logistic Regression : 0.8528528528528528\n",
      "The results for  Logistic Regression : 0.8648648648648649\n",
      "The results for  Logistic Regression : 0.8678678678678678\n",
      "The results for  Logistic Regression : 0.8678678678678678\n",
      "The results for  Logistic Regression : 0.8528528528528528\n",
      "The results for  Logistic Regression : 0.8678678678678678\n"
     ]
    }
   ],
   "source": [
    "# Implementing Logistic Regression  \n",
    "\n",
    "log_clf = LogisticRegression(random_state=42)\n",
    "\n",
    "trainer_function(\"Logistic Regression\", log_clf)"
   ]
  },
  {
   "cell_type": "markdown",
   "id": "f6f0d0e0",
   "metadata": {},
   "source": [
    "Note: The gradient Boosting Method wins compared to other classifiers"
   ]
  },
  {
   "cell_type": "code",
   "execution_count": 282,
   "id": "ca497e4f",
   "metadata": {},
   "outputs": [
    {
     "data": {
      "text/plain": [
       "array([0.86526946, 0.85628743, 0.88922156, 0.88288288, 0.87387387,\n",
       "       0.81681682, 0.87387387, 0.81681682, 0.81681682, 0.85885886])"
      ]
     },
     "execution_count": 282,
     "metadata": {},
     "output_type": "execute_result"
    }
   ],
   "source": [
    "#Without any ML algorith and just by random guessing, all the predictions are normal (where 0=normal and 1=churn) meaning there is no churn\n",
    "\n",
    "# implementing a random guessing criteria without a model\n",
    "class NoChurn(BaseEstimator):\n",
    "    def fit(self, X, y=None):\n",
    "        pass\n",
    "\n",
    "    def predict(self, X):\n",
    "        return np.zeros((len(X), 1), dtype=bool)  #predicting zeros, instances where there is no churn at all\n",
    "    \n",
    "No_Churn = NoChurn()\n",
    "cross_val_score(No_Churn, X , y, cv=10,scoring=\"accuracy\")"
   ]
  },
  {
   "cell_type": "markdown",
   "id": "96ea767e",
   "metadata": {},
   "source": [
    "The result above shows that even by random guessing I am not making a bad decission. The problem here is that we dealt with accaracy alone. For a skewed dataset, we cannot only rely on the accuracy portion. Therefore we have to look into the confussion matrix to check on the precisison and reall and f1 score scores."
   ]
  },
  {
   "cell_type": "markdown",
   "id": "bcdbb8e0",
   "metadata": {},
   "source": [
    "##### **Confusion Matrix**\n",
    "The applied modern classifiers are slightly better than a random guess\n",
    "\n",
    "We can explore precission, recall and ROC using the confussion matrix\n",
    "\n",
    "So far the classiffiers used include : gb_clf, svc_clf, rf_clf, knn_clf, dt_clf, log_clf\n"
   ]
  },
  {
   "cell_type": "code",
   "execution_count": 283,
   "id": "ac192c50",
   "metadata": {},
   "outputs": [
    {
     "data": {
      "image/png": "[encoded data removed]",
      "text/plain": [
       "<Figure size 640x480 with 2 Axes>"
      ]
     },
     "metadata": {},
     "output_type": "display_data"
    }
   ],
   "source": [
    "y_pred = cross_val_predict(gb_clf, X, y, cv=10)\n",
    "\n",
    "cm = confusion_matrix(y,y_pred)\n",
    "\n",
    "class_names = ['False','True']\n",
    "\n",
    "\n",
    "def plot_conf_matrix(class_names, cm):\n",
    "    disp = ConfusionMatrixDisplay(confusion_matrix=cm, display_labels=class_names)\n",
    "    disp.plot(cmap=plt.cm.Blues) # You can change the colormap\n",
    "    plt.title('Confusion Matrix')\n",
    "    plt.show()\n",
    "\n",
    "plot_conf_matrix(class_names,cm)"
   ]
  },
  {
   "cell_type": "markdown",
   "id": "1a7c3ce0",
   "metadata": {},
   "source": [
    "##### **Confusion Matrix Interpretation**\n",
    "\n",
    "**First Row**\n",
    "\n",
    "2810 are not churn and the code correctly predicted no churn------ TN\n",
    "\n",
    "40 wrongly classified as no churn----------------------------------FP \n",
    "\n",
    "\n",
    "\n",
    "**Second Row**\n",
    "\n",
    "355 were churn  and the code correctly  identified churn ----------TP\n",
    "\n",
    "128 were not churn  but was classified as churn -------------------FN"
   ]
  },
  {
   "cell_type": "code",
   "execution_count": 284,
   "id": "5990e242",
   "metadata": {},
   "outputs": [],
   "source": [
    "# claculating prcission and recall\n",
    "\n",
    "# Precission = TP/(TP+FP)\n",
    "# Recall = TP/(TP+FN)\n"
   ]
  },
  {
   "cell_type": "markdown",
   "id": "e2dafd45",
   "metadata": {},
   "source": [
    "It is okay to predict that a  person  is going to churn even if in reality they are not going to churn.\n",
    "The situtation is okay as it is used to calculate precission\n",
    "\n",
    "On the other hand if we predict that a person is not going to churn but in reality that person is going to churn then it means loss in business\n",
    "the situation is is used in calculating Recall"
   ]
  },
  {
   "cell_type": "markdown",
   "id": "8846840a",
   "metadata": {},
   "source": [
    "##### **Calculating precission  for the classifiers**\n",
    "\n",
    "**1.  Precission for Boost Classifier Precission/Recall**"
   ]
  },
  {
   "cell_type": "code",
   "execution_count": 285,
   "id": "1797deff",
   "metadata": {},
   "outputs": [
    {
     "name": "stdout",
     "output_type": "stream",
     "text": [
      "Gradient Boost Classifier Precission Score:  0.8987341772151899\n",
      "Gradient Boost Classifier Recall Score:  0.7349896480331263\n"
     ]
    }
   ],
   "source": [
    "# Calculating precission  for the classifiers\n",
    "\n",
    "# Precission for gb_clf classifier\n",
    "print(\"Gradient Boost Classifier Precission Score: \", precision_score(y,y_pred))\n",
    "print(\"Gradient Boost Classifier Recall Score: \", recall_score(y,y_pred))"
   ]
  },
  {
   "cell_type": "markdown",
   "id": "f8c1c6fe",
   "metadata": {},
   "source": [
    "The gradient Boost Clasifier is not doing well as compared to the initial results\n",
    "\n",
    "This means that the threshold is not correctly set for the decission making\n",
    "\n",
    "We could try moving the threshold upwards or downwards"
   ]
  },
  {
   "cell_type": "code",
   "execution_count": 286,
   "id": "fe56f515",
   "metadata": {},
   "outputs": [
    {
     "data": {
      "image/png": "[encoded data removed]",
      "text/plain": [
       "<Figure size 640x480 with 1 Axes>"
      ]
     },
     "metadata": {},
     "output_type": "display_data"
    }
   ],
   "source": [
    "# SKlearn does not allow moving the threshold directly, \n",
    "# therefore use the cross_val_oredict  to find the threshold by ploting it against precission-recall \n",
    "\n",
    "y_scores = cross_val_predict(gb_clf, X, y, cv=10, method=\"decision_function\")\n",
    "\n",
    "# use the y_scores to find the thresholds\n",
    "\n",
    "precisions, recalls, thresholds = precision_recall_curve(y, y_scores)\n",
    "\n",
    "# function to plot the precission recall curve\n",
    "\n",
    "def plot_precission_recall_vs_threshold(precisions, recalls, thresholds):\n",
    "    plt.plot(thresholds, precisions[:-1], \"b-\", label=\"Precision\")\n",
    "    plt.plot(thresholds, recalls[:-1], \"g-\", label=\"Recall\")\n",
    "    plt.xlabel(\"Threshold\")\n",
    "    plt.legend(loc=\"upper left\")\n",
    "    plt.ylim([0,1])\n",
    "\n",
    "plot_precission_recall_vs_threshold(precisions, recalls, thresholds)\n",
    "plt.show()\n",
    "\n",
    "\n"
   ]
  },
  {
   "cell_type": "code",
   "execution_count": 287,
   "id": "28019822",
   "metadata": {},
   "outputs": [],
   "source": [
    "# Point of interest is the portion where precision and recall intersect about 82% ----- 0.82"
   ]
  },
  {
   "cell_type": "code",
   "execution_count": 288,
   "id": "2bf2fa9e",
   "metadata": {},
   "outputs": [
    {
     "data": {
      "text/plain": [
       "Text(0, 0.5, 'Precision')"
      ]
     },
     "execution_count": 288,
     "metadata": {},
     "output_type": "execute_result"
    },
    {
     "data": {
      "image/png": "[encoded data removed]",
      "text/plain": [
       "<Figure size 640x480 with 1 Axes>"
      ]
     },
     "metadata": {},
     "output_type": "display_data"
    }
   ],
   "source": [
    "# Plot precision against Recall to make a better visualization\n",
    "\n",
    "plt.plot(precisions, recalls)\n",
    "plt.xlabel(\"Recall\")\n",
    "plt.ylabel(\"Precision\")\n"
   ]
  },
  {
   "cell_type": "markdown",
   "id": "8c3f5fb3",
   "metadata": {},
   "source": [
    "Roughly after point 0.82 recall goes high while precission falls\n",
    "\n",
    "However we have to keep in mind that we have to trade off between precission and recall. \n",
    "\n",
    "i.e We need a high recall but that will also affect prcission, so we must be very particular when chosing the threshold.\n",
    "\n",
    "For the time being We'll use 82%. This is where the business people will tell us the number. What % of recall there are comfortable with."
   ]
  },
  {
   "cell_type": "code",
   "execution_count": 289,
   "id": "b44c0d82",
   "metadata": {},
   "outputs": [
    {
     "data": {
      "text/plain": [
       "array([-2.75478562, -3.28558897, -3.5608808 , ..., -2.96551893,\n",
       "       -3.34403758, -2.40946088])"
      ]
     },
     "execution_count": 289,
     "metadata": {},
     "output_type": "execute_result"
    }
   ],
   "source": [
    "# Print y_scores\n",
    "y_scores"
   ]
  },
  {
   "cell_type": "markdown",
   "id": "69d94d09",
   "metadata": {},
   "source": [
    "Consider using a new thresholds\n",
    "\n",
    "Previous Precision and Recall with gradient boost clasifier\n",
    "\n",
    "Gradient Boost Classifier Precission Score:  0.8987341772151899\n",
    "\n",
    "Gradient Boost Classifier Recall Score:  0.7349896480331263"
   ]
  },
  {
   "cell_type": "code",
   "execution_count": 290,
   "id": "338d4f05",
   "metadata": {},
   "outputs": [
    {
     "name": "stdout",
     "output_type": "stream",
     "text": [
      "New precision :  0.8195020746887967\n",
      "New Recall :  0.8178053830227743\n"
     ]
    }
   ],
   "source": [
    "# Geting an 82% recall requires a threshold\n",
    "\n",
    "y_new_scores = (y_scores> -0.87)           # -0.87 threshold is obtained from the graph which resulted to about 89% off recall\n",
    "print(\"New precision : \", precision_score(y,y_new_scores))\n",
    "print(\"New Recall : \", recall_score(y,y_new_scores))\n"
   ]
  },
  {
   "cell_type": "markdown",
   "id": "89978153",
   "metadata": {},
   "source": [
    "Changing the clasifier threshold helps us change the precission and recall depending on businbess demands\n",
    "\n",
    "This improved recall at the expense of precission, but for business recall is very important\n",
    "\n",
    "For instance if we want to improve churn by giving more talk time, discounts on recharges and other promotions, \n",
    "\n",
    "Its okay to give customers these incentives who we thought would churn (but in reality maybe they would not churn)\n",
    "\n",
    "This can allow us atleast try to stop the actual churn\n",
    "\n",
    "These results are for GCL since it had the highest accuracy and does not mean that the other clasifiers will not have better precision or recall"
   ]
  },
  {
   "cell_type": "code",
   "execution_count": null,
   "id": "ffdb48bb",
   "metadata": {},
   "outputs": [],
   "source": []
  },
  {
   "cell_type": "markdown",
   "id": "59f7d838",
   "metadata": {},
   "source": [
    "##### **The ROC curve**\n",
    "The Receiver Operating Characteristic is useful in binary clasifiers\n",
    "\n",
    "It plots true positive rate (also known as recall) against false positive rate"
   ]
  },
  {
   "cell_type": "code",
   "execution_count": 291,
   "id": "6aa0ea52",
   "metadata": {},
   "outputs": [
    {
     "data": {
      "image/png": "[encoded data removed]",
      "text/plain": [
       "<Figure size 640x480 with 1 Axes>"
      ]
     },
     "metadata": {},
     "output_type": "display_data"
    }
   ],
   "source": [
    "fpr, tpr, thresholds = roc_curve(y,y_scores)\n",
    "\n",
    "#function to plot roc curve\n",
    "\n",
    "def plot_roc_curve(fpr, tpr, label=None):\n",
    "    plt.plot(fpr, tpr, linewidth= 2, label=label)\n",
    "    plt.plot([0,1], [0,1], 'k--')\n",
    "    plt.axis([0,1,0,1])\n",
    "    plt.xlabel(\"False Positive Rate\")\n",
    "    plt.ylabel(\"True Positive Rate\")\n",
    "\n",
    "plot_roc_curve(fpr,tpr)\n",
    "plt.show()\n",
    "\n"
   ]
  },
  {
   "cell_type": "code",
   "execution_count": 292,
   "id": "3dd14b40",
   "metadata": {},
   "outputs": [],
   "source": [
    "# we have recall (false positive rate) about point 82%. after that it keeps going up but other things also get affected.\n",
    "\n",
    "# these parformance matrics tell us that we can try to achieve an 82% recall by chnaging the threshold values \n",
    "\n",
    "# in real world this how we decide which classifier should we use, what threshold should we use and depending on the dataset and the project we go either precission or recall or even accuracy. It all depends on the context\n"
   ]
  },
  {
   "cell_type": "markdown",
   "id": "8f97d0ed",
   "metadata": {},
   "source": [
    "**2.  Support Vector Machine Classifier Precission/Recall**"
   ]
  },
  {
   "cell_type": "code",
   "execution_count": 293,
   "id": "8668146b",
   "metadata": {},
   "outputs": [
    {
     "data": {
      "image/png": "[encoded data removed]",
      "text/plain": [
       "<Figure size 640x480 with 2 Axes>"
      ]
     },
     "metadata": {},
     "output_type": "display_data"
    }
   ],
   "source": [
    "y_pred = cross_val_predict(svm_clf, X, y, cv=10)\n",
    "\n",
    "cm = confusion_matrix(y,y_pred)\n",
    "\n",
    "plot_conf_matrix(class_names,cm)"
   ]
  },
  {
   "cell_type": "code",
   "execution_count": 294,
   "id": "22e4cdad",
   "metadata": {},
   "outputs": [
    {
     "name": "stdout",
     "output_type": "stream",
     "text": [
      "Gradient SVM Classifier Precission Score:  0.8703703703703703\n",
      "Gradient SVM Recall Score:  0.4865424430641822\n"
     ]
    }
   ],
   "source": [
    " #Calculating precission  for the classifiers\n",
    "\n",
    "# Precission for svm_clf classifier\n",
    "print(\"Gradient SVM Classifier Precission Score: \", precision_score(y,y_pred))\n",
    "print(\"Gradient SVM Recall Score: \", recall_score(y,y_pred))"
   ]
  },
  {
   "cell_type": "code",
   "execution_count": 295,
   "id": "7157a669",
   "metadata": {},
   "outputs": [
    {
     "data": {
      "image/png": "[encoded data removed]",
      "text/plain": [
       "<Figure size 640x480 with 1 Axes>"
      ]
     },
     "metadata": {},
     "output_type": "display_data"
    }
   ],
   "source": [
    "y_scores = cross_val_predict(svm_clf, X, y, cv=10, method=\"decision_function\")\n",
    "\n",
    "# use the y_scores to find the thresholds\n",
    "\n",
    "precisions, recalls, thresholds = precision_recall_curve(y, y_scores)\n",
    "plot_precission_recall_vs_threshold(precisions, recalls, thresholds)\n",
    "plt.show()"
   ]
  },
  {
   "cell_type": "code",
   "execution_count": 296,
   "id": "e5cb1294",
   "metadata": {},
   "outputs": [
    {
     "name": "stdout",
     "output_type": "stream",
     "text": [
      "New precision :  0.6895874263261297\n",
      "New Recall :  0.7267080745341615\n"
     ]
    }
   ],
   "source": [
    "y_new_scores = (y_scores> -0.5)           # -0.5 threshold is obtained from the graph which resulted to about 72% off recall\n",
    "print(\"New precision : \", precision_score(y,y_new_scores))\n",
    "print(\"New Recall : \", recall_score(y,y_new_scores))"
   ]
  },
  {
   "cell_type": "code",
   "execution_count": 311,
   "id": "5abf5ce0",
   "metadata": {},
   "outputs": [
    {
     "data": {
      "image/png": "[encoded data removed]",
      "text/plain": [
       "<Figure size 640x480 with 1 Axes>"
      ]
     },
     "metadata": {},
     "output_type": "display_data"
    }
   ],
   "source": [
    "#ROC Curve\n",
    "\n",
    "fpr, tpr, thresholds = roc_curve(y,y_scores)\n",
    "plot_roc_curve(fpr,tpr)\n",
    "plt.show()\n",
    "\n",
    "\n"
   ]
  },
  {
   "cell_type": "markdown",
   "id": "65024f9b",
   "metadata": {},
   "source": [
    "**2.  Ramdom Forest Classifier Precission/Recall**"
   ]
  },
  {
   "cell_type": "code",
   "execution_count": 298,
   "id": "0ee17726",
   "metadata": {},
   "outputs": [
    {
     "data": {
      "image/png": "[encoded data removed]",
      "text/plain": [
       "<Figure size 640x480 with 2 Axes>"
      ]
     },
     "metadata": {},
     "output_type": "display_data"
    }
   ],
   "source": [
    "y_pred = cross_val_predict(rf_clf, X, y, cv=10)\n",
    "\n",
    "cm = confusion_matrix(y,y_pred)\n",
    "\n",
    "plot_conf_matrix(class_names,cm)"
   ]
  },
  {
   "cell_type": "code",
   "execution_count": 299,
   "id": "ee04dc7b",
   "metadata": {},
   "outputs": [
    {
     "name": "stdout",
     "output_type": "stream",
     "text": [
      "Gradient RF Classifier Precission Score:  0.945619335347432\n",
      "Gradient RF Recall Score:  0.6480331262939959\n"
     ]
    }
   ],
   "source": [
    "# Precission for rf_clf classifier\n",
    "print(\"Gradient RF Classifier Precission Score: \", precision_score(y,y_pred))\n",
    "print(\"Gradient RF Recall Score: \", recall_score(y,y_pred))\n"
   ]
  },
  {
   "cell_type": "code",
   "execution_count": 300,
   "id": "0aa7776f",
   "metadata": {},
   "outputs": [
    {
     "data": {
      "image/png": "[encoded data removed]",
      "text/plain": [
       "<Figure size 640x480 with 1 Axes>"
      ]
     },
     "metadata": {},
     "output_type": "display_data"
    }
   ],
   "source": [
    "y_scores = cross_val_predict(svm_clf, X, y, cv=10, method=\"decision_function\")\n",
    "\n",
    "# use the y_scores to find the thresholds\n",
    "\n",
    "precisions, recalls, thresholds = precision_recall_curve(y, y_scores)\n",
    "plot_precission_recall_vs_threshold(precisions, recalls, thresholds)\n",
    "plt.show()"
   ]
  },
  {
   "cell_type": "code",
   "execution_count": 301,
   "id": "4030c6ad",
   "metadata": {},
   "outputs": [
    {
     "name": "stdout",
     "output_type": "stream",
     "text": [
      "New precision :  0.6895874263261297\n",
      "New Recall :  0.7267080745341615\n"
     ]
    }
   ],
   "source": [
    "y_new_scores = (y_scores> -0.5)           # -0.5 threshold is obtained from the graph which resulted to about 72% off recall\n",
    "print(\"New precision : \", precision_score(y,y_new_scores))\n",
    "print(\"New Recall : \", recall_score(y,y_new_scores))"
   ]
  },
  {
   "cell_type": "code",
   "execution_count": 302,
   "id": "a4432583",
   "metadata": {},
   "outputs": [
    {
     "data": {
      "image/png": "[encoded data removed]",
      "text/plain": [
       "<Figure size 640x480 with 1 Axes>"
      ]
     },
     "metadata": {},
     "output_type": "display_data"
    }
   ],
   "source": [
    "#ROC Curve\n",
    "\n",
    "fpr, tpr, thresholds = roc_curve(y,y_scores)\n",
    "plot_roc_curve(fpr,tpr)\n",
    "plt.show()\n"
   ]
  },
  {
   "cell_type": "markdown",
   "id": "ee2b9f3a",
   "metadata": {},
   "source": [
    "From the Outcomes, Gradient Boost Classifier perferoms the best\n",
    "\n",
    "GB tells us that we can achieve an over 80% recall by chnaging the threhold values\n",
    "\n",
    "Using a Thresholh of 0.87, the SyriaTelco will achieve the hiesgt recall."
   ]
  },
  {
   "cell_type": "markdown",
   "id": "a73cf700",
   "metadata": {},
   "source": [
    "T"
   ]
  }
 ],
 "metadata": {
  "kernelspec": {
   "display_name": "base",
   "language": "python",
   "name": "python3"
  },
  "language_info": {
   "codemirror_mode": {
    "name": "ipython",
    "version": 3
   },
   "file_extension": ".py",
   "mimetype": "text/x-python",
   "name": "python",
   "nbconvert_exporter": "python",
   "pygments_lexer": "ipython3",
   "version": "3.13.5"
  }
 },
 "nbformat": 4,
 "nbformat_minor": 5
}
